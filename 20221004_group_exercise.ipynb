{
 "cells": [
  {
   "cell_type": "markdown",
   "metadata": {},
   "source": [
    "# Evaluate APIs, define DAO membership\n",
    "- Who is a DAO member? Followers in Snapshot? Token holders? DeepDAO (active?) membership?\n",
    "- In the broadest sense, DAO membership can include followers, who are also important community participants in a DAO "
   ]
  },
  {
   "cell_type": "code",
   "execution_count": 1,
   "metadata": {},
   "outputs": [],
   "source": [
    "from util import snapshot_api\n",
    "import pandas as pd"
   ]
  },
  {
   "cell_type": "markdown",
   "metadata": {},
   "source": [
    "# Members, wealth, and voting\n",
    "- Pick a small (<1k), medium (<10k), and large DAO (10k+)"
   ]
  },
  {
   "cell_type": "code",
   "execution_count": 2,
   "metadata": {
    "tags": []
   },
   "outputs": [
    {
     "name": "stdout",
     "output_type": "stream",
     "text": [
      "<Response [200]>\n"
     ]
    },
    {
     "data": {
      "text/html": [
       "<div>\n",
       "<style scoped>\n",
       "    .dataframe tbody tr th:only-of-type {\n",
       "        vertical-align: middle;\n",
       "    }\n",
       "\n",
       "    .dataframe tbody tr th {\n",
       "        vertical-align: top;\n",
       "    }\n",
       "\n",
       "    .dataframe thead th {\n",
       "        text-align: right;\n",
       "    }\n",
       "</style>\n",
       "<table border=\"1\" class=\"dataframe\">\n",
       "  <thead>\n",
       "    <tr style=\"text-align: right;\">\n",
       "      <th></th>\n",
       "      <th>id</th>\n",
       "      <th>name</th>\n",
       "      <th>followersCount</th>\n",
       "    </tr>\n",
       "  </thead>\n",
       "  <tbody>\n",
       "    <tr>\n",
       "      <th>586</th>\n",
       "      <td>ens.eth</td>\n",
       "      <td>ENS</td>\n",
       "      <td>69227</td>\n",
       "    </tr>\n",
       "    <tr>\n",
       "      <th>910</th>\n",
       "      <td>gitcoindao.eth</td>\n",
       "      <td>Gitcoin</td>\n",
       "      <td>55738</td>\n",
       "    </tr>\n",
       "    <tr>\n",
       "      <th>777</th>\n",
       "      <td>uniswap</td>\n",
       "      <td>Uniswap</td>\n",
       "      <td>41619</td>\n",
       "    </tr>\n",
       "    <tr>\n",
       "      <th>431</th>\n",
       "      <td>olympusdao.eth</td>\n",
       "      <td>OlympusDAO</td>\n",
       "      <td>23167</td>\n",
       "    </tr>\n",
       "    <tr>\n",
       "      <th>598</th>\n",
       "      <td>banklessvault.eth</td>\n",
       "      <td>Bankless DAO</td>\n",
       "      <td>22231</td>\n",
       "    </tr>\n",
       "    <tr>\n",
       "      <th>...</th>\n",
       "      <td>...</td>\n",
       "      <td>...</td>\n",
       "      <td>...</td>\n",
       "    </tr>\n",
       "    <tr>\n",
       "      <th>574</th>\n",
       "      <td>hegic.eth</td>\n",
       "      <td>Hegic</td>\n",
       "      <td>0</td>\n",
       "    </tr>\n",
       "    <tr>\n",
       "      <th>376</th>\n",
       "      <td>resistanceio.eth</td>\n",
       "      <td>resdx.io</td>\n",
       "      <td>0</td>\n",
       "    </tr>\n",
       "    <tr>\n",
       "      <th>840</th>\n",
       "      <td>kaiinutoken.eth</td>\n",
       "      <td>Kai Inu Community</td>\n",
       "      <td>0</td>\n",
       "    </tr>\n",
       "    <tr>\n",
       "      <th>155</th>\n",
       "      <td>hoedao.eth</td>\n",
       "      <td>HoeDAO</td>\n",
       "      <td>0</td>\n",
       "    </tr>\n",
       "    <tr>\n",
       "      <th>0</th>\n",
       "      <td>bonustrack.eth</td>\n",
       "      <td>Hi</td>\n",
       "      <td>0</td>\n",
       "    </tr>\n",
       "  </tbody>\n",
       "</table>\n",
       "<p>1000 rows × 3 columns</p>\n",
       "</div>"
      ],
      "text/plain": [
       "                    id               name  followersCount\n",
       "586            ens.eth                ENS           69227\n",
       "910     gitcoindao.eth            Gitcoin           55738\n",
       "777            uniswap            Uniswap           41619\n",
       "431     olympusdao.eth         OlympusDAO           23167\n",
       "598  banklessvault.eth       Bankless DAO           22231\n",
       "..                 ...                ...             ...\n",
       "574          hegic.eth              Hegic               0\n",
       "376   resistanceio.eth           resdx.io               0\n",
       "840    kaiinutoken.eth  Kai Inu Community               0\n",
       "155         hoedao.eth             HoeDAO               0\n",
       "0       bonustrack.eth                 Hi               0\n",
       "\n",
       "[1000 rows x 3 columns]"
      ]
     },
     "execution_count": 2,
     "metadata": {},
     "output_type": "execute_result"
    }
   ],
   "source": [
    "query = \"\"\"\n",
    "query {\n",
    "  spaces(\n",
    "    first: 10000\n",
    "    orderBy: \"followersCount\"\n",
    "    orderDirection: asc\n",
    "  ) {\n",
    "    id\n",
    "    name\n",
    "    followersCount\n",
    "  }\n",
    "}\n",
    "\"\"\"\n",
    "\n",
    "res = snapshot_api(query)\n",
    "df_spaces = (\n",
    "    pd.DataFrame(res['spaces'])\n",
    "    .sort_values('followersCount', ascending = False)\n",
    ")\n",
    "df_spaces"
   ]
  },
  {
   "cell_type": "code",
   "execution_count": 3,
   "metadata": {
    "tags": []
   },
   "outputs": [
    {
     "name": "stdout",
     "output_type": "stream",
     "text": [
      "\n",
      "SMALL: apeswap-finance.eth (743) \n",
      "MEDIUM: quickvote.eth (2,241) \n",
      "LARGE: xdaistake.eth (11,390) \n",
      "\n"
     ]
    }
   ],
   "source": [
    "dao_small = df_spaces.query('250 < followersCount < 750').iloc[0]\n",
    "dao_medium = df_spaces.query('1000 < followersCount < 2500').iloc[0]\n",
    "dao_large = df_spaces.query('10000 < followersCount < 12000').iloc[0]\n",
    "print(f'''\n",
    "SMALL: {dao_small.id} ({dao_small.followersCount:,d}) \n",
    "MEDIUM: {dao_medium.id} ({dao_medium.followersCount:,d}) \n",
    "LARGE: {dao_large.id} ({dao_large.followersCount:,d}) \n",
    "''')\n"
   ]
  },
  {
   "cell_type": "markdown",
   "metadata": {},
   "source": [
    "- Get all members (if possible try different APIs)"
   ]
  },
  {
   "cell_type": "code",
   "execution_count": 4,
   "metadata": {
    "tags": []
   },
   "outputs": [],
   "source": [
    "def get_followers(space):\n",
    "    followers = []\n",
    "    i = 0\n",
    "    while True:\n",
    "        skip = (i) * 1000\n",
    "        first = (i+1) * 1000 \n",
    "        query = \"\"\"\n",
    "        query {\n",
    "          follows(\n",
    "            first: \"\"\" + str(first) + \"\"\",\n",
    "            skip: \"\"\" + str(skip) + \"\"\",\n",
    "            where: {space: \"\"\" + f'\"{space}\"' + \"\"\"}\n",
    "          ){\n",
    "            id\n",
    "          }\n",
    "        }\n",
    "        \"\"\"\n",
    "        res = snapshot_api(query)\n",
    "        followers += res['follows']\n",
    "        if len(res['follows']) < 1000:\n",
    "            break\n",
    "        i += 1\n",
    "\n",
    "    df_followers = pd.DataFrame(followers)\n",
    "    return df_followers"
   ]
  },
  {
   "cell_type": "code",
   "execution_count": 5,
   "metadata": {},
   "outputs": [
    {
     "name": "stdout",
     "output_type": "stream",
     "text": [
      "<Response [200]>\n"
     ]
    }
   ],
   "source": [
    "df_followers_small = get_followers(dao_small.id)\n",
    "df_followers_medium = get_followers(dao_medium.id)\n",
    "df_followers_large = get_followers(dao_large.id)"
   ]
  },
  {
   "cell_type": "code",
   "execution_count": 107,
   "metadata": {},
   "outputs": [
    {
     "name": "stdout",
     "output_type": "stream",
     "text": [
      "<class 'pandas.core.frame.DataFrame'>\n",
      "RangeIndex: 743 entries, 0 to 742\n",
      "Data columns (total 1 columns):\n",
      " #   Column  Non-Null Count  Dtype \n",
      "---  ------  --------------  ----- \n",
      " 0   id      743 non-null    object\n",
      "dtypes: object(1)\n",
      "memory usage: 5.9+ KB\n"
     ]
    }
   ],
   "source": [
    "df_followers_small.info()"
   ]
  },
  {
   "cell_type": "code",
   "execution_count": 108,
   "metadata": {},
   "outputs": [
    {
     "name": "stdout",
     "output_type": "stream",
     "text": [
      "<class 'pandas.core.frame.DataFrame'>\n",
      "RangeIndex: 2241 entries, 0 to 2240\n",
      "Data columns (total 1 columns):\n",
      " #   Column  Non-Null Count  Dtype \n",
      "---  ------  --------------  ----- \n",
      " 0   id      2241 non-null   object\n",
      "dtypes: object(1)\n",
      "memory usage: 17.6+ KB\n"
     ]
    }
   ],
   "source": [
    "df_followers_medium.info()"
   ]
  },
  {
   "cell_type": "code",
   "execution_count": 109,
   "metadata": {},
   "outputs": [
    {
     "name": "stdout",
     "output_type": "stream",
     "text": [
      "<class 'pandas.core.frame.DataFrame'>\n",
      "RangeIndex: 11390 entries, 0 to 11389\n",
      "Data columns (total 1 columns):\n",
      " #   Column  Non-Null Count  Dtype \n",
      "---  ------  --------------  ----- \n",
      " 0   id      11390 non-null  object\n",
      "dtypes: object(1)\n",
      "memory usage: 89.1+ KB\n"
     ]
    }
   ],
   "source": [
    "df_followers_large.info()"
   ]
  },
  {
   "cell_type": "markdown",
   "metadata": {},
   "source": [
    "- Order them by wealth in ETH"
   ]
  },
  {
   "cell_type": "code",
   "execution_count": 6,
   "metadata": {},
   "outputs": [
    {
     "data": {
      "text/html": [
       "<div>\n",
       "<style scoped>\n",
       "    .dataframe tbody tr th:only-of-type {\n",
       "        vertical-align: middle;\n",
       "    }\n",
       "\n",
       "    .dataframe tbody tr th {\n",
       "        vertical-align: top;\n",
       "    }\n",
       "\n",
       "    .dataframe thead th {\n",
       "        text-align: right;\n",
       "    }\n",
       "</style>\n",
       "<table border=\"1\" class=\"dataframe\">\n",
       "  <thead>\n",
       "    <tr style=\"text-align: right;\">\n",
       "      <th></th>\n",
       "      <th>id</th>\n",
       "    </tr>\n",
       "  </thead>\n",
       "  <tbody>\n",
       "    <tr>\n",
       "      <th>0</th>\n",
       "      <td>0xb52c1c5bf2b82f5562d4232691afd60f0041c1674332...</td>\n",
       "    </tr>\n",
       "    <tr>\n",
       "      <th>1</th>\n",
       "      <td>0x66f947e0eda068ee69a21347bb700444de9d052b4dcd...</td>\n",
       "    </tr>\n",
       "    <tr>\n",
       "      <th>2</th>\n",
       "      <td>0x2dba5c73253a0d75c0a404fc47083c76b3a19725d3f1...</td>\n",
       "    </tr>\n",
       "    <tr>\n",
       "      <th>3</th>\n",
       "      <td>0x69bb87c2a5c5f2e1beeff5aa163827187e1e64b8cd46...</td>\n",
       "    </tr>\n",
       "    <tr>\n",
       "      <th>4</th>\n",
       "      <td>0x2810ef94fd4eedcd1d1b049adefbe447d67232bce592...</td>\n",
       "    </tr>\n",
       "  </tbody>\n",
       "</table>\n",
       "</div>"
      ],
      "text/plain": [
       "                                                  id\n",
       "0  0xb52c1c5bf2b82f5562d4232691afd60f0041c1674332...\n",
       "1  0x66f947e0eda068ee69a21347bb700444de9d052b4dcd...\n",
       "2  0x2dba5c73253a0d75c0a404fc47083c76b3a19725d3f1...\n",
       "3  0x69bb87c2a5c5f2e1beeff5aa163827187e1e64b8cd46...\n",
       "4  0x2810ef94fd4eedcd1d1b049adefbe447d67232bce592..."
      ]
     },
     "execution_count": 6,
     "metadata": {},
     "output_type": "execute_result"
    }
   ],
   "source": [
    "df_followers_small.head()"
   ]
  },
  {
   "cell_type": "code",
   "execution_count": null,
   "metadata": {},
   "outputs": [],
   "source": []
  },
  {
   "cell_type": "markdown",
   "metadata": {},
   "source": [
    "- Compute correlation ETH wealth and number of votes in the DAO"
   ]
  },
  {
   "cell_type": "code",
   "execution_count": null,
   "metadata": {},
   "outputs": [],
   "source": []
  },
  {
   "cell_type": "code",
   "execution_count": null,
   "metadata": {},
   "outputs": [],
   "source": []
  }
 ],
 "metadata": {
  "kernelspec": {
   "display_name": "Python 3",
   "language": "python",
   "name": "python3"
  },
  "language_info": {
   "codemirror_mode": {
    "name": "ipython",
    "version": 3
   },
   "file_extension": ".py",
   "mimetype": "text/x-python",
   "name": "python",
   "nbconvert_exporter": "python",
   "pygments_lexer": "ipython3",
   "version": "3.7.6"
  },
  "vscode": {
   "interpreter": {
    "hash": "40d3a090f54c6569ab1632332b64b2c03c39dcf918b08424e98f38b5ae0af88f"
   }
  }
 },
 "nbformat": 4,
 "nbformat_minor": 4
}
