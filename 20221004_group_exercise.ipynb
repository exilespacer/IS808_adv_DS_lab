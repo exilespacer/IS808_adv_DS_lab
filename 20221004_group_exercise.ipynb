{
 "cells": [
  {
   "cell_type": "markdown",
   "metadata": {},
   "source": [
    "# Evaluate APIs, define DAO membership\n",
    "- Who is a DAO member? Followers in Snapshot? Token holders? DeepDAO (active?) membership?\n",
    "- In the broadest sense, DAO membership can include followers, who are also important community participants in a DAO "
   ]
  },
  {
   "cell_type": "code",
   "execution_count": null,
   "metadata": {},
   "outputs": [],
   "source": [
    "from util import snapshot_api\n",
    "import pandas as pd"
   ]
  },
  {
   "cell_type": "markdown",
   "metadata": {},
   "source": [
    "# Members, wealth, and voting\n",
    "- Pick a small (<1k), medium (<10k), and large DAO (10k+)"
   ]
  },
  {
   "cell_type": "code",
   "execution_count": null,
   "metadata": {
    "tags": []
   },
   "outputs": [],
   "source": [
    "query = \"\"\"\n",
    "query {\n",
    "  spaces(\n",
    "    first: 10000\n",
    "    orderBy: \"followersCount\"\n",
    "    orderDirection: asc\n",
    "  ) {\n",
    "    id\n",
    "    name\n",
    "    followersCount\n",
    "  }\n",
    "}\n",
    "\"\"\"\n",
    "\n",
    "res = snapshot_api(query)\n",
    "df_spaces = pd.DataFrame(res[\"spaces\"]).sort_values(\"followersCount\", ascending=False)\n",
    "df_spaces"
   ]
  },
  {
   "cell_type": "code",
   "execution_count": null,
   "metadata": {
    "tags": []
   },
   "outputs": [],
   "source": [
    "dao_small = df_spaces.query(\"250 < followersCount < 750\").iloc[0]\n",
    "dao_medium = df_spaces.query(\"1000 < followersCount < 2500\").iloc[0]\n",
    "dao_large = df_spaces.query(\"10000 < followersCount < 12000\").iloc[0]\n",
    "print(\n",
    "    f\"\"\"\n",
    "SMALL: {dao_small.id} ({dao_small.followersCount:,d}) \n",
    "MEDIUM: {dao_medium.id} ({dao_medium.followersCount:,d}) \n",
    "LARGE: {dao_large.id} ({dao_large.followersCount:,d}) \n",
    "\"\"\"\n",
    ")"
   ]
  },
  {
   "cell_type": "markdown",
   "metadata": {},
   "source": [
    "- Get all members (if possible try different APIs)"
   ]
  },
  {
   "cell_type": "code",
   "execution_count": null,
   "metadata": {
    "tags": []
   },
   "outputs": [],
   "source": [
    "def get_followers(space):\n",
    "    followers = []\n",
    "    i = 0\n",
    "    while True:\n",
    "        skip = (i) * 1000\n",
    "        first = (i + 1) * 1000\n",
    "        query = (\n",
    "            \"\"\"\n",
    "        query {\n",
    "          follows(\n",
    "            first: \"\"\"\n",
    "            + str(first)\n",
    "            + \"\"\",\n",
    "            skip: \"\"\"\n",
    "            + str(skip)\n",
    "            + \"\"\",\n",
    "            where: {space: \"\"\"\n",
    "            + f'\"{space}\"'\n",
    "            + \"\"\"}\n",
    "          ){\n",
    "            id\n",
    "          }\n",
    "        }\n",
    "        \"\"\"\n",
    "        )\n",
    "        res = snapshot_api(query)\n",
    "        followers += res[\"follows\"]\n",
    "        if len(res[\"follows\"]) < 1000:\n",
    "            break\n",
    "        i += 1\n",
    "\n",
    "    df_followers = pd.DataFrame(followers)\n",
    "    return df_followers"
   ]
  },
  {
   "cell_type": "code",
   "execution_count": null,
   "metadata": {},
   "outputs": [],
   "source": [
    "df_followers_small = get_followers(dao_small.id)\n",
    "df_followers_medium = get_followers(dao_medium.id)\n",
    "df_followers_large = get_followers(dao_large.id)"
   ]
  },
  {
   "cell_type": "code",
   "execution_count": null,
   "metadata": {},
   "outputs": [],
   "source": [
    "df_followers_small.info()"
   ]
  },
  {
   "cell_type": "code",
   "execution_count": null,
   "metadata": {},
   "outputs": [],
   "source": [
    "df_followers_medium.info()"
   ]
  },
  {
   "cell_type": "code",
   "execution_count": null,
   "metadata": {},
   "outputs": [],
   "source": [
    "df_followers_large.info()"
   ]
  },
  {
   "cell_type": "markdown",
   "metadata": {},
   "source": [
    "- Order them by wealth in ETH"
   ]
  },
  {
   "cell_type": "code",
   "execution_count": null,
   "metadata": {},
   "outputs": [],
   "source": [
    "df_followers_small.head()"
   ]
  },
  {
   "cell_type": "code",
   "execution_count": null,
   "metadata": {},
   "outputs": [],
   "source": []
  },
  {
   "cell_type": "markdown",
   "metadata": {},
   "source": [
    "- Compute correlation ETH wealth and number of votes in the DAO"
   ]
  },
  {
   "cell_type": "code",
   "execution_count": null,
   "metadata": {},
   "outputs": [],
   "source": []
  },
  {
   "cell_type": "code",
   "execution_count": null,
   "metadata": {},
   "outputs": [],
   "source": []
  }
 ],
 "metadata": {
  "kernelspec": {
   "display_name": "Python 3",
   "language": "python",
   "name": "python3"
  },
  "language_info": {
   "codemirror_mode": {
    "name": "ipython",
    "version": 3
   },
   "file_extension": ".py",
   "mimetype": "text/x-python",
   "name": "python",
   "nbconvert_exporter": "python",
   "pygments_lexer": "ipython3",
   "version": "3.7.6"
  },
  "vscode": {
   "interpreter": {
    "hash": "40d3a090f54c6569ab1632332b64b2c03c39dcf918b08424e98f38b5ae0af88f"
   }
  }
 },
 "nbformat": 4,
 "nbformat_minor": 4
}
