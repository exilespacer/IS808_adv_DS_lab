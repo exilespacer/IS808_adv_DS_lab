{
 "cells": [
  {
   "cell_type": "code",
   "execution_count": 1,
   "id": "ba9a1bcd-2df2-43db-8999-f2d229f680c5",
   "metadata": {},
   "outputs": [],
   "source": [
    "%load_ext autoreload\n",
    "%autoreload 2"
   ]
  },
  {
   "cell_type": "code",
   "execution_count": null,
   "id": "cdcba7f4-14b8-48b2-953b-c299032cdefa",
   "metadata": {},
   "outputs": [],
   "source": [
    "import pandas as pd\n",
    "import os\n",
    "from tqdm import tqdm "
   ]
  },
  {
   "cell_type": "code",
   "execution_count": 5,
   "id": "908da8ba-3fd3-4512-8ec9-b73e0bbe690c",
   "metadata": {},
   "outputs": [
    {
     "name": "stdout",
     "output_type": "stream",
     "text": [
      "1.3.4\n",
      "1.21.2\n",
      "2.26.0\n",
      "3.5.0\n"
     ]
    }
   ],
   "source": [
    "from util_home_assignment import *"
   ]
  },
  {
   "cell_type": "code",
   "execution_count": 17,
   "id": "9e5af64d-8e30-4dff-acd6-45e5ba2aa569",
   "metadata": {},
   "outputs": [
    {
     "data": {
      "text/html": [
       "<div>\n",
       "<style scoped>\n",
       "    .dataframe tbody tr th:only-of-type {\n",
       "        vertical-align: middle;\n",
       "    }\n",
       "\n",
       "    .dataframe tbody tr th {\n",
       "        vertical-align: top;\n",
       "    }\n",
       "\n",
       "    .dataframe thead th {\n",
       "        text-align: right;\n",
       "    }\n",
       "</style>\n",
       "<table border=\"1\" class=\"dataframe\">\n",
       "  <thead>\n",
       "    <tr style=\"text-align: right;\">\n",
       "      <th></th>\n",
       "      <th>id</th>\n",
       "      <th>name</th>\n",
       "      <th>private</th>\n",
       "      <th>about</th>\n",
       "      <th>avatar</th>\n",
       "      <th>terms</th>\n",
       "      <th>location</th>\n",
       "      <th>website</th>\n",
       "      <th>twitter</th>\n",
       "      <th>github</th>\n",
       "      <th>...</th>\n",
       "      <th>filters</th>\n",
       "      <th>plugins</th>\n",
       "      <th>voting</th>\n",
       "      <th>categories</th>\n",
       "      <th>validation</th>\n",
       "      <th>treasuries</th>\n",
       "      <th>followersCount</th>\n",
       "      <th>proposalsCount</th>\n",
       "      <th>parent</th>\n",
       "      <th>children</th>\n",
       "    </tr>\n",
       "  </thead>\n",
       "  <tbody>\n",
       "    <tr>\n",
       "      <th>0</th>\n",
       "      <td>bonustrack.eth</td>\n",
       "      <td>Hi</td>\n",
       "      <td>True</td>\n",
       "      <td></td>\n",
       "      <td></td>\n",
       "      <td>None</td>\n",
       "      <td>None</td>\n",
       "      <td>None</td>\n",
       "      <td>None</td>\n",
       "      <td>None</td>\n",
       "      <td>...</td>\n",
       "      <td>{'minScore': 0, 'onlyMembers': False}</td>\n",
       "      <td>{'safeSnap': {'address': '0xeF8305E140ac520225...</td>\n",
       "      <td>{'delay': None, 'period': None, 'type': None, ...</td>\n",
       "      <td>[]</td>\n",
       "      <td>{'name': 'basic', 'params': {}, 'network': None}</td>\n",
       "      <td>[]</td>\n",
       "      <td>0</td>\n",
       "      <td>2</td>\n",
       "      <td>None</td>\n",
       "      <td>[]</td>\n",
       "    </tr>\n",
       "    <tr>\n",
       "      <th>1</th>\n",
       "      <td>fabien.eth</td>\n",
       "      <td>Fabien</td>\n",
       "      <td>False</td>\n",
       "      <td>This is nothing more than a test space.</td>\n",
       "      <td>ipfs://QmcbtSnE5TpCjuQrKN4sxEh1Qv6B4RoKLx4aVgj...</td>\n",
       "      <td>None</td>\n",
       "      <td>None</td>\n",
       "      <td>https://snapshot.org/#/fabien.eth</td>\n",
       "      <td>bonustrack87</td>\n",
       "      <td>bonustrack</td>\n",
       "      <td>...</td>\n",
       "      <td>{'minScore': 1, 'onlyMembers': False}</td>\n",
       "      <td>{'safeSnap': {'safes': [{'network': '4', 'real...</td>\n",
       "      <td>{'delay': None, 'period': None, 'type': None, ...</td>\n",
       "      <td>[social, creator]</td>\n",
       "      <td>{'name': 'basic', 'params': {}, 'network': None}</td>\n",
       "      <td>[{'name': 'Fabien', 'address': '0xeF8305E140ac...</td>\n",
       "      <td>1009</td>\n",
       "      <td>323</td>\n",
       "      <td>None</td>\n",
       "      <td>[]</td>\n",
       "    </tr>\n",
       "    <tr>\n",
       "      <th>2</th>\n",
       "      <td>ichi.eth</td>\n",
       "      <td>ichi.farm</td>\n",
       "      <td>False</td>\n",
       "      <td></td>\n",
       "      <td>ipfs://QmZWdd7iWxB61KGn2i5MGEHQeakFTWyPnKTL9A4...</td>\n",
       "      <td>None</td>\n",
       "      <td>None</td>\n",
       "      <td>None</td>\n",
       "      <td>None</td>\n",
       "      <td>None</td>\n",
       "      <td>...</td>\n",
       "      <td>{'minScore': 0, 'onlyMembers': False}</td>\n",
       "      <td>{}</td>\n",
       "      <td>{'delay': None, 'period': None, 'type': None, ...</td>\n",
       "      <td>[]</td>\n",
       "      <td>{'name': 'basic', 'params': {}, 'network': None}</td>\n",
       "      <td>[]</td>\n",
       "      <td>60</td>\n",
       "      <td>56</td>\n",
       "      <td>None</td>\n",
       "      <td>[]</td>\n",
       "    </tr>\n",
       "    <tr>\n",
       "      <th>3</th>\n",
       "      <td>loyalfinance.eth</td>\n",
       "      <td>loyal.finance</td>\n",
       "      <td>False</td>\n",
       "      <td></td>\n",
       "      <td></td>\n",
       "      <td>None</td>\n",
       "      <td>None</td>\n",
       "      <td>None</td>\n",
       "      <td>None</td>\n",
       "      <td>None</td>\n",
       "      <td>...</td>\n",
       "      <td>{'minScore': 0, 'onlyMembers': False}</td>\n",
       "      <td>{}</td>\n",
       "      <td>{'delay': None, 'period': None, 'type': None, ...</td>\n",
       "      <td>[]</td>\n",
       "      <td>{'name': 'basic', 'params': {}, 'network': None}</td>\n",
       "      <td>[]</td>\n",
       "      <td>0</td>\n",
       "      <td>2</td>\n",
       "      <td>None</td>\n",
       "      <td>[]</td>\n",
       "    </tr>\n",
       "    <tr>\n",
       "      <th>4</th>\n",
       "      <td>damflux.eth</td>\n",
       "      <td>FLUX</td>\n",
       "      <td>False</td>\n",
       "      <td></td>\n",
       "      <td></td>\n",
       "      <td>None</td>\n",
       "      <td>None</td>\n",
       "      <td>None</td>\n",
       "      <td>None</td>\n",
       "      <td>None</td>\n",
       "      <td>...</td>\n",
       "      <td>{'minScore': 0, 'onlyMembers': False}</td>\n",
       "      <td>{}</td>\n",
       "      <td>{'delay': None, 'period': None, 'type': None, ...</td>\n",
       "      <td>[]</td>\n",
       "      <td>{'name': 'basic', 'params': {}, 'network': None}</td>\n",
       "      <td>[]</td>\n",
       "      <td>6</td>\n",
       "      <td>2</td>\n",
       "      <td>None</td>\n",
       "      <td>[]</td>\n",
       "    </tr>\n",
       "  </tbody>\n",
       "</table>\n",
       "<p>5 rows × 28 columns</p>\n",
       "</div>"
      ],
      "text/plain": [
       "                 id           name  private  \\\n",
       "0    bonustrack.eth             Hi     True   \n",
       "1        fabien.eth         Fabien    False   \n",
       "2          ichi.eth      ichi.farm    False   \n",
       "3  loyalfinance.eth  loyal.finance    False   \n",
       "4       damflux.eth           FLUX    False   \n",
       "\n",
       "                                     about  \\\n",
       "0                                            \n",
       "1  This is nothing more than a test space.   \n",
       "2                                            \n",
       "3                                            \n",
       "4                                            \n",
       "\n",
       "                                              avatar terms location  \\\n",
       "0                                                     None     None   \n",
       "1  ipfs://QmcbtSnE5TpCjuQrKN4sxEh1Qv6B4RoKLx4aVgj...  None     None   \n",
       "2  ipfs://QmZWdd7iWxB61KGn2i5MGEHQeakFTWyPnKTL9A4...  None     None   \n",
       "3                                                     None     None   \n",
       "4                                                     None     None   \n",
       "\n",
       "                             website       twitter      github  ...  \\\n",
       "0                               None          None        None  ...   \n",
       "1  https://snapshot.org/#/fabien.eth  bonustrack87  bonustrack  ...   \n",
       "2                               None          None        None  ...   \n",
       "3                               None          None        None  ...   \n",
       "4                               None          None        None  ...   \n",
       "\n",
       "                                 filters  \\\n",
       "0  {'minScore': 0, 'onlyMembers': False}   \n",
       "1  {'minScore': 1, 'onlyMembers': False}   \n",
       "2  {'minScore': 0, 'onlyMembers': False}   \n",
       "3  {'minScore': 0, 'onlyMembers': False}   \n",
       "4  {'minScore': 0, 'onlyMembers': False}   \n",
       "\n",
       "                                             plugins  \\\n",
       "0  {'safeSnap': {'address': '0xeF8305E140ac520225...   \n",
       "1  {'safeSnap': {'safes': [{'network': '4', 'real...   \n",
       "2                                                 {}   \n",
       "3                                                 {}   \n",
       "4                                                 {}   \n",
       "\n",
       "                                              voting         categories  \\\n",
       "0  {'delay': None, 'period': None, 'type': None, ...                 []   \n",
       "1  {'delay': None, 'period': None, 'type': None, ...  [social, creator]   \n",
       "2  {'delay': None, 'period': None, 'type': None, ...                 []   \n",
       "3  {'delay': None, 'period': None, 'type': None, ...                 []   \n",
       "4  {'delay': None, 'period': None, 'type': None, ...                 []   \n",
       "\n",
       "                                         validation  \\\n",
       "0  {'name': 'basic', 'params': {}, 'network': None}   \n",
       "1  {'name': 'basic', 'params': {}, 'network': None}   \n",
       "2  {'name': 'basic', 'params': {}, 'network': None}   \n",
       "3  {'name': 'basic', 'params': {}, 'network': None}   \n",
       "4  {'name': 'basic', 'params': {}, 'network': None}   \n",
       "\n",
       "                                          treasuries followersCount  \\\n",
       "0                                                 []              0   \n",
       "1  [{'name': 'Fabien', 'address': '0xeF8305E140ac...           1009   \n",
       "2                                                 []             60   \n",
       "3                                                 []              0   \n",
       "4                                                 []              6   \n",
       "\n",
       "  proposalsCount parent children  \n",
       "0              2   None       []  \n",
       "1            323   None       []  \n",
       "2             56   None       []  \n",
       "3              2   None       []  \n",
       "4              2   None       []  \n",
       "\n",
       "[5 rows x 28 columns]"
      ]
     },
     "metadata": {},
     "output_type": "display_data"
    },
    {
     "name": "stdout",
     "output_type": "stream",
     "text": [
      "<class 'pandas.core.frame.DataFrame'>\n",
      "RangeIndex: 11195 entries, 0 to 11194\n",
      "Data columns (total 28 columns):\n",
      " #   Column          Non-Null Count  Dtype \n",
      "---  ------          --------------  ----- \n",
      " 0   id              11195 non-null  object\n",
      " 1   name            11195 non-null  object\n",
      " 2   private         11195 non-null  bool  \n",
      " 3   about           11195 non-null  object\n",
      " 4   avatar          11195 non-null  object\n",
      " 5   terms           858 non-null    object\n",
      " 6   location        7 non-null      object\n",
      " 7   website         2337 non-null   object\n",
      " 8   twitter         4831 non-null   object\n",
      " 9   github          1876 non-null   object\n",
      " 10  email           1 non-null      object\n",
      " 11  network         11195 non-null  object\n",
      " 12  symbol          11195 non-null  object\n",
      " 13  skin            2987 non-null   object\n",
      " 14  domain          2375 non-null   object\n",
      " 15  strategies      11195 non-null  object\n",
      " 16  admins          11195 non-null  object\n",
      " 17  members         11195 non-null  object\n",
      " 18  filters         11195 non-null  object\n",
      " 19  plugins         11195 non-null  object\n",
      " 20  voting          11195 non-null  object\n",
      " 21  categories      11195 non-null  object\n",
      " 22  validation      11195 non-null  object\n",
      " 23  treasuries      11195 non-null  object\n",
      " 24  followersCount  11195 non-null  int64 \n",
      " 25  proposalsCount  11195 non-null  int64 \n",
      " 26  parent          109 non-null    object\n",
      " 27  children        11195 non-null  object\n",
      "dtypes: bool(1), int64(2), object(25)\n",
      "memory usage: 2.3+ MB\n"
     ]
    }
   ],
   "source": [
    "df_spaces = pd_read_json(\"data/snapshot_spaces.json\")\n",
    "df_spaces.head().pipe(display)\n",
    "df_spaces.info()"
   ]
  },
  {
   "cell_type": "markdown",
   "id": "ff401ab8-c278-4fed-82fc-8e86cec7c0dd",
   "metadata": {},
   "source": [
    "# Verify approval rate across all Daos"
   ]
  },
  {
   "cell_type": "code",
   "execution_count": null,
   "id": "1bb3ba00-07b5-4c36-8033-5e50c8c0a2da",
   "metadata": {},
   "outputs": [
    {
     "name": "stderr",
     "output_type": "stream",
     "text": [
      "  0%|          | 0/1000 [00:00<?, ?it/s]"
     ]
    },
    {
     "name": "stdout",
     "output_type": "stream",
     "text": [
      "1 52\n"
     ]
    },
    {
     "name": "stderr",
     "output_type": "stream",
     "text": [
      "  0%|          | 1/1000 [00:00<11:03,  1.51it/s]"
     ]
    },
    {
     "name": "stdout",
     "output_type": "stream",
     "text": [
      "**I am done fetching!**\n",
      "Saved.\n",
      "1 1000\n",
      "2 2000\n",
      "3 3000\n",
      "4 4000\n",
      "5 4536\n"
     ]
    },
    {
     "name": "stderr",
     "output_type": "stream",
     "text": [
      "  0%|          | 2/1000 [00:04<38:38,  2.32s/it]"
     ]
    },
    {
     "name": "stdout",
     "output_type": "stream",
     "text": [
      "**I am done fetching!**\n",
      "Saved.\n",
      "1 735\n"
     ]
    },
    {
     "name": "stderr",
     "output_type": "stream",
     "text": [
      "  0%|          | 3/1000 [00:04<27:17,  1.64s/it]"
     ]
    },
    {
     "name": "stdout",
     "output_type": "stream",
     "text": [
      "**I am done fetching!**\n",
      "Saved.\n",
      "1 14\n"
     ]
    },
    {
     "name": "stderr",
     "output_type": "stream",
     "text": [
      "  0%|          | 4/1000 [00:05<19:36,  1.18s/it]"
     ]
    },
    {
     "name": "stdout",
     "output_type": "stream",
     "text": [
      "**I am done fetching!**\n",
      "Saved.\n",
      "1 11\n"
     ]
    },
    {
     "name": "stderr",
     "output_type": "stream",
     "text": [
      "  0%|          | 5/1000 [00:05<15:07,  1.10it/s]"
     ]
    },
    {
     "name": "stdout",
     "output_type": "stream",
     "text": [
      "**I am done fetching!**\n",
      "Saved.\n",
      "1 3\n"
     ]
    },
    {
     "name": "stderr",
     "output_type": "stream",
     "text": [
      "  1%|          | 6/1000 [00:06<12:52,  1.29it/s]"
     ]
    },
    {
     "name": "stdout",
     "output_type": "stream",
     "text": [
      "**I am done fetching!**\n",
      "Saved.\n",
      "1 326\n"
     ]
    },
    {
     "name": "stderr",
     "output_type": "stream",
     "text": [
      "  1%|          | 7/1000 [00:07<13:44,  1.20it/s]"
     ]
    },
    {
     "name": "stdout",
     "output_type": "stream",
     "text": [
      "**I am done fetching!**\n",
      "Saved.\n",
      "1 38\n"
     ]
    },
    {
     "name": "stderr",
     "output_type": "stream",
     "text": [
      "  1%|          | 8/1000 [00:07<12:31,  1.32it/s]"
     ]
    },
    {
     "name": "stdout",
     "output_type": "stream",
     "text": [
      "**I am done fetching!**\n",
      "Saved.\n",
      "1 45\n"
     ]
    },
    {
     "name": "stderr",
     "output_type": "stream",
     "text": [
      "  1%|          | 9/1000 [00:08<12:21,  1.34it/s]"
     ]
    },
    {
     "name": "stdout",
     "output_type": "stream",
     "text": [
      "**I am done fetching!**\n",
      "Saved.\n",
      "1 174\n",
      "**I am done fetching!**\n"
     ]
    },
    {
     "name": "stderr",
     "output_type": "stream",
     "text": [
      "  1%|          | 10/1000 [00:09<12:37,  1.31it/s]"
     ]
    },
    {
     "name": "stdout",
     "output_type": "stream",
     "text": [
      "Saved.\n",
      "1 1000\n",
      "2 1166\n"
     ]
    },
    {
     "name": "stderr",
     "output_type": "stream",
     "text": [
      "  1%|          | 11/1000 [00:10<15:31,  1.06it/s]"
     ]
    },
    {
     "name": "stdout",
     "output_type": "stream",
     "text": [
      "**I am done fetching!**\n",
      "Saved.\n",
      "1 8\n"
     ]
    },
    {
     "name": "stderr",
     "output_type": "stream",
     "text": [
      "  1%|          | 12/1000 [00:11<13:23,  1.23it/s]"
     ]
    },
    {
     "name": "stdout",
     "output_type": "stream",
     "text": [
      "**I am done fetching!**\n",
      "Saved.\n"
     ]
    },
    {
     "name": "stderr",
     "output_type": "stream",
     "text": [
      "  1%|▏         | 13/1000 [00:11<12:19,  1.33it/s]"
     ]
    },
    {
     "name": "stdout",
     "output_type": "stream",
     "text": [
      "1 153\n",
      "**I am done fetching!**\n",
      "Saved.\n",
      "1 210\n"
     ]
    },
    {
     "name": "stderr",
     "output_type": "stream",
     "text": [
      "  1%|▏         | 14/1000 [00:12<12:03,  1.36it/s]"
     ]
    },
    {
     "name": "stdout",
     "output_type": "stream",
     "text": [
      "**I am done fetching!**\n",
      "Saved.\n"
     ]
    },
    {
     "name": "stderr",
     "output_type": "stream",
     "text": [
      "  2%|▏         | 15/1000 [00:12<09:26,  1.74it/s]"
     ]
    },
    {
     "name": "stdout",
     "output_type": "stream",
     "text": [
      "**I am done fetching!**\n",
      "Saved.\n"
     ]
    },
    {
     "name": "stderr",
     "output_type": "stream",
     "text": [
      "  2%|▏         | 16/1000 [00:13<07:44,  2.12it/s]"
     ]
    },
    {
     "name": "stdout",
     "output_type": "stream",
     "text": [
      "**I am done fetching!**\n",
      "Saved.\n"
     ]
    },
    {
     "name": "stderr",
     "output_type": "stream",
     "text": [
      "  2%|▏         | 17/1000 [00:13<06:35,  2.49it/s]"
     ]
    },
    {
     "name": "stdout",
     "output_type": "stream",
     "text": [
      "**I am done fetching!**\n",
      "Saved.\n",
      "1 62\n"
     ]
    },
    {
     "name": "stderr",
     "output_type": "stream",
     "text": [
      "  2%|▏         | 18/1000 [00:14<08:10,  2.00it/s]"
     ]
    },
    {
     "name": "stdout",
     "output_type": "stream",
     "text": [
      "**I am done fetching!**\n",
      "Saved.\n",
      "1 1000\n",
      "2 1891\n"
     ]
    },
    {
     "name": "stderr",
     "output_type": "stream",
     "text": [
      "  2%|▏         | 19/1000 [00:15<13:01,  1.26it/s]"
     ]
    },
    {
     "name": "stdout",
     "output_type": "stream",
     "text": [
      "**I am done fetching!**\n",
      "Saved.\n"
     ]
    },
    {
     "name": "stderr",
     "output_type": "stream",
     "text": [
      "  2%|▏         | 20/1000 [00:15<10:11,  1.60it/s]"
     ]
    },
    {
     "name": "stdout",
     "output_type": "stream",
     "text": [
      "**I am done fetching!**\n",
      "Saved.\n"
     ]
    },
    {
     "name": "stderr",
     "output_type": "stream",
     "text": [
      "  2%|▏         | 21/1000 [00:15<08:19,  1.96it/s]"
     ]
    },
    {
     "name": "stdout",
     "output_type": "stream",
     "text": [
      "**I am done fetching!**\n",
      "Saved.\n",
      "1 475\n"
     ]
    },
    {
     "name": "stderr",
     "output_type": "stream",
     "text": [
      "  2%|▏         | 22/1000 [00:16<09:36,  1.70it/s]"
     ]
    },
    {
     "name": "stdout",
     "output_type": "stream",
     "text": [
      "**I am done fetching!**\n",
      "Saved.\n",
      "1 4\n"
     ]
    },
    {
     "name": "stderr",
     "output_type": "stream",
     "text": [
      "  2%|▏         | 23/1000 [00:17<08:58,  1.82it/s]"
     ]
    },
    {
     "name": "stdout",
     "output_type": "stream",
     "text": [
      "**I am done fetching!**\n",
      "Saved.\n",
      "1 5\n"
     ]
    },
    {
     "name": "stderr",
     "output_type": "stream",
     "text": [
      "  2%|▏         | 24/1000 [00:18<11:16,  1.44it/s]"
     ]
    },
    {
     "name": "stdout",
     "output_type": "stream",
     "text": [
      "**I am done fetching!**\n",
      "Saved.\n"
     ]
    },
    {
     "name": "stderr",
     "output_type": "stream",
     "text": [
      "  2%|▎         | 25/1000 [00:18<09:04,  1.79it/s]"
     ]
    },
    {
     "name": "stdout",
     "output_type": "stream",
     "text": [
      "**I am done fetching!**\n",
      "Saved.\n",
      "1 1000\n",
      "2 1658\n"
     ]
    },
    {
     "name": "stderr",
     "output_type": "stream",
     "text": [
      "  3%|▎         | 26/1000 [00:19<13:38,  1.19it/s]"
     ]
    },
    {
     "name": "stdout",
     "output_type": "stream",
     "text": [
      "**I am done fetching!**\n",
      "Saved.\n"
     ]
    },
    {
     "name": "stderr",
     "output_type": "stream",
     "text": [
      "  3%|▎         | 27/1000 [00:20<12:27,  1.30it/s]"
     ]
    },
    {
     "name": "stdout",
     "output_type": "stream",
     "text": [
      "1 62\n",
      "**I am done fetching!**\n",
      "Saved.\n"
     ]
    },
    {
     "name": "stderr",
     "output_type": "stream",
     "text": [
      "  3%|▎         | 28/1000 [00:21<11:03,  1.46it/s]"
     ]
    },
    {
     "name": "stdout",
     "output_type": "stream",
     "text": [
      "1 57\n",
      "**I am done fetching!**\n",
      "Saved.\n"
     ]
    },
    {
     "name": "stderr",
     "output_type": "stream",
     "text": [
      "  3%|▎         | 29/1000 [00:21<09:53,  1.64it/s]"
     ]
    },
    {
     "name": "stdout",
     "output_type": "stream",
     "text": [
      "**I am done fetching!**\n",
      "Saved.\n",
      "1 32\n"
     ]
    },
    {
     "name": "stderr",
     "output_type": "stream",
     "text": [
      "  3%|▎         | 30/1000 [00:22<09:32,  1.69it/s]"
     ]
    },
    {
     "name": "stdout",
     "output_type": "stream",
     "text": [
      "**I am done fetching!**\n",
      "Saved.\n",
      "1 16\n"
     ]
    },
    {
     "name": "stderr",
     "output_type": "stream",
     "text": [
      "  3%|▎         | 31/1000 [00:22<08:52,  1.82it/s]"
     ]
    },
    {
     "name": "stdout",
     "output_type": "stream",
     "text": [
      "**I am done fetching!**\n",
      "Saved.\n",
      "1 606\n"
     ]
    },
    {
     "name": "stderr",
     "output_type": "stream",
     "text": [
      "  3%|▎         | 33/1000 [00:23<08:04,  2.00it/s]"
     ]
    },
    {
     "name": "stdout",
     "output_type": "stream",
     "text": [
      "**I am done fetching!**\n",
      "Saved.\n",
      "**I am done fetching!**\n",
      "Saved.\n",
      "1 2\n"
     ]
    },
    {
     "name": "stderr",
     "output_type": "stream",
     "text": [
      "  3%|▎         | 34/1000 [00:23<07:45,  2.08it/s]"
     ]
    },
    {
     "name": "stdout",
     "output_type": "stream",
     "text": [
      "**I am done fetching!**\n",
      "Saved.\n"
     ]
    },
    {
     "name": "stderr",
     "output_type": "stream",
     "text": [
      "  4%|▎         | 35/1000 [00:24<07:20,  2.19it/s]"
     ]
    },
    {
     "name": "stdout",
     "output_type": "stream",
     "text": [
      "1 4\n",
      "**I am done fetching!**\n",
      "Saved.\n",
      "1 450\n"
     ]
    },
    {
     "name": "stderr",
     "output_type": "stream",
     "text": [
      "  4%|▎         | 36/1000 [00:25<08:33,  1.88it/s]"
     ]
    },
    {
     "name": "stdout",
     "output_type": "stream",
     "text": [
      "**I am done fetching!**\n",
      "Saved.\n",
      "1 2\n"
     ]
    },
    {
     "name": "stderr",
     "output_type": "stream",
     "text": [
      "  4%|▎         | 37/1000 [00:25<08:25,  1.90it/s]"
     ]
    },
    {
     "name": "stdout",
     "output_type": "stream",
     "text": [
      "**I am done fetching!**\n",
      "Saved.\n",
      "1 3\n"
     ]
    },
    {
     "name": "stderr",
     "output_type": "stream",
     "text": [
      "  4%|▍         | 38/1000 [00:26<08:00,  2.00it/s]"
     ]
    },
    {
     "name": "stdout",
     "output_type": "stream",
     "text": [
      "**I am done fetching!**\n",
      "Saved.\n",
      "**I am done fetching!**\n"
     ]
    },
    {
     "name": "stderr",
     "output_type": "stream",
     "text": [
      "  4%|▍         | 39/1000 [00:26<06:33,  2.44it/s]"
     ]
    },
    {
     "name": "stdout",
     "output_type": "stream",
     "text": [
      "Saved.\n",
      "1 6\n",
      "**I am done fetching!**\n"
     ]
    },
    {
     "name": "stderr",
     "output_type": "stream",
     "text": [
      "  4%|▍         | 40/1000 [00:26<06:37,  2.41it/s]"
     ]
    },
    {
     "name": "stdout",
     "output_type": "stream",
     "text": [
      "Saved.\n",
      "1 2\n"
     ]
    },
    {
     "name": "stderr",
     "output_type": "stream",
     "text": [
      "  4%|▍         | 41/1000 [00:27<06:54,  2.32it/s]"
     ]
    },
    {
     "name": "stdout",
     "output_type": "stream",
     "text": [
      "**I am done fetching!**\n",
      "Saved.\n",
      "1 1000\n",
      "2 2000\n",
      "3 3000\n",
      "4 4000\n",
      "5 5000\n",
      "6 6000\n",
      "7 7000\n",
      "8 8000\n",
      "9 9000\n",
      "10 10000\n",
      "Saved.\n",
      "11 11000\n",
      "12 12000\n",
      "13 13000\n",
      "14 14000\n",
      "15 15000\n",
      "16 16000\n",
      "17 17000\n",
      "18 18000\n",
      "19 19000\n",
      "20 20000\n",
      "Saved.\n",
      "21 20046\n"
     ]
    },
    {
     "name": "stderr",
     "output_type": "stream",
     "text": [
      "  4%|▍         | 42/1000 [00:45<1:32:11,  5.77s/it]"
     ]
    },
    {
     "name": "stdout",
     "output_type": "stream",
     "text": [
      "**I am done fetching!**\n",
      "Saved.\n"
     ]
    },
    {
     "name": "stderr",
     "output_type": "stream",
     "text": [
      "  4%|▍         | 43/1000 [00:45<1:07:15,  4.22s/it]"
     ]
    },
    {
     "name": "stdout",
     "output_type": "stream",
     "text": [
      "1 150\n",
      "**I am done fetching!**\n",
      "Saved.\n",
      "1 18\n"
     ]
    },
    {
     "name": "stderr",
     "output_type": "stream",
     "text": [
      "  4%|▍         | 44/1000 [00:46<49:11,  3.09s/it]  "
     ]
    },
    {
     "name": "stdout",
     "output_type": "stream",
     "text": [
      "**I am done fetching!**\n",
      "Saved.\n"
     ]
    },
    {
     "name": "stderr",
     "output_type": "stream",
     "text": [
      "  4%|▍         | 45/1000 [00:46<35:24,  2.22s/it]"
     ]
    },
    {
     "name": "stdout",
     "output_type": "stream",
     "text": [
      "**I am done fetching!**\n",
      "Saved.\n",
      "1 1000\n",
      "2 2000\n",
      "3 3000\n",
      "4 4000\n",
      "5 5000\n",
      "6 6000\n",
      "7 7000\n",
      "8 8000\n",
      "9 9000\n",
      "10 10000\n",
      "Saved.\n",
      "11 11000\n",
      "12 12000\n",
      "13 13000\n",
      "14 14000\n",
      "15 15000\n",
      "16 16000\n",
      "17 17000\n",
      "18 18000\n",
      "19 19000\n",
      "20 20000\n",
      "Saved.\n",
      "21 21000\n",
      "22 22000\n",
      "23 23000\n",
      "24 24000\n",
      "25 25000\n",
      "26 26000\n",
      "27 27000\n",
      "28 28000\n",
      "29 29000\n",
      "30 30000\n",
      "Saved.\n",
      "31 31000\n",
      "32 32000\n",
      "33 33000\n",
      "34 34000\n",
      "35 35000\n",
      "36 36000\n",
      "37 37000\n",
      "38 38000\n",
      "39 39000\n",
      "40 40000\n",
      "Saved.\n",
      "41 41000\n",
      "42 42000\n",
      "43 43000\n",
      "44 44000\n",
      "45 45000\n",
      "46 46000\n",
      "47 47000\n",
      "48 48000\n",
      "49 49000\n",
      "50 50000\n",
      "Saved.\n",
      "51 51000\n",
      "52 52000\n",
      "53 53000\n",
      "54 54000\n",
      "55 55000\n",
      "56 56000\n",
      "57 57000\n",
      "58 58000\n",
      "59 59000\n",
      "60 60000\n",
      "Saved.\n",
      "61 61000\n",
      "62 62000\n",
      "63 63000\n",
      "64 64000\n",
      "65 65000\n",
      "66 66000\n",
      "67 67000\n",
      "68 68000\n",
      "69 69000\n",
      "70 70000\n",
      "Saved.\n",
      "71 70880\n",
      "**I am done fetching!**\n"
     ]
    },
    {
     "name": "stderr",
     "output_type": "stream",
     "text": [
      "  5%|▍         | 46/1000 [02:06<6:46:29, 25.57s/it]"
     ]
    },
    {
     "name": "stdout",
     "output_type": "stream",
     "text": [
      "Saved.\n",
      "1 1000\n",
      "2 2000\n",
      "3 3000\n",
      "4 4000\n",
      "5 5000\n",
      "6 6000\n",
      "7 7000\n",
      "8 8000\n",
      "9 9000\n",
      "10 10000\n",
      "Saved.\n",
      "11 11000\n",
      "12 12000\n",
      "13 13000\n",
      "14 14000\n",
      "15 15000\n",
      "16 16000\n",
      "17 17000\n",
      "18 18000\n",
      "19 19000\n",
      "20 19918\n",
      "Saved.\n"
     ]
    },
    {
     "name": "stderr",
     "output_type": "stream",
     "text": [
      "  5%|▍         | 47/1000 [02:24<6:07:23, 23.13s/it]"
     ]
    },
    {
     "name": "stdout",
     "output_type": "stream",
     "text": [
      "**I am done fetching!**\n",
      "Saved.\n"
     ]
    },
    {
     "name": "stderr",
     "output_type": "stream",
     "text": [
      "  5%|▍         | 48/1000 [02:24<4:18:15, 16.28s/it]"
     ]
    },
    {
     "name": "stdout",
     "output_type": "stream",
     "text": [
      "**I am done fetching!**\n",
      "Saved.\n"
     ]
    },
    {
     "name": "stderr",
     "output_type": "stream",
     "text": [
      "  5%|▍         | 49/1000 [02:25<3:04:32, 11.64s/it]"
     ]
    },
    {
     "name": "stdout",
     "output_type": "stream",
     "text": [
      "1 10\n",
      "**I am done fetching!**\n",
      "Saved.\n",
      "1 1000\n",
      "2 2000\n",
      "3 3000\n",
      "4 4000\n",
      "5 5000\n",
      "6 6000\n",
      "7 7000\n",
      "8 8000\n",
      "9 9000\n",
      "10 10000\n",
      "Saved.\n",
      "11 11000\n",
      "12 12000\n",
      "13 13000\n",
      "14 14000\n",
      "15 15000\n",
      "16 16000\n",
      "17 17000\n",
      "18 18000\n",
      "19 19000\n",
      "20 20000\n",
      "Saved.\n",
      "21 21000\n",
      "22 22000\n",
      "23 23000\n",
      "24 24000\n",
      "25 25000\n",
      "26 26000\n",
      "27 27000\n",
      "28 28000\n",
      "29 29000\n",
      "30 30000\n",
      "Saved.\n",
      "31 31000\n",
      "32 32000\n",
      "33 33000\n",
      "34 34000\n",
      "35 35000\n",
      "36 36000\n",
      "37 37000\n",
      "38 38000\n",
      "39 39000\n",
      "40 40000\n",
      "Saved.\n",
      "41 41000\n",
      "42 42000\n",
      "43 43000\n",
      "44 44000\n",
      "45 45000\n",
      "46 46000\n",
      "47 47000\n",
      "48 48000\n",
      "49 49000\n",
      "50 50000\n",
      "Saved.\n",
      "51 51000\n",
      "52 52000\n",
      "53 53000\n",
      "54 54000\n",
      "55 55000\n",
      "56 56000\n",
      "57 57000\n",
      "58 58000\n",
      "59 59000\n",
      "60 60000\n",
      "Saved.\n",
      "61 61000\n",
      "62 62000\n",
      "63 63000\n",
      "64 64000\n",
      "65 65000\n",
      "66 66000\n",
      "67 67000\n",
      "68 68000\n",
      "69 69000\n",
      "70 70000\n",
      "Saved.\n",
      "71 71000\n",
      "72 72000\n",
      "73 73000\n",
      "74 74000\n",
      "75 75000\n",
      "76 76000\n",
      "77 77000\n",
      "78 78000\n",
      "79 79000\n",
      "80 80000\n",
      "Saved.\n",
      "81 81000\n",
      "82 82000\n",
      "83 83000\n",
      "84 84000\n",
      "85 85000\n",
      "86 86000\n",
      "87 87000\n",
      "88 88000\n",
      "89 89000\n",
      "90 90000\n",
      "Saved.\n",
      "91 91000\n",
      "92 92000\n",
      "93 93000\n",
      "94 94000\n",
      "95 95000\n",
      "96 96000\n",
      "97 97000\n",
      "98 98000\n",
      "99 99000\n",
      "100 100000\n",
      "Saved.\n",
      "101 101000\n",
      "102 102000\n",
      "103 103000\n",
      "104 104000\n",
      "105 105000\n",
      "106 106000\n",
      "107 107000\n",
      "108 108000\n",
      "109 109000\n",
      "110 110000\n",
      "Saved.\n",
      "111 111000\n",
      "112 112000\n",
      "113 113000\n",
      "114 114000\n"
     ]
    }
   ],
   "source": [
    "spaces = df_spaces.id.unique()[:1000]\n",
    "collector = []\n",
    "for space in tqdm(spaces):\n",
    "    data_dir = \"data/votes/\"\n",
    "    filename = f\"snapshot_votes_{space}.json\"\n",
    "    if not os.path.exists(f\"{data_dir}/{file_name}\"):\n",
    "        q = gq(\"snapshot_votes_of_space\")\n",
    "        res = await gql_all(q, \n",
    "                        field=\"votes\", \n",
    "                        save= filename,\n",
    "                        data_dir= data_dir,\n",
    "                        vars={'space': space}\n",
    "                        )\n",
    "        collector += res"
   ]
  },
  {
   "cell_type": "code",
   "execution_count": null,
   "id": "14768821-22d0-49e5-85c8-80c9d198ff86",
   "metadata": {},
   "outputs": [],
   "source": [
    "path = 'data/votes/dashboard.csv'\n",
    "if not os.path.exists(path):\n",
    "    df_votes = pd.DataFrame(collector)\n",
    "    df_votes['space'] = df_votes.space.map(lambda x: x['id'])\n",
    "    df_votes['proposal'] = df_votes.proposal.map(lambda x: x['id'])\n",
    "    df_votes.to_csv(path, index=False)\n",
    "df_votes = pd.read_csv(path)\n",
    "df_votes.info()"
   ]
  },
  {
   "cell_type": "code",
   "execution_count": 57,
   "id": "086dae56-03ef-4890-b986-eae33ce157f4",
   "metadata": {},
   "outputs": [
    {
     "data": {
      "text/plain": [
       "id                Qmf2znkq4ojQgeB1vU5ecksR9VZzJ5Bk7xsMGBujhuhmW5\n",
       "ipfs              Qmf2znkq4ojQgeB1vU5ecksR9VZzJ5Bk7xsMGBujhuhmW5\n",
       "voter                 0xd91f945Ff7e5bc4eCc9EF852F0aD2bde367c2116\n",
       "created                                               1615292185\n",
       "space                                             bonustrack.eth\n",
       "proposal          QmcZhoTNwi7A2aKJRojWwKujohmYBFh7xZJFu3MMbjMZ2N\n",
       "choice                                                         1\n",
       "metadata                                                      {}\n",
       "reason                                                          \n",
       "app                                                             \n",
       "vp                                                      0.142998\n",
       "vp_by_strategy                       [0.14299795899449758, 0, 0]\n",
       "vp_state                                                   final\n",
       "Name: 0, dtype: object"
      ]
     },
     "execution_count": 57,
     "metadata": {},
     "output_type": "execute_result"
    }
   ],
   "source": [
    "df_votes.iloc[0]"
   ]
  },
  {
   "cell_type": "code",
   "execution_count": null,
   "id": "791d3d65-1ac8-4d9b-94e6-fa5965a0aaf8",
   "metadata": {},
   "outputs": [],
   "source": []
  }
 ],
 "metadata": {
  "kernelspec": {
   "display_name": "Python 3",
   "language": "python",
   "name": "python3"
  },
  "language_info": {
   "codemirror_mode": {
    "name": "ipython",
    "version": 3
   },
   "file_extension": ".py",
   "mimetype": "text/x-python",
   "name": "python",
   "nbconvert_exporter": "python",
   "pygments_lexer": "ipython3",
   "version": "3.7.6"
  }
 },
 "nbformat": 4,
 "nbformat_minor": 5
}
