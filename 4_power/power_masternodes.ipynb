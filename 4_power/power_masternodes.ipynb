{
 "cells": [
  {
   "cell_type": "markdown",
   "metadata": {},
   "source": [
    "## Power Masternodes\n",
    "\n",
    "First, load everthing at once."
   ]
  },
  {
   "cell_type": "code",
   "execution_count": 1,
   "metadata": {},
   "outputs": [
    {
     "name": "stdout",
     "output_type": "stream",
     "text": [
      "1.3.4\n",
      "1.21.2\n",
      "2.26.0\n",
      "3.5.0\n"
     ]
    }
   ],
   "source": [
    "import requests\n",
    "import pandas as pd\n",
    "import numpy as np\n",
    "import matplotlib.pyplot as plt\n",
    "\n",
    "from gql import gql, Client\n",
    "from gql.transport.aiohttp import AIOHTTPTransport\n",
    "\n",
    "from etherscan import Etherscan\n",
    "\n",
    "import json\n",
    "import time\n",
    "import os\n",
    "import random\n",
    "import math\n",
    "\n",
    "import scipy.stats as st\n",
    "\n",
    "\n",
    "print(pd.__version__)\n",
    "print(np.__version__)\n",
    "print(requests.__version__)\n",
    "print(plt.matplotlib.__version__)\n",
    "\n",
    "\n",
    "# https://martin-thoma.com/configuration-files-in-python/\n",
    "\n",
    "import json\n",
    "\n",
    "with open(\"../3_api/.private/keys.json\") as keys_file:\n",
    "    KEYS = json.load(keys_file)\n",
    "\n",
    "# Note: don't print the key, or if you do, delete the cell's output\n",
    "# (cell outputs are saved and can be sent to Github).\n",
    "\n",
    "\n",
    "## DEEPDAO\n",
    "\n",
    "def deepdao(query, params=None, post=False):\n",
    "\n",
    "    ENDPOINT = 'https://api.deepdao.io/v0.1/'\n",
    "\n",
    "    headers={\n",
    "        'x-api-key': KEYS['DEEPDAO'],\n",
    "        'accept': 'application/json'\n",
    "    }\n",
    "\n",
    "    if post:\n",
    "        response = requests.post(ENDPOINT + query,\n",
    "                                headers=headers,\n",
    "                                json=params)\n",
    "    else:\n",
    "        response = requests.get(ENDPOINT + query,\n",
    "                                headers=headers,\n",
    "                                params=params)\n",
    "\n",
    "    print(response)\n",
    "    return response.json()\n",
    "\n",
    "## ETHERSCAN\n",
    "############\n",
    "\n",
    "def etherscan(params={}):\n",
    "\n",
    "    ENDPOINT = 'https://api.etherscan.io/api'\n",
    "\n",
    "    params['apikey'] = KEYS['ETHERSCAN']\n",
    "\n",
    "    response = requests.get(ENDPOINT,\n",
    "                            headers={\n",
    "                                'accept': 'application/json',\n",
    "                                \"User-Agent\": \"\"\n",
    "                            },\n",
    "                            params=params)\n",
    "\n",
    "    print(response)\n",
    "    return response.json()\n",
    "\n",
    "\n",
    "eth = Etherscan(KEYS['ETHERSCAN'])\n",
    "\n",
    "## SNAPSHOT\n",
    "###########\n",
    "\n",
    "SNAPSHOT_ENDPOINT = \"https://hub.snapshot.org/graphql\"\n",
    "\n",
    "snapshot = Client(\n",
    "    transport=AIOHTTPTransport(url=SNAPSHOT_ENDPOINT)\n",
    ")\n",
    "\n",
    "\n",
    "def snapshot_rest(query, params=None):\n",
    "\n",
    "    response = requests.post(SNAPSHOT_ENDPOINT,\n",
    "                            headers={                      \n",
    "                                'accept': 'application/json'\n",
    "                            },\n",
    "                            params={\n",
    "                                'query': query\n",
    "                            })\n",
    "\n",
    "    print(response)\n",
    "    return response.json()['data']\n",
    "\n",
    "## THE GRAPH\n",
    "############\n",
    "\n",
    "## Endpoints depends on subgraph of interest.\n",
    "\n",
    "\n",
    "def pd_read_json(file):\n",
    "    ## Prevents Value too big Error.\n",
    "    with open(file) as f:\n",
    "        df = json.load(f)\n",
    "    df = pd.DataFrame(df)\n",
    "    return df\n",
    "\n",
    "\n",
    "def get_query(filename, do_gql=False):\n",
    "    with open(\"gql_queries/\" + filename.replace(\".gql\", \"\") + \".gql\") as f:\n",
    "        query = f.read()\n",
    "        if do_gql: query = gql(query)\n",
    "    return query\n",
    "    \n",
    "## Alias gq.\n",
    "gq = get_query\n",
    "\n",
    "\n",
    "def get_query(filename, do_gql=False):\n",
    "    with open(\"gql_queries/\" + filename.replace(\".gql\", \"\") + \".gql\") as f:\n",
    "        query = f.read()\n",
    "        if do_gql: query = gql(query)\n",
    "    return query\n",
    "    \n",
    "## Alias gq.\n",
    "gq = get_query\n",
    "\n",
    "async def gql_all(query, field, first=1000, skip=None, initial_list=None, \n",
    "                  counter = True, limit=None, save=None, save_interval=10, clear_on_save = False, append=True, rest=False, data_dir=\"data\", save_counter = 1, vars=None):\n",
    "\n",
    "    ## The returned value and the varible used to accumulate results.\n",
    "    out = []\n",
    "\n",
    "    ## Utility function to save intermediate and final results.\n",
    "    def save_json():\n",
    "\n",
    "        # Pandas has problem load pure json saves.\n",
    "        # Hence we create a pandas Dataframe and save it.\n",
    "        # nonlocal append\n",
    "        # flag = \"a\" if append else \"w\"\n",
    "        # with open(\"data/\" + save, flag) as f:\n",
    "        #     json.dump(out, f)\n",
    "        #     print(\"Saved.\")\n",
    "\n",
    "        nonlocal out\n",
    "        df = pd.DataFrame(out)\n",
    "\n",
    "        if clear_on_save:\n",
    "            \n",
    "            nonlocal save_counter\n",
    "            \n",
    "            sv = str(save_counter)\n",
    "            sv = sv.zfill(5)\n",
    "            save_counter += 1\n",
    "\n",
    "            filename = save.replace('.json', '_' + sv + '.json')\n",
    "            \n",
    "            out = []\n",
    "            out_str = \"Saved and cleared.\"\n",
    "        else:\n",
    "            filename = save\n",
    "            out_str = \"Saved.\"\n",
    "        \n",
    "        df.to_json(data_dir + \"/\" + filename, orient=\"records\")\n",
    "        print(out_str)\n",
    "\n",
    "        \n",
    "    ## Load initial list.\n",
    "    ## If no skip is provided, then skip is set to the length of\n",
    "    ## the initial list, otherwise we use the user-specified value\n",
    "    if initial_list:\n",
    "        out = initial_list\n",
    "        if skip is None:\n",
    "            skip = len(out)\n",
    "    elif skip is None:\n",
    "        skip = 0\n",
    "\n",
    "    ## Make a GQL query object, if necessary.\n",
    "    if not rest and type(query) == str:\n",
    "        query = gql(query)\n",
    "        \n",
    "\n",
    "    my_counter = 0\n",
    "    fetch = True\n",
    "    try:\n",
    "        while fetch:\n",
    "            \n",
    "            my_counter += 1\n",
    "            if limit and my_counter > limit:\n",
    "                print('**Limit reached: ', limit)\n",
    "                fetch = False\n",
    "                continue\n",
    "\n",
    "            if rest:\n",
    "\n",
    "                # Building query manually.\n",
    "                q = query.replace(\"($first: Int!, $skip: Int!)\", \"\")\n",
    "                q = q.replace(\"$first\", str(first))\n",
    "                q = q.replace(\"$skip\", str(skip))\n",
    "                # print(q)\n",
    "\n",
    "                ## Optional additional variables.\n",
    "                if vars:\n",
    "                    for v in vars:\n",
    "                        q = q.replace(\"$\" + v, str(vars[v]))\n",
    "\n",
    "                res = snapshot_rest(q)\n",
    "                \n",
    "            else:\n",
    "                \n",
    "                _vars = {\"first\": first, \"skip\": skip}\n",
    "                \n",
    "                ## Optional additional variables.\n",
    "                if vars:\n",
    "                    _vars = _vars | vars\n",
    "\n",
    "                res = await snapshot.execute_async(query, variable_values=_vars)\n",
    "            \n",
    "            if not res[field]:\n",
    "                print('**I am done fetching!**')\n",
    "                fetch = False\n",
    "            else:\n",
    "                out.extend(res[field])\n",
    "                skip += first\n",
    "                if counter: print(my_counter, len(out))\n",
    "\n",
    "                if save and my_counter % save_interval == 0:\n",
    "                    save_json()\n",
    "\n",
    "        if save and my_counter % save_interval != 0:\n",
    "            save_json()\n",
    "\n",
    "    except Exception as e:\n",
    "        print(str(e))\n",
    "        print(\"**An error occurred, exiting early.**\")\n",
    "        if save: save_json()\n",
    "    \n",
    "    return out\n",
    "\n",
    "def pd_read_dir(dir, blacklist=None, whitelist=None, ext=('.json')):\n",
    "    dir_df = pd.DataFrame()\n",
    "    \n",
    "\n",
    "    for file in os.listdir(dir):\n",
    "        if blacklist and file in blacklist:\n",
    "            continue\n",
    "        if whitelist and file not in whitelist:\n",
    "            continue\n",
    "\n",
    "        if file.endswith(ext):\n",
    "            tmp_df = pd_read_json(dir + '/' + file)\n",
    "            dir_df = pd.concat([dir_df, tmp_df])\n",
    "    \n",
    "    return dir_df"
   ]
  },
  {
   "cell_type": "markdown",
   "metadata": {},
   "source": [
    "## Preparing to compute power as in Mosley et al. (2022).\n",
    "\n",
    "\"Towards a systemic understanding of blockchain governance in proposal voting: A dash case study.\""
   ]
  },
  {
   "cell_type": "markdown",
   "metadata": {},
   "source": [
    "Load `spaces`, `proposals`, and `votes`."
   ]
  },
  {
   "cell_type": "code",
   "execution_count": 11,
   "metadata": {},
   "outputs": [],
   "source": [
    "spaces = pd_read_json(\"data/snapshot_spaces.json\")\n",
    "\n",
    "all_proposals = pd_read_json(\"data/5_snapshot_pancake_proposals.json\")\n"
   ]
  },
  {
   "cell_type": "code",
   "execution_count": 14,
   "metadata": {},
   "outputs": [],
   "source": [
    "## If downloaded already.\n",
    "all_votes = pd_read_dir(\"data/votes\")"
   ]
  },
  {
   "cell_type": "code",
   "execution_count": 15,
   "metadata": {},
   "outputs": [],
   "source": [
    "## Otherwise.\n",
    "## This query takes a while...\n",
    "# votes_query = gq(\"snapshot_votes\")\n",
    "# res = await gql_all(votes_query, \n",
    "#                     field=\"votes\", \n",
    "#                     rest=True,\n",
    "#                     save=\"snapshot_votes_test.json\",\n",
    "#                     data_dir=\"data/votes/\",\n",
    "#                     save_interval = 20,\n",
    "#                     limit=2,\n",
    "#                     first=20000, # First can be a high number.\n",
    "#                     clear_on_save=True\n",
    "#                     )"
   ]
  },
  {
   "cell_type": "code",
   "execution_count": 16,
   "metadata": {},
   "outputs": [
    {
     "name": "stdout",
     "output_type": "stream",
     "text": [
      "spaces:  11078\n",
      "proposals:  2263\n",
      "votes:  99893\n"
     ]
    }
   ],
   "source": [
    "print(\"spaces: \", len(spaces))\n",
    "print(\"proposals: \", len(all_proposals))\n",
    "print(\"votes: \", len(all_votes))"
   ]
  },
  {
   "cell_type": "markdown",
   "metadata": {},
   "source": [
    "### Cleanup"
   ]
  },
  {
   "cell_type": "markdown",
   "metadata": {},
   "source": [
    "#### Proposals"
   ]
  },
  {
   "cell_type": "code",
   "execution_count": 17,
   "metadata": {},
   "outputs": [
    {
     "name": "stdout",
     "output_type": "stream",
     "text": [
      "<class 'pandas.core.frame.DataFrame'>\n",
      "RangeIndex: 2263 entries, 0 to 2262\n",
      "Data columns (total 27 columns):\n",
      " #   Column              Non-Null Count  Dtype  \n",
      "---  ------              --------------  -----  \n",
      " 0   id                  2263 non-null   object \n",
      " 1   ipfs                2263 non-null   object \n",
      " 2   author              2263 non-null   object \n",
      " 3   created             2263 non-null   int64  \n",
      " 4   space               2263 non-null   object \n",
      " 5   network             2263 non-null   object \n",
      " 6   symbol              2263 non-null   object \n",
      " 7   type                2263 non-null   object \n",
      " 8   strategies          2263 non-null   object \n",
      " 9   plugins             2263 non-null   object \n",
      " 10  title               2263 non-null   object \n",
      " 11  body                2263 non-null   object \n",
      " 12  discussion          2263 non-null   object \n",
      " 13  choices             2263 non-null   object \n",
      " 14  start               2263 non-null   int64  \n",
      " 15  end                 2263 non-null   int64  \n",
      " 16  quorum              2263 non-null   float64\n",
      " 17  snapshot            2263 non-null   object \n",
      " 18  state               2263 non-null   object \n",
      " 19  link                2263 non-null   object \n",
      " 20  app                 2263 non-null   object \n",
      " 21  scores              2263 non-null   object \n",
      " 22  scores_by_strategy  2263 non-null   object \n",
      " 23  scores_state        2263 non-null   object \n",
      " 24  scores_total        2263 non-null   float64\n",
      " 25  scores_updated      2263 non-null   int64  \n",
      " 26  votes               2263 non-null   int64  \n",
      "dtypes: float64(2), int64(5), object(20)\n",
      "memory usage: 477.5+ KB\n"
     ]
    }
   ],
   "source": [
    "all_proposals.info()"
   ]
  },
  {
   "cell_type": "code",
   "execution_count": 28,
   "metadata": {},
   "outputs": [],
   "source": [
    "# all_proposals['space'] = all_proposals['space'].apply(lambda x : x['id'])"
   ]
  },
  {
   "cell_type": "code",
   "execution_count": 29,
   "metadata": {},
   "outputs": [
    {
     "data": {
      "text/plain": [
       "0    pancake\n",
       "1    pancake\n",
       "2    pancake\n",
       "3    pancake\n",
       "4    pancake\n",
       "Name: space, dtype: object"
      ]
     },
     "execution_count": 29,
     "metadata": {},
     "output_type": "execute_result"
    }
   ],
   "source": [
    "all_proposals['space'].head() "
   ]
  },
  {
   "cell_type": "markdown",
   "metadata": {},
   "source": [
    "#### Votes."
   ]
  },
  {
   "cell_type": "code",
   "execution_count": 30,
   "metadata": {},
   "outputs": [
    {
     "data": {
      "text/html": [
       "<div>\n",
       "<style scoped>\n",
       "    .dataframe tbody tr th:only-of-type {\n",
       "        vertical-align: middle;\n",
       "    }\n",
       "\n",
       "    .dataframe tbody tr th {\n",
       "        vertical-align: top;\n",
       "    }\n",
       "\n",
       "    .dataframe thead th {\n",
       "        text-align: right;\n",
       "    }\n",
       "</style>\n",
       "<table border=\"1\" class=\"dataframe\">\n",
       "  <thead>\n",
       "    <tr style=\"text-align: right;\">\n",
       "      <th></th>\n",
       "      <th>id</th>\n",
       "      <th>ipfs</th>\n",
       "      <th>voter</th>\n",
       "      <th>created</th>\n",
       "      <th>space</th>\n",
       "      <th>proposal</th>\n",
       "      <th>choice</th>\n",
       "      <th>metadata</th>\n",
       "      <th>reason</th>\n",
       "      <th>app</th>\n",
       "      <th>vp</th>\n",
       "      <th>vp_by_strategy</th>\n",
       "      <th>vp_state</th>\n",
       "      <th>vote_distance</th>\n",
       "    </tr>\n",
       "  </thead>\n",
       "  <tbody>\n",
       "    <tr>\n",
       "      <th>0</th>\n",
       "      <td>QmY3RStzfrjtnFUmZvwfriqtobDndKC2v5bY7gGt3yqmdk</td>\n",
       "      <td>QmY3RStzfrjtnFUmZvwfriqtobDndKC2v5bY7gGt3yqmdk</td>\n",
       "      <td>0xfe36132CAa71c4B1A88b38B79373aAb5E001457c</td>\n",
       "      <td>1636888820</td>\n",
       "      <td>pancake</td>\n",
       "      <td>0x8aec905ad562f5a320f7ae7d11d4d3de5eb48c70741b...</td>\n",
       "      <td>-1</td>\n",
       "      <td>{}</td>\n",
       "      <td></td>\n",
       "      <td></td>\n",
       "      <td>0.001</td>\n",
       "      <td>[0.001]</td>\n",
       "      <td>final</td>\n",
       "      <td>0.0</td>\n",
       "    </tr>\n",
       "    <tr>\n",
       "      <th>1</th>\n",
       "      <td>QmZh17iC3C8pUD9J9xxCKHwPdtqetbMUyDndd5JdMYkP77</td>\n",
       "      <td>QmZh17iC3C8pUD9J9xxCKHwPdtqetbMUyDndd5JdMYkP77</td>\n",
       "      <td>0xD3815588b090Cd966fA078134517eb091ea5a22c</td>\n",
       "      <td>1636888820</td>\n",
       "      <td>pancake</td>\n",
       "      <td>0x8aec905ad562f5a320f7ae7d11d4d3de5eb48c70741b...</td>\n",
       "      <td>-1</td>\n",
       "      <td>{}</td>\n",
       "      <td></td>\n",
       "      <td></td>\n",
       "      <td>0.001</td>\n",
       "      <td>[0.001]</td>\n",
       "      <td>final</td>\n",
       "      <td>0.0</td>\n",
       "    </tr>\n",
       "    <tr>\n",
       "      <th>2</th>\n",
       "      <td>QmbXri9w7yau8mU7J91cRgT3FLNDgaKpm7DbQhESgJnzD6</td>\n",
       "      <td>QmbXri9w7yau8mU7J91cRgT3FLNDgaKpm7DbQhESgJnzD6</td>\n",
       "      <td>0x6e02F9ebcbeA1D919E77d237cD32150d00F41B03</td>\n",
       "      <td>1636888821</td>\n",
       "      <td>pancake</td>\n",
       "      <td>0xc36810958127e4d424b287cf168e972abdc6321403ef...</td>\n",
       "      <td>-1</td>\n",
       "      <td>{}</td>\n",
       "      <td></td>\n",
       "      <td></td>\n",
       "      <td>0.001</td>\n",
       "      <td>[0.001]</td>\n",
       "      <td>final</td>\n",
       "      <td>0.0</td>\n",
       "    </tr>\n",
       "    <tr>\n",
       "      <th>3</th>\n",
       "      <td>Qmc885Jdk1qPQLYpWyj2dSSG1azMgCFEtYZrs68tD3uTK5</td>\n",
       "      <td>Qmc885Jdk1qPQLYpWyj2dSSG1azMgCFEtYZrs68tD3uTK5</td>\n",
       "      <td>0x0b0498E4FB7817358fee5B20501DB0cE7e40bA36</td>\n",
       "      <td>1636888821</td>\n",
       "      <td>pancake</td>\n",
       "      <td>0xff8e1a71a0675b8fd96c7828c1df1e0939ac3fc7a90a...</td>\n",
       "      <td>-1</td>\n",
       "      <td>{}</td>\n",
       "      <td></td>\n",
       "      <td></td>\n",
       "      <td>0.001</td>\n",
       "      <td>[0.001]</td>\n",
       "      <td>final</td>\n",
       "      <td>0.0</td>\n",
       "    </tr>\n",
       "    <tr>\n",
       "      <th>4</th>\n",
       "      <td>QmdoVaEeaEVC3hnycezMozfQ2gHWCLujcw4bXovaGgtXzz</td>\n",
       "      <td>QmdoVaEeaEVC3hnycezMozfQ2gHWCLujcw4bXovaGgtXzz</td>\n",
       "      <td>0xadEF37Aa14Ef396167982a3c547a0C796C01f28C</td>\n",
       "      <td>1636888821</td>\n",
       "      <td>pancake</td>\n",
       "      <td>0x8aec905ad562f5a320f7ae7d11d4d3de5eb48c70741b...</td>\n",
       "      <td>-1</td>\n",
       "      <td>{}</td>\n",
       "      <td></td>\n",
       "      <td></td>\n",
       "      <td>0.001</td>\n",
       "      <td>[0.001]</td>\n",
       "      <td>final</td>\n",
       "      <td>0.0</td>\n",
       "    </tr>\n",
       "  </tbody>\n",
       "</table>\n",
       "</div>"
      ],
      "text/plain": [
       "                                               id  \\\n",
       "0  QmY3RStzfrjtnFUmZvwfriqtobDndKC2v5bY7gGt3yqmdk   \n",
       "1  QmZh17iC3C8pUD9J9xxCKHwPdtqetbMUyDndd5JdMYkP77   \n",
       "2  QmbXri9w7yau8mU7J91cRgT3FLNDgaKpm7DbQhESgJnzD6   \n",
       "3  Qmc885Jdk1qPQLYpWyj2dSSG1azMgCFEtYZrs68tD3uTK5   \n",
       "4  QmdoVaEeaEVC3hnycezMozfQ2gHWCLujcw4bXovaGgtXzz   \n",
       "\n",
       "                                             ipfs  \\\n",
       "0  QmY3RStzfrjtnFUmZvwfriqtobDndKC2v5bY7gGt3yqmdk   \n",
       "1  QmZh17iC3C8pUD9J9xxCKHwPdtqetbMUyDndd5JdMYkP77   \n",
       "2  QmbXri9w7yau8mU7J91cRgT3FLNDgaKpm7DbQhESgJnzD6   \n",
       "3  Qmc885Jdk1qPQLYpWyj2dSSG1azMgCFEtYZrs68tD3uTK5   \n",
       "4  QmdoVaEeaEVC3hnycezMozfQ2gHWCLujcw4bXovaGgtXzz   \n",
       "\n",
       "                                        voter     created    space  \\\n",
       "0  0xfe36132CAa71c4B1A88b38B79373aAb5E001457c  1636888820  pancake   \n",
       "1  0xD3815588b090Cd966fA078134517eb091ea5a22c  1636888820  pancake   \n",
       "2  0x6e02F9ebcbeA1D919E77d237cD32150d00F41B03  1636888821  pancake   \n",
       "3  0x0b0498E4FB7817358fee5B20501DB0cE7e40bA36  1636888821  pancake   \n",
       "4  0xadEF37Aa14Ef396167982a3c547a0C796C01f28C  1636888821  pancake   \n",
       "\n",
       "                                            proposal  choice metadata reason  \\\n",
       "0  0x8aec905ad562f5a320f7ae7d11d4d3de5eb48c70741b...      -1       {}          \n",
       "1  0x8aec905ad562f5a320f7ae7d11d4d3de5eb48c70741b...      -1       {}          \n",
       "2  0xc36810958127e4d424b287cf168e972abdc6321403ef...      -1       {}          \n",
       "3  0xff8e1a71a0675b8fd96c7828c1df1e0939ac3fc7a90a...      -1       {}          \n",
       "4  0x8aec905ad562f5a320f7ae7d11d4d3de5eb48c70741b...      -1       {}          \n",
       "\n",
       "  app     vp vp_by_strategy vp_state  vote_distance  \n",
       "0      0.001        [0.001]    final            0.0  \n",
       "1      0.001        [0.001]    final            0.0  \n",
       "2      0.001        [0.001]    final            0.0  \n",
       "3      0.001        [0.001]    final            0.0  \n",
       "4      0.001        [0.001]    final            0.0  "
      ]
     },
     "execution_count": 30,
     "metadata": {},
     "output_type": "execute_result"
    }
   ],
   "source": [
    "all_votes.head()\n"
   ]
  },
  {
   "cell_type": "code",
   "execution_count": 31,
   "metadata": {},
   "outputs": [],
   "source": [
    "# all_votes['space'] = all_votes['space'].apply(lambda x : x['id'])\n"
   ]
  },
  {
   "cell_type": "code",
   "execution_count": 32,
   "metadata": {},
   "outputs": [],
   "source": [
    "# ## Returns an error, we need to account for a None field.\n",
    "# # all_votes['proposal'] = all_votes['proposal'].apply(lambda x : x['id'])\n",
    "\n",
    "# all_votes['proposal'] = all_votes['proposal'].apply(lambda x : \n",
    "#     x if x is None else x['id']\n",
    "# )"
   ]
  },
  {
   "cell_type": "markdown",
   "metadata": {},
   "source": [
    "#### Pancake Swap"
   ]
  },
  {
   "cell_type": "markdown",
   "metadata": {},
   "source": [
    "Who did most of the proposals?"
   ]
  },
  {
   "cell_type": "code",
   "execution_count": 33,
   "metadata": {},
   "outputs": [
    {
     "data": {
      "text/plain": [
       "'pancake'"
      ]
     },
     "execution_count": 33,
     "metadata": {},
     "output_type": "execute_result"
    }
   ],
   "source": [
    "most_props = spaces[spaces['proposalsCount'] == max(spaces['proposalsCount'])]\n",
    "DAO_MOST_PROPS_ID = most_props['id'].iloc[0]\n",
    "DAO_MOST_PROPS_ID\n"
   ]
  },
  {
   "cell_type": "code",
   "execution_count": 34,
   "metadata": {},
   "outputs": [
    {
     "data": {
      "text/plain": [
       "pancake    2263\n",
       "Name: space, dtype: int64"
      ]
     },
     "execution_count": 34,
     "metadata": {},
     "output_type": "execute_result"
    }
   ],
   "source": [
    "all_proposals['space'].value_counts()"
   ]
  },
  {
   "cell_type": "code",
   "execution_count": 35,
   "metadata": {},
   "outputs": [
    {
     "name": "stdout",
     "output_type": "stream",
     "text": [
      "<class 'pandas.core.frame.DataFrame'>\n",
      "Int64Index: 2263 entries, 0 to 2262\n",
      "Data columns (total 27 columns):\n",
      " #   Column              Non-Null Count  Dtype  \n",
      "---  ------              --------------  -----  \n",
      " 0   id                  2263 non-null   object \n",
      " 1   ipfs                2263 non-null   object \n",
      " 2   author              2263 non-null   object \n",
      " 3   created             2263 non-null   int64  \n",
      " 4   space               2263 non-null   object \n",
      " 5   network             2263 non-null   object \n",
      " 6   symbol              2263 non-null   object \n",
      " 7   type                2263 non-null   object \n",
      " 8   strategies          2263 non-null   object \n",
      " 9   plugins             2263 non-null   object \n",
      " 10  title               2263 non-null   object \n",
      " 11  body                2263 non-null   object \n",
      " 12  discussion          2263 non-null   object \n",
      " 13  choices             2263 non-null   object \n",
      " 14  start               2263 non-null   int64  \n",
      " 15  end                 2263 non-null   int64  \n",
      " 16  quorum              2263 non-null   float64\n",
      " 17  snapshot            2263 non-null   object \n",
      " 18  state               2263 non-null   object \n",
      " 19  link                2263 non-null   object \n",
      " 20  app                 2263 non-null   object \n",
      " 21  scores              2263 non-null   object \n",
      " 22  scores_by_strategy  2263 non-null   object \n",
      " 23  scores_state        2263 non-null   object \n",
      " 24  scores_total        2263 non-null   float64\n",
      " 25  scores_updated      2263 non-null   int64  \n",
      " 26  votes               2263 non-null   int64  \n",
      "dtypes: float64(2), int64(5), object(20)\n",
      "memory usage: 495.0+ KB\n"
     ]
    }
   ],
   "source": [
    "pancake_props = all_proposals[all_proposals['space'] == DAO_MOST_PROPS_ID ]\n",
    "pancake_props.info()"
   ]
  },
  {
   "cell_type": "code",
   "execution_count": 36,
   "metadata": {},
   "outputs": [
    {
     "name": "stdout",
     "output_type": "stream",
     "text": [
      "<class 'pandas.core.frame.DataFrame'>\n",
      "Int64Index: 99893 entries, 0 to 99892\n",
      "Data columns (total 14 columns):\n",
      " #   Column          Non-Null Count  Dtype  \n",
      "---  ------          --------------  -----  \n",
      " 0   id              99893 non-null  object \n",
      " 1   ipfs            99893 non-null  object \n",
      " 2   voter           99893 non-null  object \n",
      " 3   created         99893 non-null  int64  \n",
      " 4   space           99893 non-null  object \n",
      " 5   proposal        99893 non-null  object \n",
      " 6   choice          99893 non-null  int64  \n",
      " 7   metadata        99893 non-null  object \n",
      " 8   reason          99893 non-null  object \n",
      " 9   app             99893 non-null  object \n",
      " 10  vp              99893 non-null  float64\n",
      " 11  vp_by_strategy  99893 non-null  object \n",
      " 12  vp_state        99893 non-null  object \n",
      " 13  vote_distance   99893 non-null  float64\n",
      "dtypes: float64(2), int64(2), object(10)\n",
      "memory usage: 11.4+ MB\n"
     ]
    }
   ],
   "source": [
    "pancake_votes = all_votes[all_votes['space'] == DAO_MOST_PROPS_ID ]\n",
    "pancake_votes.info()"
   ]
  },
  {
   "cell_type": "code",
   "execution_count": 37,
   "metadata": {},
   "outputs": [
    {
     "data": {
      "text/plain": [
       "-1    97867\n",
       " 0     1707\n",
       " 1      319\n",
       "Name: choice, dtype: int64"
      ]
     },
     "execution_count": 37,
     "metadata": {},
     "output_type": "execute_result"
    }
   ],
   "source": [
    "## Generate an error, there are mixed types.\n",
    "pancake_votes['choice'].value_counts()"
   ]
  },
  {
   "cell_type": "code",
   "execution_count": 38,
   "metadata": {},
   "outputs": [
    {
     "data": {
      "text/plain": [
       "count    99893.000000\n",
       "mean        -0.976525\n",
       "std          0.171205\n",
       "min         -1.000000\n",
       "25%         -1.000000\n",
       "50%         -1.000000\n",
       "75%         -1.000000\n",
       "max          1.000000\n",
       "Name: choice, dtype: float64"
      ]
     },
     "execution_count": 38,
     "metadata": {},
     "output_type": "execute_result"
    }
   ],
   "source": [
    "pancake_votes['choice'].describe()"
   ]
  },
  {
   "cell_type": "markdown",
   "metadata": {},
   "source": [
    "Let's remove non 'int' votes (e.g., ranked choices).\n",
    "\n",
    "In the real analysis we should try to analyze all data."
   ]
  },
  {
   "cell_type": "code",
   "execution_count": 39,
   "metadata": {},
   "outputs": [
    {
     "name": "stdout",
     "output_type": "stream",
     "text": [
      "99893\n",
      "319\n"
     ]
    }
   ],
   "source": [
    "print(len(pancake_votes))\n",
    "pancake_votes = pancake_votes[pancake_votes['choice'].isin([1,2,3])]\n",
    "print(len(pancake_votes))"
   ]
  },
  {
   "cell_type": "code",
   "execution_count": 40,
   "metadata": {},
   "outputs": [
    {
     "data": {
      "text/plain": [
       "1    319\n",
       "Name: choice, dtype: int64"
      ]
     },
     "execution_count": 40,
     "metadata": {},
     "output_type": "execute_result"
    }
   ],
   "source": [
    "pancake_votes['choice'].value_counts()"
   ]
  },
  {
   "cell_type": "markdown",
   "metadata": {},
   "source": [
    "Let's center them around zero."
   ]
  },
  {
   "cell_type": "code",
   "execution_count": 41,
   "metadata": {},
   "outputs": [
    {
     "data": {
      "text/plain": [
       "-1    319\n",
       "Name: choice, dtype: int64"
      ]
     },
     "execution_count": 41,
     "metadata": {},
     "output_type": "execute_result"
    }
   ],
   "source": [
    "pancake_votes['choice'] = pancake_votes['choice'] - 2\n",
    "pancake_votes['choice'].value_counts()"
   ]
  },
  {
   "cell_type": "markdown",
   "metadata": {},
   "source": [
    "How much a node deviate from the others in every proposal."
   ]
  },
  {
   "cell_type": "code",
   "execution_count": 42,
   "metadata": {},
   "outputs": [],
   "source": [
    "def euclid(row):\n",
    "    vote = row['choice']\n",
    "    proposal = row['proposal']\n",
    "    other_votes = pancake_votes[pancake_votes['proposal'] == proposal]\n",
    "    distances = other_votes['choice'].apply(lambda x: math.pow((vote - x), 2))\n",
    "    return math.sqrt(sum(distances))\n",
    "\n",
    "\n",
    "pancake_votes['vote_distance'] = pancake_votes.apply(euclid, axis=1)"
   ]
  },
  {
   "cell_type": "code",
   "execution_count": 43,
   "metadata": {},
   "outputs": [
    {
     "data": {
      "text/plain": [
       "count    319.0\n",
       "mean       0.0\n",
       "std        0.0\n",
       "min        0.0\n",
       "25%        0.0\n",
       "50%        0.0\n",
       "75%        0.0\n",
       "max        0.0\n",
       "Name: vote_distance, dtype: float64"
      ]
     },
     "execution_count": 43,
     "metadata": {},
     "output_type": "execute_result"
    }
   ],
   "source": [
    "pancake_votes['vote_distance'].describe()\n"
   ]
  },
  {
   "cell_type": "code",
   "execution_count": 44,
   "metadata": {},
   "outputs": [
    {
     "data": {
      "text/plain": [
       "<AxesSubplot:ylabel='Frequency'>"
      ]
     },
     "execution_count": 44,
     "metadata": {},
     "output_type": "execute_result"
    },
    {
     "data": {
      "image/png": "[encoded data removed]",
      "text/plain": [
       "<Figure size 432x288 with 1 Axes>"
      ]
     },
     "metadata": {
      "needs_background": "light"
     },
     "output_type": "display_data"
    }
   ],
   "source": [
    "pancake_votes['vote_distance'].plot.hist(bins=100)"
   ]
  },
  {
   "cell_type": "code",
   "execution_count": 45,
   "metadata": {},
   "outputs": [],
   "source": [
    "pancake_prop_groups = pancake_votes.groupby('proposal')\n"
   ]
  },
  {
   "cell_type": "markdown",
   "metadata": {},
   "source": [
    "What are the proposals with the highest variation in voting?"
   ]
  },
  {
   "cell_type": "code",
   "execution_count": 46,
   "metadata": {},
   "outputs": [
    {
     "data": {
      "text/html": [
       "<div>\n",
       "<style scoped>\n",
       "    .dataframe tbody tr th:only-of-type {\n",
       "        vertical-align: middle;\n",
       "    }\n",
       "\n",
       "    .dataframe tbody tr th {\n",
       "        vertical-align: top;\n",
       "    }\n",
       "\n",
       "    .dataframe thead th {\n",
       "        text-align: right;\n",
       "    }\n",
       "</style>\n",
       "<table border=\"1\" class=\"dataframe\">\n",
       "  <thead>\n",
       "    <tr style=\"text-align: right;\">\n",
       "      <th></th>\n",
       "      <th>count</th>\n",
       "      <th>mean</th>\n",
       "      <th>std</th>\n",
       "      <th>min</th>\n",
       "      <th>25%</th>\n",
       "      <th>50%</th>\n",
       "      <th>75%</th>\n",
       "      <th>max</th>\n",
       "    </tr>\n",
       "    <tr>\n",
       "      <th>proposal</th>\n",
       "      <th></th>\n",
       "      <th></th>\n",
       "      <th></th>\n",
       "      <th></th>\n",
       "      <th></th>\n",
       "      <th></th>\n",
       "      <th></th>\n",
       "      <th></th>\n",
       "    </tr>\n",
       "  </thead>\n",
       "  <tbody>\n",
       "    <tr>\n",
       "      <th>0x0630836254670530442283c2758cf7a26b4caf9217f43d9c54f2045529a64a5f</th>\n",
       "      <td>2.0</td>\n",
       "      <td>0.0</td>\n",
       "      <td>0.0</td>\n",
       "      <td>0.0</td>\n",
       "      <td>0.0</td>\n",
       "      <td>0.0</td>\n",
       "      <td>0.0</td>\n",
       "      <td>0.0</td>\n",
       "    </tr>\n",
       "    <tr>\n",
       "      <th>0x0812f61882d4fda0967735494f8236b77f47f6806ae8a256a79e05de1bb9d44c</th>\n",
       "      <td>1.0</td>\n",
       "      <td>0.0</td>\n",
       "      <td>NaN</td>\n",
       "      <td>0.0</td>\n",
       "      <td>0.0</td>\n",
       "      <td>0.0</td>\n",
       "      <td>0.0</td>\n",
       "      <td>0.0</td>\n",
       "    </tr>\n",
       "    <tr>\n",
       "      <th>0xb86a53ae8d7e95cbfaace30dd64142cdf5d56148d462bbc6329b6ce869e84008</th>\n",
       "      <td>1.0</td>\n",
       "      <td>0.0</td>\n",
       "      <td>NaN</td>\n",
       "      <td>0.0</td>\n",
       "      <td>0.0</td>\n",
       "      <td>0.0</td>\n",
       "      <td>0.0</td>\n",
       "      <td>0.0</td>\n",
       "    </tr>\n",
       "    <tr>\n",
       "      <th>0xb77624cc6aec0fbf99a8284ac03f2b3b7fbd4754211b9e8574b1b3f38775f6e8</th>\n",
       "      <td>2.0</td>\n",
       "      <td>0.0</td>\n",
       "      <td>0.0</td>\n",
       "      <td>0.0</td>\n",
       "      <td>0.0</td>\n",
       "      <td>0.0</td>\n",
       "      <td>0.0</td>\n",
       "      <td>0.0</td>\n",
       "    </tr>\n",
       "    <tr>\n",
       "      <th>0xb1d9feef641ded3abccfde08a46edf2f12b6eeb72e47ad94e16674a6d5bb281f</th>\n",
       "      <td>1.0</td>\n",
       "      <td>0.0</td>\n",
       "      <td>NaN</td>\n",
       "      <td>0.0</td>\n",
       "      <td>0.0</td>\n",
       "      <td>0.0</td>\n",
       "      <td>0.0</td>\n",
       "      <td>0.0</td>\n",
       "    </tr>\n",
       "    <tr>\n",
       "      <th>...</th>\n",
       "      <td>...</td>\n",
       "      <td>...</td>\n",
       "      <td>...</td>\n",
       "      <td>...</td>\n",
       "      <td>...</td>\n",
       "      <td>...</td>\n",
       "      <td>...</td>\n",
       "      <td>...</td>\n",
       "    </tr>\n",
       "    <tr>\n",
       "      <th>0x3b58cc7f37ed2777a6903ade4ed4b18d7cd75507bd20997ceee90b090d87900a</th>\n",
       "      <td>4.0</td>\n",
       "      <td>0.0</td>\n",
       "      <td>0.0</td>\n",
       "      <td>0.0</td>\n",
       "      <td>0.0</td>\n",
       "      <td>0.0</td>\n",
       "      <td>0.0</td>\n",
       "      <td>0.0</td>\n",
       "    </tr>\n",
       "    <tr>\n",
       "      <th>0x39386ff9c28b639397ae2b107e28820eb3b9d5c1df7bf4e49c594e7ef2afa139</th>\n",
       "      <td>4.0</td>\n",
       "      <td>0.0</td>\n",
       "      <td>0.0</td>\n",
       "      <td>0.0</td>\n",
       "      <td>0.0</td>\n",
       "      <td>0.0</td>\n",
       "      <td>0.0</td>\n",
       "      <td>0.0</td>\n",
       "    </tr>\n",
       "    <tr>\n",
       "      <th>0x377da27f5e4a91113207b5291aec769c4e73adfe2c546d5b568042e1ee4b51f1</th>\n",
       "      <td>1.0</td>\n",
       "      <td>0.0</td>\n",
       "      <td>NaN</td>\n",
       "      <td>0.0</td>\n",
       "      <td>0.0</td>\n",
       "      <td>0.0</td>\n",
       "      <td>0.0</td>\n",
       "      <td>0.0</td>\n",
       "    </tr>\n",
       "    <tr>\n",
       "      <th>0x36e87ebdb48730d95e7e4b23dabef21dea45143857551519dc767ea6a37be1b1</th>\n",
       "      <td>3.0</td>\n",
       "      <td>0.0</td>\n",
       "      <td>0.0</td>\n",
       "      <td>0.0</td>\n",
       "      <td>0.0</td>\n",
       "      <td>0.0</td>\n",
       "      <td>0.0</td>\n",
       "      <td>0.0</td>\n",
       "    </tr>\n",
       "    <tr>\n",
       "      <th>QmeSLGYchkP7htAEnUGMmomKHiYJbgEeYv7nVJvCQrGae6</th>\n",
       "      <td>1.0</td>\n",
       "      <td>0.0</td>\n",
       "      <td>NaN</td>\n",
       "      <td>0.0</td>\n",
       "      <td>0.0</td>\n",
       "      <td>0.0</td>\n",
       "      <td>0.0</td>\n",
       "      <td>0.0</td>\n",
       "    </tr>\n",
       "  </tbody>\n",
       "</table>\n",
       "<p>80 rows × 8 columns</p>\n",
       "</div>"
      ],
      "text/plain": [
       "                                                    count  mean  std  min  \\\n",
       "proposal                                                                    \n",
       "0x0630836254670530442283c2758cf7a26b4caf9217f43...    2.0   0.0  0.0  0.0   \n",
       "0x0812f61882d4fda0967735494f8236b77f47f6806ae8a...    1.0   0.0  NaN  0.0   \n",
       "0xb86a53ae8d7e95cbfaace30dd64142cdf5d56148d462b...    1.0   0.0  NaN  0.0   \n",
       "0xb77624cc6aec0fbf99a8284ac03f2b3b7fbd4754211b9...    2.0   0.0  0.0  0.0   \n",
       "0xb1d9feef641ded3abccfde08a46edf2f12b6eeb72e47a...    1.0   0.0  NaN  0.0   \n",
       "...                                                   ...   ...  ...  ...   \n",
       "0x3b58cc7f37ed2777a6903ade4ed4b18d7cd75507bd209...    4.0   0.0  0.0  0.0   \n",
       "0x39386ff9c28b639397ae2b107e28820eb3b9d5c1df7bf...    4.0   0.0  0.0  0.0   \n",
       "0x377da27f5e4a91113207b5291aec769c4e73adfe2c546...    1.0   0.0  NaN  0.0   \n",
       "0x36e87ebdb48730d95e7e4b23dabef21dea45143857551...    3.0   0.0  0.0  0.0   \n",
       "QmeSLGYchkP7htAEnUGMmomKHiYJbgEeYv7nVJvCQrGae6        1.0   0.0  NaN  0.0   \n",
       "\n",
       "                                                    25%  50%  75%  max  \n",
       "proposal                                                                \n",
       "0x0630836254670530442283c2758cf7a26b4caf9217f43...  0.0  0.0  0.0  0.0  \n",
       "0x0812f61882d4fda0967735494f8236b77f47f6806ae8a...  0.0  0.0  0.0  0.0  \n",
       "0xb86a53ae8d7e95cbfaace30dd64142cdf5d56148d462b...  0.0  0.0  0.0  0.0  \n",
       "0xb77624cc6aec0fbf99a8284ac03f2b3b7fbd4754211b9...  0.0  0.0  0.0  0.0  \n",
       "0xb1d9feef641ded3abccfde08a46edf2f12b6eeb72e47a...  0.0  0.0  0.0  0.0  \n",
       "...                                                 ...  ...  ...  ...  \n",
       "0x3b58cc7f37ed2777a6903ade4ed4b18d7cd75507bd209...  0.0  0.0  0.0  0.0  \n",
       "0x39386ff9c28b639397ae2b107e28820eb3b9d5c1df7bf...  0.0  0.0  0.0  0.0  \n",
       "0x377da27f5e4a91113207b5291aec769c4e73adfe2c546...  0.0  0.0  0.0  0.0  \n",
       "0x36e87ebdb48730d95e7e4b23dabef21dea45143857551...  0.0  0.0  0.0  0.0  \n",
       "QmeSLGYchkP7htAEnUGMmomKHiYJbgEeYv7nVJvCQrGae6      0.0  0.0  0.0  0.0  \n",
       "\n",
       "[80 rows x 8 columns]"
      ]
     },
     "execution_count": 46,
     "metadata": {},
     "output_type": "execute_result"
    }
   ],
   "source": [
    "pancake_prop_groups['vote_distance'].describe().sort_values('mean', ascending= False)"
   ]
  },
  {
   "cell_type": "markdown",
   "metadata": {},
   "source": [
    "**Exercise: implement the Masternode Voting Network algorithm**"
   ]
  },
  {
   "cell_type": "code",
   "execution_count": 47,
   "metadata": {},
   "outputs": [
    {
     "data": {
      "text/plain": [
       "232"
      ]
     },
     "execution_count": 47,
     "metadata": {},
     "output_type": "execute_result"
    }
   ],
   "source": [
    "voters = pancake_votes['voter'].unique()\n",
    "len(voters)"
   ]
  },
  {
   "cell_type": "code",
   "execution_count": 48,
   "metadata": {},
   "outputs": [],
   "source": [
    "## Your code here.\n"
   ]
  },
  {
   "cell_type": "code",
   "execution_count": null,
   "metadata": {},
   "outputs": [],
   "source": []
  }
 ],
 "metadata": {
  "kernelspec": {
   "display_name": "Python 3",
   "language": "python",
   "name": "python3"
  },
  "language_info": {
   "codemirror_mode": {
    "name": "ipython",
    "version": 3
   },
   "file_extension": ".py",
   "mimetype": "text/x-python",
   "name": "python",
   "nbconvert_exporter": "python",
   "pygments_lexer": "ipython3",
   "version": "3.7.6"
  },
  "vscode": {
   "interpreter": {
    "hash": "40d3a090f54c6569ab1632332b64b2c03c39dcf918b08424e98f38b5ae0af88f"
   }
  }
 },
 "nbformat": 4,
 "nbformat_minor": 4
}
