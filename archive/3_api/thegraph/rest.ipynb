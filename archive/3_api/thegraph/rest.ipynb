{
 "cells": [
  {
   "cell_type": "code",
   "execution_count": null,
   "metadata": {},
   "outputs": [],
   "source": [
    "import requests\n",
    "import pandas as pd\n",
    "import numpy as np\n",
    "\n",
    "\n",
    "# https://martin-thoma.com/configuration-files-in-python/\n",
    "\n",
    "import json\n",
    "\n",
    "with open(\"../.private/keys.json\") as keys_file:\n",
    "    KEYS = json.load(keys_file)\n",
    "\n",
    "APIKEY = KEYS[\"THEGRAPH\"]\n",
    "# Note: don't print the key, or if you do, delete the cell's output\n",
    "# (cell outputs are saved and can be sent to Github)."
   ]
  },
  {
   "cell_type": "markdown",
   "metadata": {},
   "source": [
    "Badger DAO graph endpoint."
   ]
  },
  {
   "cell_type": "code",
   "execution_count": null,
   "metadata": {},
   "outputs": [],
   "source": [
    "# Badger DAO\n",
    "ENDPOINT = (\n",
    "    \"https://gateway.thegraph.com/api/\"\n",
    "    + APIKEY\n",
    "    + \"/subgraphs/id/GGv13zuXnvG4V97Yn8FvfY5c73j1Df78D9rzvSye3yXr\"\n",
    ")\n",
    "# https://thegraph.com/explorer/subgraph?id=GGv13zuXnvG4V97Yn8FvfY5c73j1Df78D9rzvSye3yXr&view=Playground"
   ]
  },
  {
   "cell_type": "markdown",
   "metadata": {},
   "source": [
    "Load the gql client."
   ]
  },
  {
   "cell_type": "code",
   "execution_count": null,
   "metadata": {},
   "outputs": [],
   "source": [
    "# !pip install gql\n",
    "# !pip install aiohttp\n",
    "from gql import gql, Client\n",
    "from gql.transport.aiohttp import AIOHTTPTransport"
   ]
  },
  {
   "cell_type": "code",
   "execution_count": null,
   "metadata": {},
   "outputs": [],
   "source": [
    "transport = AIOHTTPTransport(url=ENDPOINT)\n",
    "client = Client(\n",
    "    transport=transport\n",
    "    # fetch_schema_from_transport=True\n",
    ")"
   ]
  },
  {
   "cell_type": "markdown",
   "metadata": {},
   "source": [
    "Let's try a first query."
   ]
  },
  {
   "cell_type": "code",
   "execution_count": null,
   "metadata": {},
   "outputs": [],
   "source": [
    "query = gql(\n",
    "    \"\"\"\n",
    "{\n",
    "  users(first: 5) {\n",
    "    id\n",
    "    settBalances {\n",
    "      id\n",
    "    }\n",
    "  }\n",
    "  setts(first: 5) {\n",
    "    id\n",
    "    name\n",
    "    symbol\n",
    "    token {\n",
    "      id\n",
    "    }\n",
    "  }\n",
    "}\n",
    "\"\"\"\n",
    ")"
   ]
  },
  {
   "cell_type": "code",
   "execution_count": null,
   "metadata": {},
   "outputs": [],
   "source": [
    "result = await client.execute_async(query)\n",
    "print(result)"
   ]
  },
  {
   "cell_type": "code",
   "execution_count": null,
   "metadata": {},
   "outputs": [],
   "source": [
    "result[\"users\"]"
   ]
  },
  {
   "cell_type": "code",
   "execution_count": null,
   "metadata": {},
   "outputs": [],
   "source": [
    "result[\"setts\"]"
   ]
  },
  {
   "cell_type": "code",
   "execution_count": null,
   "metadata": {},
   "outputs": [],
   "source": [
    "query = gql(\n",
    "    \"\"\"\n",
    "  query ($first: Int!, $skip: Int!) {\n",
    "    users(\n",
    "        first: $first,\n",
    "        skip: $skip\n",
    "    ) {\n",
    "        id\n",
    "        settBalances {\n",
    "        id\n",
    "        netDeposit\n",
    "        }\n",
    "    }\n",
    "}\n",
    "\"\"\"\n",
    ")"
   ]
  },
  {
   "cell_type": "code",
   "execution_count": null,
   "metadata": {},
   "outputs": [],
   "source": [
    "users_all = []"
   ]
  },
  {
   "cell_type": "code",
   "execution_count": null,
   "metadata": {},
   "outputs": [],
   "source": [
    "users = users_all\n",
    "first = 1000\n",
    "skip = len(users_all)\n",
    "fetch = True\n",
    "while fetch:\n",
    "    vars = {\"first\": first, \"skip\": skip}\n",
    "    res = await client.execute_async(query, variable_values=vars)\n",
    "    # print(type(res))\n",
    "    # print(res)\n",
    "\n",
    "    if not res[\"users\"]:\n",
    "        print(\"I am done!\")\n",
    "        fetch = False\n",
    "    else:\n",
    "        users.extend(res[\"users\"])\n",
    "        print(len(users))\n",
    "        skip += first  # fetch = False"
   ]
  },
  {
   "cell_type": "code",
   "execution_count": null,
   "metadata": {},
   "outputs": [],
   "source": [
    "len(users)"
   ]
  },
  {
   "cell_type": "code",
   "execution_count": null,
   "metadata": {},
   "outputs": [],
   "source": [
    "df = pd.DataFrame(users)"
   ]
  },
  {
   "cell_type": "code",
   "execution_count": null,
   "metadata": {},
   "outputs": [],
   "source": [
    "df.info()"
   ]
  },
  {
   "cell_type": "code",
   "execution_count": null,
   "metadata": {},
   "outputs": [],
   "source": [
    "aa = df[\"id\"].duplicated()\n",
    "aa.sum()"
   ]
  },
  {
   "cell_type": "code",
   "execution_count": null,
   "metadata": {},
   "outputs": [],
   "source": [
    "df.loc[1233][\"settBalances\"]"
   ]
  }
 ],
 "metadata": {
  "kernelspec": {
   "display_name": "Python 3.10.6 ('base')",
   "language": "python",
   "name": "python3"
  },
  "language_info": {
   "codemirror_mode": {
    "name": "ipython",
    "version": 3
   },
   "file_extension": ".py",
   "mimetype": "text/x-python",
   "name": "python",
   "nbconvert_exporter": "python",
   "pygments_lexer": "ipython3",
   "version": "3.10.6"
  },
  "vscode": {
   "interpreter": {
    "hash": "d4d1e4263499bec80672ea0156c357c1ee493ec2b1c70f0acce89fc37c4a6abe"
   }
  }
 },
 "nbformat": 4,
 "nbformat_minor": 4
}
