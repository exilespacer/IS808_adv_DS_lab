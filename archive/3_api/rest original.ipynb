{
 "cells": [
  {
   "cell_type": "markdown",
   "metadata": {},
   "source": [
    "## Snapshot and GraphQL"
   ]
  },
  {
   "cell_type": "code",
   "execution_count": null,
   "metadata": {},
   "outputs": [],
   "source": [
    "import requests\n",
    "import pandas as pd\n",
    "import numpy as np"
   ]
  },
  {
   "cell_type": "markdown",
   "metadata": {},
   "source": [
    "Snapshot Endpoints\n",
    "\n",
    "https://docs.snapshot.org/"
   ]
  },
  {
   "cell_type": "code",
   "execution_count": null,
   "metadata": {},
   "outputs": [],
   "source": [
    "ENDPOINT_DEMO = \"https://testnet.snapshot.org/graphql\"\n",
    "\n",
    "ENDPOINT_PRO = \"https://hub.snapshot.org/graphql\"\n",
    "\n",
    "\n",
    "ENDPOINT = ENDPOINT_PRO"
   ]
  },
  {
   "cell_type": "markdown",
   "metadata": {},
   "source": [
    "We can make GraphQL queries with standard POST requests."
   ]
  },
  {
   "cell_type": "code",
   "execution_count": null,
   "metadata": {},
   "outputs": [],
   "source": [
    "# https://datagy.io/python-requests-authentication/\n",
    "\n",
    "\n",
    "def api(query, params=None):\n",
    "\n",
    "    response = requests.post(\n",
    "        ENDPOINT, headers={\"accept\": \"application/json\"}, params={\"query\": query}\n",
    "    )\n",
    "\n",
    "    print(response)\n",
    "    return response.json()[\"data\"]"
   ]
  },
  {
   "cell_type": "code",
   "execution_count": null,
   "metadata": {},
   "outputs": [],
   "source": [
    "query = \"\"\"\n",
    "query {\n",
    "  space(id: \"yam.eth\") {\n",
    "    id\n",
    "    name\n",
    "    about\n",
    "    network\n",
    "    symbol\n",
    "    members\n",
    "  }\n",
    "}\n",
    "\"\"\"\n",
    "\n",
    "res = api(query)"
   ]
  },
  {
   "cell_type": "code",
   "execution_count": null,
   "metadata": {},
   "outputs": [],
   "source": [
    "res"
   ]
  },
  {
   "cell_type": "code",
   "execution_count": null,
   "metadata": {},
   "outputs": [],
   "source": [
    "query = \"\"\"\n",
    "query {\n",
    "  spaces(\n",
    "    first: 20,\n",
    "    skip: 0,\n",
    "    orderBy: \"created\",\n",
    "    orderDirection: asc\n",
    "  ) {\n",
    "    id\n",
    "    name\n",
    "    about\n",
    "    network\n",
    "    symbol\n",
    "    strategies {\n",
    "      name\n",
    "      params\n",
    "    }\n",
    "    admins\n",
    "    members\n",
    "    filters {\n",
    "      minScore\n",
    "      onlyMembers\n",
    "    }\n",
    "    plugins\n",
    "  }\n",
    "}\n",
    "\"\"\"\n",
    "\n",
    "res = api(query)"
   ]
  },
  {
   "cell_type": "code",
   "execution_count": null,
   "metadata": {},
   "outputs": [],
   "source": [
    "res"
   ]
  },
  {
   "cell_type": "markdown",
   "metadata": {},
   "source": [
    "What if want to fetch all spaces? It's a bit cumbersome with standard POST requests, but we can use the [gql](https://pypi.org/project/gql/) client. "
   ]
  },
  {
   "cell_type": "markdown",
   "metadata": {},
   "source": [
    "#### GQL Client"
   ]
  },
  {
   "cell_type": "code",
   "execution_count": null,
   "metadata": {},
   "outputs": [],
   "source": [
    "# !pip install gql\n",
    "# !pip install aiohttp\n",
    "from gql import gql, Client\n",
    "from gql.transport.aiohttp import AIOHTTPTransport"
   ]
  },
  {
   "cell_type": "code",
   "execution_count": null,
   "metadata": {},
   "outputs": [],
   "source": [
    "transport = AIOHTTPTransport(url=ENDPOINT)\n",
    "client = Client(\n",
    "    transport=transport\n",
    "    # fetch_schema_from_transport=True\n",
    ")"
   ]
  },
  {
   "cell_type": "markdown",
   "metadata": {},
   "source": [
    "Let's test a simple query.\n",
    "First, we need build it, when we execute it.\n",
    "\n",
    "_Note:_ gql will throw an error if the query is malformed."
   ]
  },
  {
   "cell_type": "code",
   "execution_count": null,
   "metadata": {},
   "outputs": [],
   "source": [
    "space_query = gql(\n",
    "    \"\"\"\n",
    "query {\n",
    "space(id: \"yam.eth\") {\n",
    "    id\n",
    "    name\n",
    "    about\n",
    "    network\n",
    "    symbol\n",
    "    members\n",
    "    }\n",
    "}\n",
    "\"\"\"\n",
    ")"
   ]
  },
  {
   "cell_type": "code",
   "execution_count": null,
   "metadata": {},
   "outputs": [],
   "source": [
    "## Error in Jupyter-like environments.\n",
    "result = client.execute(space_query)\n",
    "print(result)"
   ]
  },
  {
   "cell_type": "code",
   "execution_count": null,
   "metadata": {},
   "outputs": [],
   "source": [
    "result = await client.execute_async(space_query)\n",
    "print(result)"
   ]
  },
  {
   "cell_type": "markdown",
   "metadata": {},
   "source": [
    "#### GraphQL Variables\n",
    "\n",
    "Now we want to fetch _all_ spaces.\n",
    "\n",
    "We need to use a special feature of GraphQL, that is the ability to pass **variables** into queries.\n",
    "\n",
    "Variables are identified by the dollar sign `$` and must indicate their type (e.g., `Int`). \n",
    "\n",
    "If a variable is mandatory, it is followed by an exclamation mark."
   ]
  },
  {
   "cell_type": "code",
   "execution_count": null,
   "metadata": {},
   "outputs": [],
   "source": [
    "spaces_query = gql(\n",
    "    \"\"\"\n",
    "  query ($first: Int!, $skip: Int!) {\n",
    "    spaces(\n",
    "      first: $first,\n",
    "      skip: $skip,\n",
    "      orderBy: \"created\",\n",
    "      orderDirection: asc\n",
    "    ) \n",
    "    {\n",
    "      id\n",
    "      name\n",
    "      about\n",
    "      network\n",
    "      symbol\n",
    "      strategies {\n",
    "        name\n",
    "        params\n",
    "      }\n",
    "      admins\n",
    "      members\n",
    "      filters {\n",
    "        minScore\n",
    "        onlyMembers\n",
    "      }\n",
    "      plugins\n",
    "    }\n",
    "  }\n",
    "\"\"\"\n",
    ")"
   ]
  },
  {
   "cell_type": "code",
   "execution_count": null,
   "metadata": {},
   "outputs": [],
   "source": [
    "## spaces_tmp is a temp variable we can use to store partial computations\n",
    "## in case an error (e.g., a timeout) occurs\n",
    "spaces_tmp = []"
   ]
  },
  {
   "cell_type": "code",
   "execution_count": null,
   "metadata": {},
   "outputs": [],
   "source": [
    "## Fetch'em all!\n",
    "spaces = spaces_tmp\n",
    "first = 1000\n",
    "skip = len(spaces)\n",
    "fetch = True\n",
    "while fetch:\n",
    "    vars = {\"first\": first, \"skip\": skip}\n",
    "    res = await client.execute_async(spaces_query, variable_values=vars)\n",
    "    # print(type(res))\n",
    "    # print(res)\n",
    "\n",
    "    if not res[\"spaces\"]:\n",
    "        print(\"**I am done fetching!**\")\n",
    "        fetch = False\n",
    "    else:\n",
    "        spaces.extend(res[\"spaces\"])\n",
    "        print(len(spaces))\n",
    "        skip += first  # fetch = False"
   ]
  },
  {
   "cell_type": "code",
   "execution_count": null,
   "metadata": {},
   "outputs": [],
   "source": [
    "len(spaces)"
   ]
  },
  {
   "cell_type": "markdown",
   "metadata": {},
   "source": [
    "Let's put everything in a Pandas data frame."
   ]
  },
  {
   "cell_type": "code",
   "execution_count": null,
   "metadata": {},
   "outputs": [],
   "source": [
    "df = pd.DataFrame(spaces)\n",
    "df.info()\n",
    "df[\"id\"] = df[\"id\"].astype(\"string\")\n",
    "df[\"name\"] = df[\"name\"].astype(\"string\")\n",
    "df[\"about\"] = df[\"about\"].astype(\"string\")"
   ]
  },
  {
   "cell_type": "code",
   "execution_count": null,
   "metadata": {},
   "outputs": [],
   "source": [
    "df.info()"
   ]
  },
  {
   "cell_type": "code",
   "execution_count": null,
   "metadata": {},
   "outputs": [],
   "source": [
    "df.to_json(\"data/daos_snapshot.json\", orient=\"records\")\n",
    "\n",
    "## Visually explore the saved file.\n",
    "# Is it a mess? Prettify it with VS Code auto-formatter.\n",
    "# Don't you remember the shorcut? Check our python_warmup lecture."
   ]
  },
  {
   "cell_type": "code",
   "execution_count": null,
   "metadata": {},
   "outputs": [],
   "source": [
    "df.head()"
   ]
  },
  {
   "cell_type": "markdown",
   "metadata": {},
   "source": [
    "Now let's create a function to make our life easier.\n",
    "\n",
    "The function `gql_all` will fetch all paginated responses from an endpoint until it returns an empty response.\n",
    "\n",
    "_Notice:_ the _async_ keyword and the _try/except_ statement"
   ]
  },
  {
   "cell_type": "code",
   "execution_count": null,
   "metadata": {},
   "outputs": [],
   "source": [
    "async def gql_all(query, field, first=1000, skip=0, initial_list=None, counter=True):\n",
    "\n",
    "    out = []\n",
    "\n",
    "    if initial_list:\n",
    "        out = initial_list\n",
    "        skip = len(out)\n",
    "\n",
    "    fetch = True\n",
    "    try:\n",
    "        while fetch:\n",
    "            vars = {\"first\": first, \"skip\": skip}\n",
    "            res = await client.execute_async(query, variable_values=vars)\n",
    "            # print(type(res))\n",
    "            # print(res)\n",
    "\n",
    "            if not res[field]:\n",
    "                print(\"**I am done fetching!**\")\n",
    "                fetch = False\n",
    "            else:\n",
    "                out.extend(res[field])\n",
    "                skip += first  # fetch = False\n",
    "                if counter:\n",
    "                    print(len(out))\n",
    "    except:\n",
    "        print(\"**An error occurred, exiting early.**\")\n",
    "\n",
    "    return out"
   ]
  },
  {
   "cell_type": "code",
   "execution_count": null,
   "metadata": {},
   "outputs": [],
   "source": [
    "res = await gql_all(spaces_query, \"spaces\")"
   ]
  },
  {
   "cell_type": "code",
   "execution_count": null,
   "metadata": {},
   "outputs": [],
   "source": [
    "res"
   ]
  },
  {
   "cell_type": "code",
   "execution_count": null,
   "metadata": {},
   "outputs": [],
   "source": []
  }
 ],
 "metadata": {
  "kernelspec": {
   "display_name": "Python 3",
   "language": "python",
   "name": "python3"
  },
  "language_info": {
   "codemirror_mode": {
    "name": "ipython",
    "version": 3
   },
   "file_extension": ".py",
   "mimetype": "text/x-python",
   "name": "python",
   "nbconvert_exporter": "python",
   "pygments_lexer": "ipython3",
   "version": "3.7.6"
  },
  "vscode": {
   "interpreter": {
    "hash": "40d3a090f54c6569ab1632332b64b2c03c39dcf918b08424e98f38b5ae0af88f"
   }
  }
 },
 "nbformat": 4,
 "nbformat_minor": 4
}
