{
 "cells": [
  {
   "cell_type": "code",
   "execution_count": null,
   "id": "ba9a1bcd-2df2-43db-8999-f2d229f680c5",
   "metadata": {},
   "outputs": [],
   "source": [
    "%load_ext autoreload\n",
    "%autoreload 2"
   ]
  },
  {
   "cell_type": "code",
   "execution_count": null,
   "id": "cdcba7f4-14b8-48b2-953b-c299032cdefa",
   "metadata": {},
   "outputs": [],
   "source": [
    "import pandas as pd\n",
    "import os\n",
    "from tqdm import tqdm"
   ]
  },
  {
   "cell_type": "code",
   "execution_count": null,
   "id": "908da8ba-3fd3-4512-8ec9-b73e0bbe690c",
   "metadata": {},
   "outputs": [],
   "source": [
    "from util_home_assignment import *"
   ]
  },
  {
   "cell_type": "code",
   "execution_count": null,
   "id": "9e5af64d-8e30-4dff-acd6-45e5ba2aa569",
   "metadata": {},
   "outputs": [],
   "source": [
    "df_spaces = pd_read_json(\"data/snapshot_spaces.json\")\n",
    "df_spaces.head().pipe(display)\n",
    "df_spaces.info()"
   ]
  },
  {
   "cell_type": "markdown",
   "id": "ff401ab8-c278-4fed-82fc-8e86cec7c0dd",
   "metadata": {},
   "source": [
    "# Verify approval rate across all Daos"
   ]
  },
  {
   "cell_type": "code",
   "execution_count": null,
   "id": "1bb3ba00-07b5-4c36-8033-5e50c8c0a2da",
   "metadata": {},
   "outputs": [],
   "source": [
    "spaces = df_spaces.id.unique()[:1000]\n",
    "collector = []\n",
    "for space in tqdm(spaces):\n",
    "    data_dir = \"data/votes/\"\n",
    "    filename = f\"snapshot_votes_{space}.json\"\n",
    "    if not os.path.exists(f\"{data_dir}/{file_name}\"):\n",
    "        q = gq(\"snapshot_votes_of_space\")\n",
    "        res = await gql_all(\n",
    "            q, field=\"votes\", save=filename, data_dir=data_dir, vars={\"space\": space}\n",
    "        )\n",
    "        collector += res"
   ]
  },
  {
   "cell_type": "code",
   "execution_count": null,
   "id": "14768821-22d0-49e5-85c8-80c9d198ff86",
   "metadata": {},
   "outputs": [],
   "source": [
    "path = \"data/votes/dashboard.csv\"\n",
    "if not os.path.exists(path):\n",
    "    df_votes = pd.DataFrame(collector)\n",
    "    df_votes[\"space\"] = df_votes.space.map(lambda x: x[\"id\"])\n",
    "    df_votes[\"proposal\"] = df_votes.proposal.map(lambda x: x[\"id\"])\n",
    "    df_votes.to_csv(path, index=False)\n",
    "df_votes = pd.read_csv(path)\n",
    "df_votes.info()"
   ]
  },
  {
   "cell_type": "code",
   "execution_count": null,
   "id": "086dae56-03ef-4890-b986-eae33ce157f4",
   "metadata": {},
   "outputs": [],
   "source": [
    "df_votes.iloc[0]"
   ]
  },
  {
   "cell_type": "code",
   "execution_count": null,
   "id": "791d3d65-1ac8-4d9b-94e6-fa5965a0aaf8",
   "metadata": {},
   "outputs": [],
   "source": []
  }
 ],
 "metadata": {
  "kernelspec": {
   "display_name": "Python 3",
   "language": "python",
   "name": "python3"
  },
  "language_info": {
   "codemirror_mode": {
    "name": "ipython",
    "version": 3
   },
   "file_extension": ".py",
   "mimetype": "text/x-python",
   "name": "python",
   "nbconvert_exporter": "python",
   "pygments_lexer": "ipython3",
   "version": "3.7.6"
  }
 },
 "nbformat": 4,
 "nbformat_minor": 5
}
