{
 "cells": [
  {
   "cell_type": "code",
   "execution_count": null,
   "id": "fa3d48ac-c39f-414d-b1b8-ddcf721e8725",
   "metadata": {},
   "outputs": [],
   "source": [
    "%load_ext autoreload\n",
    "%autoreload 2"
   ]
  },
  {
   "cell_type": "code",
   "execution_count": null,
   "id": "295700ef-59ec-4333-860b-36db2d556142",
   "metadata": {},
   "outputs": [],
   "source": [
    "%matplotlib inline"
   ]
  },
  {
   "cell_type": "code",
   "execution_count": null,
   "id": "927eb9d3-33b1-450d-b221-692062952b84",
   "metadata": {},
   "outputs": [],
   "source": [
    "import numpy as np\n",
    "import pandas as pd"
   ]
  },
  {
   "cell_type": "code",
   "execution_count": null,
   "id": "b738bdb0-0eeb-47cc-be2b-4e6fca51387e",
   "metadata": {},
   "outputs": [],
   "source": [
    "df_raw = pd.read_csv(\"network_df.csv\").assign(\n",
    "    owned_asset_count=lambda x: x.owned_asset_count.astype(float),\n",
    ")\n",
    "df_raw.info()\n",
    "df_raw.head()"
   ]
  },
  {
   "cell_type": "code",
   "execution_count": null,
   "id": "e3e4767f-b129-4c34-ab95-72b6b5257e9b",
   "metadata": {},
   "outputs": [],
   "source": [
    "# add DAO names\n",
    "import io, json\n",
    "\n",
    "with io.open(\"../../3_api/deepdao/data/deepdao_id_name_mapping.json\", mode=\"r\") as f:\n",
    "    dao_id_name = json.load(f)\n",
    "\n",
    "df_raw = df_raw.assign(dao_name=lambda x: x.dao_id.replace(dao_id_name))"
   ]
  },
  {
   "cell_type": "markdown",
   "id": "d16829f4-de46-42ad-9298-82483189613a",
   "metadata": {},
   "source": [
    "# Summary statistics of data"
   ]
  },
  {
   "cell_type": "markdown",
   "id": "3a3f2e3a-fae8-46cd-9a61-6eb8c004788b",
   "metadata": {},
   "source": [
    "## distinct N"
   ]
  },
  {
   "cell_type": "code",
   "execution_count": null,
   "id": "7784ba23-4969-4578-a4a1-b04ea2175053",
   "metadata": {},
   "outputs": [],
   "source": [
    "df_N = (\n",
    "    df_raw.loc[:, [\"dao_id\", \"member_address\", \"slug\"]]\n",
    "    .nunique()\n",
    "    .to_frame(\"distinct N\")\n",
    "    .T\n",
    ")\n",
    "df_N.columns = [\"DAO\", \"top voter\", \"NFT\"]\n",
    "df_N.pipe(display)"
   ]
  },
  {
   "cell_type": "code",
   "execution_count": null,
   "id": "6bd81089-4f8b-486b-bd60-9db0132faa65",
   "metadata": {},
   "outputs": [],
   "source": [
    "df_voter = df_raw.groupby(\"member_address\").agg(\n",
    "    N_nft_kinds=(\"slug\", \"nunique\"),\n",
    "    N_nft_quantity=(\"owned_asset_count\", np.sum),\n",
    ")\n",
    "df_voter.head()"
   ]
  },
  {
   "cell_type": "code",
   "execution_count": null,
   "id": "12f51b9f-54e3-4631-82bc-e6cdc1016cd9",
   "metadata": {},
   "outputs": [],
   "source": [
    "df_voter_stats = (\n",
    "    df_voter.assign(\n",
    "        N_nft_quantity_wei=lambda x: x.N_nft_quantity.div(10**18),\n",
    "        log_N_nft_quantity=lambda x: x.N_nft_quantity.map(np.log),\n",
    "    )\n",
    "    .describe()\n",
    "    .assign(\n",
    "        N_nft_quantity=lambda x: x.N_nft_quantity.map(lambda x: f\"{x:.2e}\"),\n",
    "        N_nft_quantity_wei=lambda x: x.N_nft_quantity_wei.map(lambda x: f\"{x:.2e}\"),\n",
    "        N_nft_kinds=lambda x: x.N_nft_kinds.map(lambda x: f\"{x:.0f}\"),\n",
    "        log_N_nft_quantity=lambda x: x.log_N_nft_quantity.map(lambda x: f\"{x:.2f}\"),\n",
    "    )\n",
    "    .loc[\n",
    "        [\"mean\", \"std\", \"min\", \"25%\", \"50%\", \"75%\", \"max\"],\n",
    "        [\"N_nft_kinds\", \"log_N_nft_quantity\", \"N_nft_quantity\"],\n",
    "    ]\n",
    ")\n",
    "df_voter_stats.columns = [\n",
    "    \"N(distinct NFT)\",\n",
    "    \"log(Total NFT collections)\",\n",
    "    \"Total NFT collections\",\n",
    "]\n",
    "df_voter_stats.pipe(display)"
   ]
  },
  {
   "cell_type": "markdown",
   "id": "74bf8bfa-ee98-4d4b-96c9-996eea85ca96",
   "metadata": {},
   "source": [
    "# Focus on top N NFT collections"
   ]
  },
  {
   "cell_type": "code",
   "execution_count": null,
   "id": "52522cb3-59be-4e86-b160-52d561817315",
   "metadata": {},
   "outputs": [],
   "source": [
    "top_N = 20\n",
    "\n",
    "slug = (\n",
    "    df_raw.groupby(\"slug\")\n",
    "    .owned_asset_count.sum()\n",
    "    .sort_values(ascending=False)\n",
    "    .to_frame()\n",
    ")\n",
    "slug.pipe(display)\n",
    "\n",
    "slug_top = slug.head(top_N).index.tolist()\n",
    "df = df_raw.loc[lambda x: x.slug.isin(slug_top)]\n",
    "df.info()"
   ]
  },
  {
   "cell_type": "markdown",
   "id": "a37341fb-c2e8-4810-8975-c7bae9225c38",
   "metadata": {},
   "source": [
    "# Data for network visualization\n",
    "- Source\n",
    "- Target\n",
    "- weight"
   ]
  },
  {
   "cell_type": "code",
   "execution_count": null,
   "id": "b72aadd9-c0e6-4917-94fc-3cac91e36d20",
   "metadata": {},
   "outputs": [],
   "source": [
    "from itertools import permutations\n",
    "from tqdm import tqdm\n",
    "import networkx as nx\n",
    "from pyvis.network import Network\n",
    "import io, pickle"
   ]
  },
  {
   "cell_type": "code",
   "execution_count": null,
   "id": "08a6b751-457e-4464-a7e0-8a84d51d57f6",
   "metadata": {},
   "outputs": [],
   "source": [
    "dir_path = \"vis\""
   ]
  },
  {
   "cell_type": "markdown",
   "id": "e4188b3f-0947-47b7-adf2-1d1834316b49",
   "metadata": {},
   "source": [
    "# DAO network"
   ]
  },
  {
   "cell_type": "code",
   "execution_count": null,
   "id": "182d8324-687e-4d9e-9669-ac4cd67fd514",
   "metadata": {},
   "outputs": [],
   "source": [
    "network_dao = {}\n",
    "for grp, df_grp in tqdm(df.groupby(\"slug\")):\n",
    "    for p in permutations(sorted(df_grp.dao_name.unique()), 2):\n",
    "        if p not in network_dao:\n",
    "            network_dao[p] = 0\n",
    "        network_dao[p] += 1"
   ]
  },
  {
   "cell_type": "code",
   "execution_count": null,
   "id": "f7ec95f9-f556-4881-82fd-49748eeb1960",
   "metadata": {},
   "outputs": [],
   "source": [
    "df_network_dao = pd.DataFrame(\n",
    "    [\n",
    "        {\"Source\": source, \"Target\": target, \"weight\": weight}\n",
    "        for (source, target), weight in network_dao.items()\n",
    "    ]\n",
    ")\n",
    "df_network_dao.to_csv(f\"{dir_path}/vis_network_dao.csv\", index=False)"
   ]
  },
  {
   "cell_type": "code",
   "execution_count": null,
   "id": "16cea0e0-2b67-460d-9abc-11a9de8c9119",
   "metadata": {},
   "outputs": [],
   "source": [
    "df_network_dao.info()\n",
    "df_network_dao.head().pipe(display)\n",
    "df_network_dao.weight.value_counts().to_frame(\"counts\").pipe(display)"
   ]
  },
  {
   "cell_type": "code",
   "execution_count": null,
   "id": "046565e0-81cc-4185-a7a1-967c8ae67a35",
   "metadata": {},
   "outputs": [],
   "source": [
    "G_dao = nx.from_pandas_edgelist(\n",
    "    df_network_dao, source=\"Source\", target=\"Target\", edge_attr=\"weight\"\n",
    ")\n",
    "\n",
    "with io.open(f\"{dir_path}/gragh_dao.nx\", mode=\"wb\") as f:\n",
    "    pickle.dump(G_dao, f)"
   ]
  },
  {
   "cell_type": "code",
   "execution_count": null,
   "id": "e619ab10-0a09-4ba9-9fe2-a1f047e5995c",
   "metadata": {},
   "outputs": [],
   "source": [
    "net_dao = Network(height=\"1200px\", width=\"100%\", notebook=True)\n",
    "net_dao.repulsion()\n",
    "net_dao.from_nx(G_dao)\n",
    "net_dao.show(f\"{dir_path}/pyvis_nx_dao.html\")"
   ]
  },
  {
   "cell_type": "markdown",
   "id": "b71b0e89-d8c1-4cfe-83d9-a841ec234093",
   "metadata": {},
   "source": [
    "# Voter network"
   ]
  },
  {
   "cell_type": "code",
   "execution_count": null,
   "id": "82cf4d8e-101c-450c-b412-538da5fd70d7",
   "metadata": {},
   "outputs": [],
   "source": [
    "network_voters = {}\n",
    "for grp, df_grp in tqdm(df.groupby(\"slug\")):\n",
    "    for p in permutations(sorted(df_grp.member_address.unique()), 2):\n",
    "        if p not in network_voters:\n",
    "            network_voters[p] = 0\n",
    "        network_voters[p] += 1"
   ]
  },
  {
   "cell_type": "code",
   "execution_count": null,
   "id": "db080f0e-2d92-4926-a34e-fd24eb451e06",
   "metadata": {},
   "outputs": [],
   "source": [
    "df_network_voter = pd.DataFrame(\n",
    "    [\n",
    "        {\"Source\": source, \"Target\": target, \"weight\": weight}\n",
    "        for (source, target), weight in network_voters.items()\n",
    "    ]\n",
    ")\n",
    "df_network_voter.to_csv(f\"{dir_path}/vis_network_voter.csv\", index=False)"
   ]
  },
  {
   "cell_type": "code",
   "execution_count": null,
   "id": "7ad44e0c-ad93-4079-b9b5-07963ae02b99",
   "metadata": {
    "jupyter": {
     "source_hidden": true
    },
    "tags": []
   },
   "outputs": [],
   "source": [
    "# network_voters = {}\n",
    "# for grp, df_grp in tqdm(df.groupby('slug')):\n",
    "#     for p in permutations(sorted(df_grp.member_address.unique()), 2):\n",
    "#         if p not in network_voters:\n",
    "#             network_voters[p] = [0, '']\n",
    "#         network_voters[p][0] += 1\n",
    "#         network_voters[p][1] = grp\n",
    "\n",
    "# df_network_voter = pd.DataFrame([{'Source': source, 'Target': target, 'weight': weight, 'slug': slug} for (source, target), (weight, slug) in network_voters.items()])\n",
    "\n",
    "# # add colors\n",
    "# colors = ['b', 'g', 'r', 'c', 'm', 'y', 'k']\n",
    "# color_map = dict(zip(df_network_voter.slug.unique(), colors))\n",
    "# df_network_voter['color'] = df_network_voter.slug.map(lambda x: color_map[x])\n",
    "\n",
    "# df_network_voter.to_csv(f'{dir_path}/vis_network_voter.csv', index = False)"
   ]
  },
  {
   "cell_type": "code",
   "execution_count": null,
   "id": "5561f7a2-1577-4674-a090-761d76504b69",
   "metadata": {},
   "outputs": [],
   "source": [
    "df_network_voter.info()\n",
    "df_network_voter.head().pipe(display)\n",
    "df_network_voter.weight.value_counts().to_frame(\"counts\").pipe(display)"
   ]
  },
  {
   "cell_type": "code",
   "execution_count": null,
   "id": "85847525",
   "metadata": {},
   "outputs": [],
   "source": [
    "df_network_voter[[\"Source\", \"Target\"]] = df_network_voter[\n",
    "    [\"Source\", \"Target\"]\n",
    "].applymap(lambda x: x[3:9].lower())"
   ]
  },
  {
   "cell_type": "code",
   "execution_count": null,
   "id": "337d7698-2b1a-4607-8808-c567304a2645",
   "metadata": {},
   "outputs": [],
   "source": [
    "G_voter = nx.from_pandas_edgelist(\n",
    "    df_network_voter, source=\"Source\", target=\"Target\", edge_attr=True\n",
    ")\n",
    "\n",
    "with io.open(f\"{dir_path}/gragh_voter.nx\", mode=\"wb\") as f:\n",
    "    pickle.dump(G_voter, f)"
   ]
  },
  {
   "cell_type": "code",
   "execution_count": null,
   "id": "07c94af1-d7d3-4a2b-8bfa-39be12b62ba6",
   "metadata": {},
   "outputs": [],
   "source": [
    "net_voter = Network(height=\"1200px\", width=\"100%\", notebook=True)\n",
    "net_voter.repulsion()\n",
    "net_voter.from_nx(G_voter)\n",
    "net_voter.show(f\"{dir_path}/pyvis_nx_voter.html\")"
   ]
  },
  {
   "cell_type": "markdown",
   "id": "16492603-88c1-4b39-85c3-5b9b94812136",
   "metadata": {},
   "source": [
    "# additional data"
   ]
  },
  {
   "cell_type": "code",
   "execution_count": null,
   "id": "e4313dc4-0d74-4159-ad47-14ea2d5da0ec",
   "metadata": {},
   "outputs": [],
   "source": [
    "df_nft = pd.read_csv(\"data/Data_API.csv\")\n",
    "df_nft.info()"
   ]
  },
  {
   "cell_type": "code",
   "execution_count": null,
   "id": "2b24057a-71ea-4c80-9060-3f793486c120",
   "metadata": {},
   "outputs": [],
   "source": [
    "(df_nft.describe().round(2))"
   ]
  },
  {
   "cell_type": "code",
   "execution_count": null,
   "id": "8f7cfacb-3994-494b-9146-494152b76fab",
   "metadata": {},
   "outputs": [],
   "source": [
    "df_data_nunique = df_nft.loc[\n",
    "    :,\n",
    "    [\n",
    "        \"Smart_contract\",\n",
    "        \"ID_token\",\n",
    "        \"Transaction_hash\",\n",
    "        \"Seller_address\",\n",
    "        \"Seller_username\",\n",
    "        \"Buyer_address\",\n",
    "        \"Buyer_username\",\n",
    "        \"Image_url_1\",\n",
    "        \"Image_url_2\",\n",
    "        \"Image_url_3\",\n",
    "        \"Image_url_4\",\n",
    "        # 'Price_Crypto',\n",
    "        \"Crypto\",\n",
    "        # 'Price_USD',\n",
    "        \"Name\",\n",
    "        \"Description\",\n",
    "        \"Collection\",\n",
    "        \"Market\",\n",
    "        \"Datetime_updated\",\n",
    "        \"Datetime_updated_seconds\",\n",
    "        \"Permanent_link\",\n",
    "        \"Unique_id_collection\",\n",
    "        \"Collection_cleaned\",\n",
    "        \"Category\",\n",
    "    ],\n",
    "].nunique()"
   ]
  },
  {
   "cell_type": "code",
   "execution_count": null,
   "id": "4160bc83-5a74-4be7-b58b-6d62ca2b4e1f",
   "metadata": {},
   "outputs": [],
   "source": [
    "df_data_nunique.to_frame(\"distinct N\")"
   ]
  },
  {
   "cell_type": "code",
   "execution_count": null,
   "id": "71670102-2f96-4efc-b2d4-cf21b7f762e1",
   "metadata": {},
   "outputs": [],
   "source": [
    "for i in sorted(df_nft.Category.unique()):\n",
    "    print(i)"
   ]
  },
  {
   "cell_type": "code",
   "execution_count": null,
   "id": "de1000d7-31ac-4a69-bd92-5fc96064de1e",
   "metadata": {},
   "outputs": [],
   "source": []
  }
 ],
 "metadata": {
  "kernelspec": {
   "display_name": "Python 3.10.6 ('base')",
   "language": "python",
   "name": "python3"
  },
  "language_info": {
   "codemirror_mode": {
    "name": "ipython",
    "version": 3
   },
   "file_extension": ".py",
   "mimetype": "text/x-python",
   "name": "python",
   "nbconvert_exporter": "python",
   "pygments_lexer": "ipython3",
   "version": "3.10.6"
  },
  "vscode": {
   "interpreter": {
    "hash": "d4d1e4263499bec80672ea0156c357c1ee493ec2b1c70f0acce89fc37c4a6abe"
   }
  }
 },
 "nbformat": 4,
 "nbformat_minor": 5
}
