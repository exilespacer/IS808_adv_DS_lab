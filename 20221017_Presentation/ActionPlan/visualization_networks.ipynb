{
 "cells": [
  {
   "cell_type": "code",
   "execution_count": 4,
   "id": "fa3d48ac-c39f-414d-b1b8-ddcf721e8725",
   "metadata": {},
   "outputs": [
    {
     "name": "stdout",
     "output_type": "stream",
     "text": [
      "The autoreload extension is already loaded. To reload it, use:\n",
      "  %reload_ext autoreload\n"
     ]
    }
   ],
   "source": [
    "%load_ext autoreload\n",
    "%autoreload 2"
   ]
  },
  {
   "cell_type": "code",
   "execution_count": 5,
   "id": "c03c42d8",
   "metadata": {},
   "outputs": [
    {
     "name": "stdout",
     "output_type": "stream",
     "text": [
      "Collecting matplotlib\n",
      "  Downloading matplotlib-3.6.1-cp310-cp310-win_amd64.whl (7.2 MB)\n",
      "     ---------------------------------------- 7.2/7.2 MB 8.7 MB/s eta 0:00:00\n",
      "Requirement already satisfied: numpy>=1.19 in c:\\users\\x\\appdata\\roaming\\python\\python310\\site-packages (from matplotlib) (1.23.1)\n",
      "Requirement already satisfied: python-dateutil>=2.7 in c:\\users\\x\\appdata\\roaming\\python\\python310\\site-packages (from matplotlib) (2.8.2)\n",
      "Requirement already satisfied: packaging>=20.0 in c:\\users\\x\\appdata\\roaming\\python\\python310\\site-packages (from matplotlib) (21.3)\n",
      "Collecting cycler>=0.10\n",
      "  Downloading cycler-0.11.0-py3-none-any.whl (6.4 kB)\n",
      "Collecting kiwisolver>=1.0.1\n",
      "  Downloading kiwisolver-1.4.4-cp310-cp310-win_amd64.whl (55 kB)\n",
      "     ---------------------------------------- 55.3/55.3 kB 2.8 MB/s eta 0:00:00\n",
      "Collecting contourpy>=1.0.1\n",
      "  Downloading contourpy-1.0.6-cp310-cp310-win_amd64.whl (163 kB)\n",
      "     ------------------------------------- 163.6/163.6 kB 10.2 MB/s eta 0:00:00\n",
      "Collecting fonttools>=4.22.0\n",
      "  Downloading fonttools-4.38.0-py3-none-any.whl (965 kB)\n",
      "     ------------------------------------- 965.4/965.4 kB 15.2 MB/s eta 0:00:00\n",
      "Collecting pillow>=6.2.0\n",
      "  Downloading Pillow-9.3.0-cp310-cp310-win_amd64.whl (2.5 MB)\n",
      "     ---------------------------------------- 2.5/2.5 MB 12.1 MB/s eta 0:00:00\n",
      "Requirement already satisfied: pyparsing>=2.2.1 in c:\\users\\x\\appdata\\roaming\\python\\python310\\site-packages (from matplotlib) (3.0.9)\n",
      "Requirement already satisfied: six>=1.5 in c:\\users\\x\\appdata\\roaming\\python\\python310\\site-packages (from python-dateutil>=2.7->matplotlib) (1.16.0)\n",
      "Installing collected packages: pillow, kiwisolver, fonttools, cycler, contourpy, matplotlib\n",
      "Successfully installed contourpy-1.0.6 cycler-0.11.0 fonttools-4.38.0 kiwisolver-1.4.4 matplotlib-3.6.1 pillow-9.3.0\n"
     ]
    },
    {
     "name": "stderr",
     "output_type": "stream",
     "text": [
      "\n",
      "[notice] A new release of pip available: 22.2.2 -> 22.3\n",
      "[notice] To update, run: python.exe -m pip install --upgrade pip\n"
     ]
    }
   ],
   "source": [
    "#!pip install matplotlib"
   ]
  },
  {
   "cell_type": "code",
   "execution_count": 7,
   "id": "295700ef-59ec-4333-860b-36db2d556142",
   "metadata": {},
   "outputs": [],
   "source": [
    "%matplotlib inline"
   ]
  },
  {
   "cell_type": "code",
   "execution_count": 8,
   "id": "927eb9d3-33b1-450d-b221-692062952b84",
   "metadata": {},
   "outputs": [],
   "source": [
    "import numpy as np\n",
    "import pandas as pd"
   ]
  },
  {
   "cell_type": "code",
   "execution_count": 9,
   "id": "b738bdb0-0eeb-47cc-be2b-4e6fca51387e",
   "metadata": {},
   "outputs": [
    {
     "name": "stdout",
     "output_type": "stream",
     "text": [
      "<class 'pandas.core.frame.DataFrame'>\n",
      "RangeIndex: 188512 entries, 0 to 188511\n",
      "Data columns (total 4 columns):\n",
      " #   Column             Non-Null Count   Dtype  \n",
      "---  ------             --------------   -----  \n",
      " 0   dao_id             188512 non-null  object \n",
      " 1   member_address     188512 non-null  object \n",
      " 2   slug               188512 non-null  object \n",
      " 3   owned_asset_count  188512 non-null  float64\n",
      "dtypes: float64(1), object(3)\n",
      "memory usage: 5.8+ MB\n"
     ]
    },
    {
     "data": {
      "text/html": [
       "<div>\n",
       "<style scoped>\n",
       "    .dataframe tbody tr th:only-of-type {\n",
       "        vertical-align: middle;\n",
       "    }\n",
       "\n",
       "    .dataframe tbody tr th {\n",
       "        vertical-align: top;\n",
       "    }\n",
       "\n",
       "    .dataframe thead th {\n",
       "        text-align: right;\n",
       "    }\n",
       "</style>\n",
       "<table border=\"1\" class=\"dataframe\">\n",
       "  <thead>\n",
       "    <tr style=\"text-align: right;\">\n",
       "      <th></th>\n",
       "      <th>dao_id</th>\n",
       "      <th>member_address</th>\n",
       "      <th>slug</th>\n",
       "      <th>owned_asset_count</th>\n",
       "    </tr>\n",
       "  </thead>\n",
       "  <tbody>\n",
       "    <tr>\n",
       "      <th>0</th>\n",
       "      <td>ec242c8a-4667-46c6-8c51-0df6f0970970</td>\n",
       "      <td>0x9533158bb9b0abb178a9dc7f6f0168e84126688f</td>\n",
       "      <td>movement-daos-ascended-ape-collection</td>\n",
       "      <td>1.0</td>\n",
       "    </tr>\n",
       "    <tr>\n",
       "      <th>1</th>\n",
       "      <td>f12e8672-59e5-425e-bfd9-42f4078a3ff1</td>\n",
       "      <td>0x097c39e5e576a8706404cd0d81e05b522f5bcaff</td>\n",
       "      <td>eth-merge-v3</td>\n",
       "      <td>1.0</td>\n",
       "    </tr>\n",
       "    <tr>\n",
       "      <th>2</th>\n",
       "      <td>f12e8672-59e5-425e-bfd9-42f4078a3ff1</td>\n",
       "      <td>0x097c39e5e576a8706404cd0d81e05b522f5bcaff</td>\n",
       "      <td>grand-leisure</td>\n",
       "      <td>1.0</td>\n",
       "    </tr>\n",
       "    <tr>\n",
       "      <th>3</th>\n",
       "      <td>f12e8672-59e5-425e-bfd9-42f4078a3ff1</td>\n",
       "      <td>0x097c39e5e576a8706404cd0d81e05b522f5bcaff</td>\n",
       "      <td>re-based-ghouls-by-xwave</td>\n",
       "      <td>1.0</td>\n",
       "    </tr>\n",
       "    <tr>\n",
       "      <th>4</th>\n",
       "      <td>f12e8672-59e5-425e-bfd9-42f4078a3ff1</td>\n",
       "      <td>0x097c39e5e576a8706404cd0d81e05b522f5bcaff</td>\n",
       "      <td>based-ghouls</td>\n",
       "      <td>6.0</td>\n",
       "    </tr>\n",
       "  </tbody>\n",
       "</table>\n",
       "</div>"
      ],
      "text/plain": [
       "                                 dao_id  \\\n",
       "0  ec242c8a-4667-46c6-8c51-0df6f0970970   \n",
       "1  f12e8672-59e5-425e-bfd9-42f4078a3ff1   \n",
       "2  f12e8672-59e5-425e-bfd9-42f4078a3ff1   \n",
       "3  f12e8672-59e5-425e-bfd9-42f4078a3ff1   \n",
       "4  f12e8672-59e5-425e-bfd9-42f4078a3ff1   \n",
       "\n",
       "                               member_address  \\\n",
       "0  0x9533158bb9b0abb178a9dc7f6f0168e84126688f   \n",
       "1  0x097c39e5e576a8706404cd0d81e05b522f5bcaff   \n",
       "2  0x097c39e5e576a8706404cd0d81e05b522f5bcaff   \n",
       "3  0x097c39e5e576a8706404cd0d81e05b522f5bcaff   \n",
       "4  0x097c39e5e576a8706404cd0d81e05b522f5bcaff   \n",
       "\n",
       "                                    slug  owned_asset_count  \n",
       "0  movement-daos-ascended-ape-collection                1.0  \n",
       "1                           eth-merge-v3                1.0  \n",
       "2                          grand-leisure                1.0  \n",
       "3               re-based-ghouls-by-xwave                1.0  \n",
       "4                           based-ghouls                6.0  "
      ]
     },
     "execution_count": 9,
     "metadata": {},
     "output_type": "execute_result"
    }
   ],
   "source": [
    "df_raw = pd.read_csv(\"network_df.csv\").assign(\n",
    "    owned_asset_count=lambda x: x.owned_asset_count.astype(float),\n",
    ")\n",
    "df_raw.info()\n",
    "df_raw.head()"
   ]
  },
  {
   "cell_type": "code",
   "execution_count": 11,
   "id": "e3e4767f-b129-4c34-ab95-72b6b5257e9b",
   "metadata": {},
   "outputs": [],
   "source": [
    "# add DAO names\n",
    " import io, json\n",
    "\n",
    " with io.open(\"../../3_api/deepdao/data/deepdao_id_name_mapping.json\", mode=\"r\") as f:\n",
    "     dao_id_name = json.load(f)\n",
    "\n",
    " df_raw = df_raw.assign(dao_name=lambda x: x.dao_id.replace(dao_id_name))"
   ]
  },
  {
   "cell_type": "markdown",
   "id": "d16829f4-de46-42ad-9298-82483189613a",
   "metadata": {},
   "source": [
    "# Summary statistics of data"
   ]
  },
  {
   "cell_type": "markdown",
   "id": "3a3f2e3a-fae8-46cd-9a61-6eb8c004788b",
   "metadata": {},
   "source": [
    "## distinct N"
   ]
  },
  {
   "cell_type": "code",
   "execution_count": 12,
   "id": "7784ba23-4969-4578-a4a1-b04ea2175053",
   "metadata": {},
   "outputs": [
    {
     "data": {
      "text/html": [
       "<div>\n",
       "<style scoped>\n",
       "    .dataframe tbody tr th:only-of-type {\n",
       "        vertical-align: middle;\n",
       "    }\n",
       "\n",
       "    .dataframe tbody tr th {\n",
       "        vertical-align: top;\n",
       "    }\n",
       "\n",
       "    .dataframe thead th {\n",
       "        text-align: right;\n",
       "    }\n",
       "</style>\n",
       "<table border=\"1\" class=\"dataframe\">\n",
       "  <thead>\n",
       "    <tr style=\"text-align: right;\">\n",
       "      <th></th>\n",
       "      <th>DAO</th>\n",
       "      <th>top voter</th>\n",
       "      <th>NFT</th>\n",
       "    </tr>\n",
       "  </thead>\n",
       "  <tbody>\n",
       "    <tr>\n",
       "      <th>distinct N</th>\n",
       "      <td>204</td>\n",
       "      <td>4600</td>\n",
       "      <td>28446</td>\n",
       "    </tr>\n",
       "  </tbody>\n",
       "</table>\n",
       "</div>"
      ],
      "text/plain": [
       "            DAO  top voter    NFT\n",
       "distinct N  204       4600  28446"
      ]
     },
     "metadata": {},
     "output_type": "display_data"
    }
   ],
   "source": [
    "df_N = (\n",
    "    df_raw.loc[:, [\"dao_id\", \"member_address\", \"slug\"]]\n",
    "    .nunique()\n",
    "    .to_frame(\"distinct N\")\n",
    "    .T\n",
    ")\n",
    "df_N.columns = [\"DAO\", \"top voter\", \"NFT\"]\n",
    "df_N.pipe(display)"
   ]
  },
  {
   "cell_type": "code",
   "execution_count": 13,
   "id": "6bd81089-4f8b-486b-bd60-9db0132faa65",
   "metadata": {},
   "outputs": [
    {
     "data": {
      "text/html": [
       "<div>\n",
       "<style scoped>\n",
       "    .dataframe tbody tr th:only-of-type {\n",
       "        vertical-align: middle;\n",
       "    }\n",
       "\n",
       "    .dataframe tbody tr th {\n",
       "        vertical-align: top;\n",
       "    }\n",
       "\n",
       "    .dataframe thead th {\n",
       "        text-align: right;\n",
       "    }\n",
       "</style>\n",
       "<table border=\"1\" class=\"dataframe\">\n",
       "  <thead>\n",
       "    <tr style=\"text-align: right;\">\n",
       "      <th></th>\n",
       "      <th>N_nft_kinds</th>\n",
       "      <th>N_nft_quantity</th>\n",
       "    </tr>\n",
       "    <tr>\n",
       "      <th>member_address</th>\n",
       "      <th></th>\n",
       "      <th></th>\n",
       "    </tr>\n",
       "  </thead>\n",
       "  <tbody>\n",
       "    <tr>\n",
       "      <th>0x000000de5f9e90ce604da5fd78acd6fae789ecca</th>\n",
       "      <td>3</td>\n",
       "      <td>7.0</td>\n",
       "    </tr>\n",
       "    <tr>\n",
       "      <th>0x00029d35cb7ae09d38037355a046791d7b5e1645</th>\n",
       "      <td>44</td>\n",
       "      <td>147.0</td>\n",
       "    </tr>\n",
       "    <tr>\n",
       "      <th>0x00290ffc9e9d19bda7b25c6e44d8adf55dfbf2dd</th>\n",
       "      <td>46</td>\n",
       "      <td>2132.0</td>\n",
       "    </tr>\n",
       "    <tr>\n",
       "      <th>0x0031ce5920cbe1e600113d14ca06ac6596fe7466</th>\n",
       "      <td>2</td>\n",
       "      <td>3.0</td>\n",
       "    </tr>\n",
       "    <tr>\n",
       "      <th>0x00320c624958997f6d8ec1d130a436e87a1f0b0e</th>\n",
       "      <td>1</td>\n",
       "      <td>1.0</td>\n",
       "    </tr>\n",
       "  </tbody>\n",
       "</table>\n",
       "</div>"
      ],
      "text/plain": [
       "                                            N_nft_kinds  N_nft_quantity\n",
       "member_address                                                         \n",
       "0x000000de5f9e90ce604da5fd78acd6fae789ecca            3             7.0\n",
       "0x00029d35cb7ae09d38037355a046791d7b5e1645           44           147.0\n",
       "0x00290ffc9e9d19bda7b25c6e44d8adf55dfbf2dd           46          2132.0\n",
       "0x0031ce5920cbe1e600113d14ca06ac6596fe7466            2             3.0\n",
       "0x00320c624958997f6d8ec1d130a436e87a1f0b0e            1             1.0"
      ]
     },
     "execution_count": 13,
     "metadata": {},
     "output_type": "execute_result"
    }
   ],
   "source": [
    "df_voter = df_raw.groupby(\"member_address\").agg(\n",
    "    N_nft_kinds=(\"slug\", \"nunique\"),\n",
    "    N_nft_quantity=(\"owned_asset_count\", np.sum),\n",
    ")\n",
    "df_voter.head()"
   ]
  },
  {
   "cell_type": "code",
   "execution_count": 14,
   "id": "12f51b9f-54e3-4631-82bc-e6cdc1016cd9",
   "metadata": {},
   "outputs": [
    {
     "data": {
      "text/html": [
       "<div>\n",
       "<style scoped>\n",
       "    .dataframe tbody tr th:only-of-type {\n",
       "        vertical-align: middle;\n",
       "    }\n",
       "\n",
       "    .dataframe tbody tr th {\n",
       "        vertical-align: top;\n",
       "    }\n",
       "\n",
       "    .dataframe thead th {\n",
       "        text-align: right;\n",
       "    }\n",
       "</style>\n",
       "<table border=\"1\" class=\"dataframe\">\n",
       "  <thead>\n",
       "    <tr style=\"text-align: right;\">\n",
       "      <th></th>\n",
       "      <th>N(distinct NFT)</th>\n",
       "      <th>log(Total NFT collections)</th>\n",
       "      <th>Total NFT collections</th>\n",
       "    </tr>\n",
       "  </thead>\n",
       "  <tbody>\n",
       "    <tr>\n",
       "      <th>mean</th>\n",
       "      <td>32</td>\n",
       "      <td>3.99</td>\n",
       "      <td>3.43e+72</td>\n",
       "    </tr>\n",
       "    <tr>\n",
       "      <th>std</th>\n",
       "      <td>60</td>\n",
       "      <td>6.20</td>\n",
       "      <td>2.33e+74</td>\n",
       "    </tr>\n",
       "    <tr>\n",
       "      <th>min</th>\n",
       "      <td>1</td>\n",
       "      <td>0.00</td>\n",
       "      <td>1.00e+00</td>\n",
       "    </tr>\n",
       "    <tr>\n",
       "      <th>25%</th>\n",
       "      <td>3</td>\n",
       "      <td>1.61</td>\n",
       "      <td>5.00e+00</td>\n",
       "    </tr>\n",
       "    <tr>\n",
       "      <th>50%</th>\n",
       "      <td>11</td>\n",
       "      <td>3.18</td>\n",
       "      <td>2.40e+01</td>\n",
       "    </tr>\n",
       "    <tr>\n",
       "      <th>75%</th>\n",
       "      <td>33</td>\n",
       "      <td>4.74</td>\n",
       "      <td>1.15e+02</td>\n",
       "    </tr>\n",
       "    <tr>\n",
       "      <th>max</th>\n",
       "      <td>758</td>\n",
       "      <td>175.45</td>\n",
       "      <td>1.58e+76</td>\n",
       "    </tr>\n",
       "  </tbody>\n",
       "</table>\n",
       "</div>"
      ],
      "text/plain": [
       "     N(distinct NFT) log(Total NFT collections) Total NFT collections\n",
       "mean              32                       3.99              3.43e+72\n",
       "std               60                       6.20              2.33e+74\n",
       "min                1                       0.00              1.00e+00\n",
       "25%                3                       1.61              5.00e+00\n",
       "50%               11                       3.18              2.40e+01\n",
       "75%               33                       4.74              1.15e+02\n",
       "max              758                     175.45              1.58e+76"
      ]
     },
     "metadata": {},
     "output_type": "display_data"
    }
   ],
   "source": [
    "df_voter_stats = (\n",
    "    df_voter.assign(\n",
    "        N_nft_quantity_wei=lambda x: x.N_nft_quantity.div(10**18),\n",
    "        log_N_nft_quantity=lambda x: x.N_nft_quantity.map(np.log),\n",
    "    )\n",
    "    .describe()\n",
    "    .assign(\n",
    "        N_nft_quantity=lambda x: x.N_nft_quantity.map(lambda x: f\"{x:.2e}\"),\n",
    "        N_nft_quantity_wei=lambda x: x.N_nft_quantity_wei.map(lambda x: f\"{x:.2e}\"),\n",
    "        N_nft_kinds=lambda x: x.N_nft_kinds.map(lambda x: f\"{x:.0f}\"),\n",
    "        log_N_nft_quantity=lambda x: x.log_N_nft_quantity.map(lambda x: f\"{x:.2f}\"),\n",
    "    )\n",
    "    .loc[\n",
    "        [\"mean\", \"std\", \"min\", \"25%\", \"50%\", \"75%\", \"max\"],\n",
    "        [\"N_nft_kinds\", \"log_N_nft_quantity\", \"N_nft_quantity\"],\n",
    "    ]\n",
    ")\n",
    "df_voter_stats.columns = [\n",
    "    \"N(distinct NFT)\",\n",
    "    \"log(Total NFT collections)\",\n",
    "    \"Total NFT collections\",\n",
    "]\n",
    "df_voter_stats.pipe(display)"
   ]
  },
  {
   "cell_type": "markdown",
   "id": "74bf8bfa-ee98-4d4b-96c9-996eea85ca96",
   "metadata": {},
   "source": [
    "# Focus on top N NFT collections"
   ]
  },
  {
   "cell_type": "code",
   "execution_count": 15,
   "id": "52522cb3-59be-4e86-b160-52d561817315",
   "metadata": {},
   "outputs": [
    {
     "data": {
      "text/html": [
       "<div>\n",
       "<style scoped>\n",
       "    .dataframe tbody tr th:only-of-type {\n",
       "        vertical-align: middle;\n",
       "    }\n",
       "\n",
       "    .dataframe tbody tr th {\n",
       "        vertical-align: top;\n",
       "    }\n",
       "\n",
       "    .dataframe thead th {\n",
       "        text-align: right;\n",
       "    }\n",
       "</style>\n",
       "<table border=\"1\" class=\"dataframe\">\n",
       "  <thead>\n",
       "    <tr style=\"text-align: right;\">\n",
       "      <th></th>\n",
       "      <th>owned_asset_count</th>\n",
       "    </tr>\n",
       "    <tr>\n",
       "      <th>slug</th>\n",
       "      <th></th>\n",
       "    </tr>\n",
       "  </thead>\n",
       "  <tbody>\n",
       "    <tr>\n",
       "      <th>unidentified-contract-vzooewvccc</th>\n",
       "      <td>1.579209e+76</td>\n",
       "    </tr>\n",
       "    <tr>\n",
       "      <th>unidentified-contract-cdgfjphfbh</th>\n",
       "      <td>2.278085e+38</td>\n",
       "    </tr>\n",
       "    <tr>\n",
       "      <th>unidentified-contract-kgoq4pkam0</th>\n",
       "      <td>9.709694e+23</td>\n",
       "    </tr>\n",
       "    <tr>\n",
       "      <th>unidentified-contract-ytlksgcesz</th>\n",
       "      <td>7.281004e+23</td>\n",
       "    </tr>\n",
       "    <tr>\n",
       "      <th>unidentified-contract-kj63urtefs</th>\n",
       "      <td>5.053004e+22</td>\n",
       "    </tr>\n",
       "    <tr>\n",
       "      <th>...</th>\n",
       "      <td>...</td>\n",
       "    </tr>\n",
       "    <tr>\n",
       "      <th>friedguyz</th>\n",
       "      <td>1.000000e+00</td>\n",
       "    </tr>\n",
       "    <tr>\n",
       "      <th>sudoangels-limited</th>\n",
       "      <td>1.000000e+00</td>\n",
       "    </tr>\n",
       "    <tr>\n",
       "      <th>friendly-fire-v2</th>\n",
       "      <td>1.000000e+00</td>\n",
       "    </tr>\n",
       "    <tr>\n",
       "      <th>sudo-rm-rf</th>\n",
       "      <td>1.000000e+00</td>\n",
       "    </tr>\n",
       "    <tr>\n",
       "      <th>femversenft</th>\n",
       "      <td>1.000000e+00</td>\n",
       "    </tr>\n",
       "  </tbody>\n",
       "</table>\n",
       "<p>28446 rows × 1 columns</p>\n",
       "</div>"
      ],
      "text/plain": [
       "                                  owned_asset_count\n",
       "slug                                               \n",
       "unidentified-contract-vzooewvccc       1.579209e+76\n",
       "unidentified-contract-cdgfjphfbh       2.278085e+38\n",
       "unidentified-contract-kgoq4pkam0       9.709694e+23\n",
       "unidentified-contract-ytlksgcesz       7.281004e+23\n",
       "unidentified-contract-kj63urtefs       5.053004e+22\n",
       "...                                             ...\n",
       "friedguyz                              1.000000e+00\n",
       "sudoangels-limited                     1.000000e+00\n",
       "friendly-fire-v2                       1.000000e+00\n",
       "sudo-rm-rf                             1.000000e+00\n",
       "femversenft                            1.000000e+00\n",
       "\n",
       "[28446 rows x 1 columns]"
      ]
     },
     "metadata": {},
     "output_type": "display_data"
    },
    {
     "name": "stdout",
     "output_type": "stream",
     "text": [
      "<class 'pandas.core.frame.DataFrame'>\n",
      "Int64Index: 68 entries, 165 to 187152\n",
      "Data columns (total 4 columns):\n",
      " #   Column             Non-Null Count  Dtype  \n",
      "---  ------             --------------  -----  \n",
      " 0   dao_id             68 non-null     object \n",
      " 1   member_address     68 non-null     object \n",
      " 2   slug               68 non-null     object \n",
      " 3   owned_asset_count  68 non-null     float64\n",
      "dtypes: float64(1), object(3)\n",
      "memory usage: 2.7+ KB\n"
     ]
    }
   ],
   "source": [
    "top_N = 20\n",
    "\n",
    "slug = (\n",
    "    df_raw.groupby(\"slug\")\n",
    "    .owned_asset_count.sum()\n",
    "    .sort_values(ascending=False)\n",
    "    .to_frame()\n",
    ")\n",
    "slug.pipe(display)\n",
    "\n",
    "slug_top = slug.head(top_N).index.tolist()\n",
    "df = df_raw.loc[lambda x: x.slug.isin(slug_top)]\n",
    "df.info()"
   ]
  },
  {
   "cell_type": "markdown",
   "id": "a37341fb-c2e8-4810-8975-c7bae9225c38",
   "metadata": {},
   "source": [
    "# Data for network visualization\n",
    "- Source\n",
    "- Target\n",
    "- weight"
   ]
  },
  {
   "cell_type": "code",
   "execution_count": 17,
   "id": "ca86f11e",
   "metadata": {},
   "outputs": [
    {
     "name": "stdout",
     "output_type": "stream",
     "text": [
      "Collecting tqdm\n",
      "  Downloading tqdm-4.64.1-py2.py3-none-any.whl (78 kB)\n",
      "     ---------------------------------------- 78.5/78.5 kB 4.3 MB/s eta 0:00:00\n",
      "Requirement already satisfied: colorama in c:\\users\\x\\appdata\\roaming\\python\\python310\\site-packages (from tqdm) (0.4.5)\n",
      "Installing collected packages: tqdm\n",
      "Successfully installed tqdm-4.64.1\n"
     ]
    },
    {
     "name": "stderr",
     "output_type": "stream",
     "text": [
      "\n",
      "[notice] A new release of pip available: 22.2.2 -> 22.3\n",
      "[notice] To update, run: python.exe -m pip install --upgrade pip\n"
     ]
    },
    {
     "name": "stdout",
     "output_type": "stream",
     "text": [
      "Collecting pyvis\n",
      "  Downloading pyvis-0.3.0.tar.gz (592 kB)\n",
      "     ------------------------------------- 592.8/592.8 kB 12.4 MB/s eta 0:00:00\n",
      "  Preparing metadata (setup.py): started\n",
      "  Preparing metadata (setup.py): finished with status 'done'\n",
      "Collecting jinja2>=2.9.6\n",
      "  Downloading Jinja2-3.1.2-py3-none-any.whl (133 kB)\n",
      "     -------------------------------------- 133.1/133.1 kB 7.7 MB/s eta 0:00:00\n",
      "Requirement already satisfied: networkx>=1.11 in c:\\users\\x\\appdata\\local\\programs\\python\\python310\\lib\\site-packages (from pyvis) (2.8.7)\n",
      "Requirement already satisfied: ipython>=5.3.0 in c:\\users\\x\\appdata\\roaming\\python\\python310\\site-packages (from pyvis) (8.4.0)\n",
      "Collecting jsonpickle>=1.4.1\n",
      "  Downloading jsonpickle-2.2.0-py2.py3-none-any.whl (39 kB)\n",
      "Requirement already satisfied: matplotlib-inline in c:\\users\\x\\appdata\\roaming\\python\\python310\\site-packages (from ipython>=5.3.0->pyvis) (0.1.3)\n",
      "Requirement already satisfied: backcall in c:\\users\\x\\appdata\\roaming\\python\\python310\\site-packages (from ipython>=5.3.0->pyvis) (0.2.0)\n",
      "Requirement already satisfied: pygments>=2.4.0 in c:\\users\\x\\appdata\\roaming\\python\\python310\\site-packages (from ipython>=5.3.0->pyvis) (2.12.0)\n",
      "Requirement already satisfied: traitlets>=5 in c:\\users\\x\\appdata\\roaming\\python\\python310\\site-packages (from ipython>=5.3.0->pyvis) (5.3.0)\n",
      "Requirement already satisfied: stack-data in c:\\users\\x\\appdata\\roaming\\python\\python310\\site-packages (from ipython>=5.3.0->pyvis) (0.3.0)\n",
      "Requirement already satisfied: colorama in c:\\users\\x\\appdata\\roaming\\python\\python310\\site-packages (from ipython>=5.3.0->pyvis) (0.4.5)\n",
      "Requirement already satisfied: pickleshare in c:\\users\\x\\appdata\\roaming\\python\\python310\\site-packages (from ipython>=5.3.0->pyvis) (0.7.5)\n",
      "Requirement already satisfied: setuptools>=18.5 in c:\\users\\x\\appdata\\local\\programs\\python\\python310\\lib\\site-packages (from ipython>=5.3.0->pyvis) (63.3.0)\n",
      "Requirement already satisfied: jedi>=0.16 in c:\\users\\x\\appdata\\roaming\\python\\python310\\site-packages (from ipython>=5.3.0->pyvis) (0.18.1)\n",
      "Requirement already satisfied: prompt-toolkit!=3.0.0,!=3.0.1,<3.1.0,>=2.0.0 in c:\\users\\x\\appdata\\roaming\\python\\python310\\site-packages (from ipython>=5.3.0->pyvis) (3.0.30)\n",
      "Requirement already satisfied: decorator in c:\\users\\x\\appdata\\roaming\\python\\python310\\site-packages (from ipython>=5.3.0->pyvis) (5.1.1)\n",
      "Collecting MarkupSafe>=2.0\n",
      "  Downloading MarkupSafe-2.1.1-cp310-cp310-win_amd64.whl (17 kB)\n",
      "Requirement already satisfied: parso<0.9.0,>=0.8.0 in c:\\users\\x\\appdata\\roaming\\python\\python310\\site-packages (from jedi>=0.16->ipython>=5.3.0->pyvis) (0.8.3)\n",
      "Requirement already satisfied: wcwidth in c:\\users\\x\\appdata\\roaming\\python\\python310\\site-packages (from prompt-toolkit!=3.0.0,!=3.0.1,<3.1.0,>=2.0.0->ipython>=5.3.0->pyvis) (0.2.5)\n",
      "Requirement already satisfied: asttokens in c:\\users\\x\\appdata\\roaming\\python\\python310\\site-packages (from stack-data->ipython>=5.3.0->pyvis) (2.0.5)\n",
      "Requirement already satisfied: pure-eval in c:\\users\\x\\appdata\\roaming\\python\\python310\\site-packages (from stack-data->ipython>=5.3.0->pyvis) (0.2.2)\n",
      "Requirement already satisfied: executing in c:\\users\\x\\appdata\\roaming\\python\\python310\\site-packages (from stack-data->ipython>=5.3.0->pyvis) (0.9.1)\n",
      "Requirement already satisfied: six in c:\\users\\x\\appdata\\roaming\\python\\python310\\site-packages (from asttokens->stack-data->ipython>=5.3.0->pyvis) (1.16.0)\n",
      "Building wheels for collected packages: pyvis\n",
      "  Building wheel for pyvis (setup.py): started\n",
      "  Building wheel for pyvis (setup.py): finished with status 'done'\n",
      "  Created wheel for pyvis: filename=pyvis-0.3.0-py3-none-any.whl size=600233 sha256=e0e92e3562b7ef41ff060deb1297831f6338297ab716f366c84246f68e2e837b\n",
      "  Stored in directory: c:\\users\\x\\appdata\\local\\pip\\cache\\wheels\\84\\57\\e8\\d47479bd009ffbbf8a7e6a085d2456a823c58684a64830e0ac\n",
      "Successfully built pyvis\n",
      "Installing collected packages: MarkupSafe, jsonpickle, jinja2, pyvis\n",
      "Successfully installed MarkupSafe-2.1.1 jinja2-3.1.2 jsonpickle-2.2.0 pyvis-0.3.0\n"
     ]
    },
    {
     "name": "stderr",
     "output_type": "stream",
     "text": [
      "\n",
      "[notice] A new release of pip available: 22.2.2 -> 22.3\n",
      "[notice] To update, run: python.exe -m pip install --upgrade pip\n"
     ]
    }
   ],
   "source": [
    "# !pip install tqdm\n",
    "# !pip install pyvis"
   ]
  },
  {
   "cell_type": "code",
   "execution_count": 18,
   "id": "b72aadd9-c0e6-4917-94fc-3cac91e36d20",
   "metadata": {},
   "outputs": [],
   "source": [
    "from itertools import permutations\n",
    "from tqdm import tqdm\n",
    "import networkx as nx\n",
    "from pyvis.network import Network\n",
    "import io, pickle"
   ]
  },
  {
   "cell_type": "code",
   "execution_count": 19,
   "id": "08a6b751-457e-4464-a7e0-8a84d51d57f6",
   "metadata": {},
   "outputs": [],
   "source": [
    "dir_path = \"vis\""
   ]
  },
  {
   "cell_type": "markdown",
   "id": "e4188b3f-0947-47b7-adf2-1d1834316b49",
   "metadata": {},
   "source": [
    "# DAO network"
   ]
  },
  {
   "cell_type": "code",
   "execution_count": 21,
   "id": "182d8324-687e-4d9e-9669-ac4cd67fd514",
   "metadata": {},
   "outputs": [
    {
     "name": "stderr",
     "output_type": "stream",
     "text": [
      "100%|██████████| 20/20 [00:00<00:00, 9666.52it/s]\n"
     ]
    }
   ],
   "source": [
    "network_dao = {}\n",
    "for grp, df_grp in tqdm(df.groupby(\"slug\")):\n",
    "    for p in permutations(sorted(df_grp.dao_id.unique()), 2):\n",
    "        if p not in network_dao:\n",
    "            network_dao[p] = 0\n",
    "        network_dao[p] += 1"
   ]
  },
  {
   "cell_type": "code",
   "execution_count": 22,
   "id": "f7ec95f9-f556-4881-82fd-49748eeb1960",
   "metadata": {},
   "outputs": [],
   "source": [
    "df_network_dao = pd.DataFrame(\n",
    "    [\n",
    "        {\"Source\": source, \"Target\": target, \"weight\": weight}\n",
    "        for (source, target), weight in network_dao.items()\n",
    "    ]\n",
    ")\n",
    "df_network_dao.to_csv(f\"{dir_path}/vis_network_dao.csv\", index=False)"
   ]
  },
  {
   "cell_type": "code",
   "execution_count": 23,
   "id": "16cea0e0-2b67-460d-9abc-11a9de8c9119",
   "metadata": {},
   "outputs": [
    {
     "name": "stdout",
     "output_type": "stream",
     "text": [
      "<class 'pandas.core.frame.DataFrame'>\n",
      "RangeIndex: 710 entries, 0 to 709\n",
      "Data columns (total 3 columns):\n",
      " #   Column  Non-Null Count  Dtype \n",
      "---  ------  --------------  ----- \n",
      " 0   Source  710 non-null    object\n",
      " 1   Target  710 non-null    object\n",
      " 2   weight  710 non-null    int64 \n",
      "dtypes: int64(1), object(2)\n",
      "memory usage: 16.8+ KB\n"
     ]
    },
    {
     "data": {
      "text/html": [
       "<div>\n",
       "<style scoped>\n",
       "    .dataframe tbody tr th:only-of-type {\n",
       "        vertical-align: middle;\n",
       "    }\n",
       "\n",
       "    .dataframe tbody tr th {\n",
       "        vertical-align: top;\n",
       "    }\n",
       "\n",
       "    .dataframe thead th {\n",
       "        text-align: right;\n",
       "    }\n",
       "</style>\n",
       "<table border=\"1\" class=\"dataframe\">\n",
       "  <thead>\n",
       "    <tr style=\"text-align: right;\">\n",
       "      <th></th>\n",
       "      <th>Source</th>\n",
       "      <th>Target</th>\n",
       "      <th>weight</th>\n",
       "    </tr>\n",
       "  </thead>\n",
       "  <tbody>\n",
       "    <tr>\n",
       "      <th>0</th>\n",
       "      <td>0519572c-483c-4d6e-ac6d-28eda3ea1aff</td>\n",
       "      <td>11eb10d7-6493-4cfc-8255-cb0f2338fa67</td>\n",
       "      <td>1</td>\n",
       "    </tr>\n",
       "    <tr>\n",
       "      <th>1</th>\n",
       "      <td>0519572c-483c-4d6e-ac6d-28eda3ea1aff</td>\n",
       "      <td>219ab5ef-9345-448b-bbf2-786a33e4edd8</td>\n",
       "      <td>1</td>\n",
       "    </tr>\n",
       "    <tr>\n",
       "      <th>2</th>\n",
       "      <td>0519572c-483c-4d6e-ac6d-28eda3ea1aff</td>\n",
       "      <td>50633191-27ac-40e3-9f52-da100c196c90</td>\n",
       "      <td>1</td>\n",
       "    </tr>\n",
       "    <tr>\n",
       "      <th>3</th>\n",
       "      <td>0519572c-483c-4d6e-ac6d-28eda3ea1aff</td>\n",
       "      <td>5c76f492-c718-4c2e-b633-c9dbac1cc331</td>\n",
       "      <td>1</td>\n",
       "    </tr>\n",
       "    <tr>\n",
       "      <th>4</th>\n",
       "      <td>0519572c-483c-4d6e-ac6d-28eda3ea1aff</td>\n",
       "      <td>67149dec-7a5d-41f4-8e68-f75446ce47a0</td>\n",
       "      <td>1</td>\n",
       "    </tr>\n",
       "  </tbody>\n",
       "</table>\n",
       "</div>"
      ],
      "text/plain": [
       "                                 Source                                Target  \\\n",
       "0  0519572c-483c-4d6e-ac6d-28eda3ea1aff  11eb10d7-6493-4cfc-8255-cb0f2338fa67   \n",
       "1  0519572c-483c-4d6e-ac6d-28eda3ea1aff  219ab5ef-9345-448b-bbf2-786a33e4edd8   \n",
       "2  0519572c-483c-4d6e-ac6d-28eda3ea1aff  50633191-27ac-40e3-9f52-da100c196c90   \n",
       "3  0519572c-483c-4d6e-ac6d-28eda3ea1aff  5c76f492-c718-4c2e-b633-c9dbac1cc331   \n",
       "4  0519572c-483c-4d6e-ac6d-28eda3ea1aff  67149dec-7a5d-41f4-8e68-f75446ce47a0   \n",
       "\n",
       "   weight  \n",
       "0       1  \n",
       "1       1  \n",
       "2       1  \n",
       "3       1  \n",
       "4       1  "
      ]
     },
     "metadata": {},
     "output_type": "display_data"
    },
    {
     "data": {
      "text/html": [
       "<div>\n",
       "<style scoped>\n",
       "    .dataframe tbody tr th:only-of-type {\n",
       "        vertical-align: middle;\n",
       "    }\n",
       "\n",
       "    .dataframe tbody tr th {\n",
       "        vertical-align: top;\n",
       "    }\n",
       "\n",
       "    .dataframe thead th {\n",
       "        text-align: right;\n",
       "    }\n",
       "</style>\n",
       "<table border=\"1\" class=\"dataframe\">\n",
       "  <thead>\n",
       "    <tr style=\"text-align: right;\">\n",
       "      <th></th>\n",
       "      <th>counts</th>\n",
       "    </tr>\n",
       "  </thead>\n",
       "  <tbody>\n",
       "    <tr>\n",
       "      <th>1</th>\n",
       "      <td>704</td>\n",
       "    </tr>\n",
       "    <tr>\n",
       "      <th>2</th>\n",
       "      <td>6</td>\n",
       "    </tr>\n",
       "  </tbody>\n",
       "</table>\n",
       "</div>"
      ],
      "text/plain": [
       "   counts\n",
       "1     704\n",
       "2       6"
      ]
     },
     "metadata": {},
     "output_type": "display_data"
    }
   ],
   "source": [
    "df_network_dao.info()\n",
    "df_network_dao.head().pipe(display)\n",
    "df_network_dao.weight.value_counts().to_frame(\"counts\").pipe(display)"
   ]
  },
  {
   "cell_type": "code",
   "execution_count": 34,
   "id": "046565e0-81cc-4185-a7a1-967c8ae67a35",
   "metadata": {},
   "outputs": [],
   "source": [
    "G_dao = nx.from_pandas_edgelist(\n",
    "    df_network_dao, source=\"Source\", target=\"Target\", edge_attr=\"weight\"\n",
    ")\n",
    "\n",
    "nx.write_gexf(G_dao,f\"{dir_path}/gragh_dao.gexf\")\n",
    "with io.open(f\"{dir_path}/gragh_dao.nx\", mode=\"wb\") as f:\n",
    "    pickle.dump(G_dao, f)"
   ]
  },
  {
   "cell_type": "code",
   "execution_count": 25,
   "id": "e619ab10-0a09-4ba9-9fe2-a1f047e5995c",
   "metadata": {},
   "outputs": [
    {
     "name": "stdout",
     "output_type": "stream",
     "text": [
      "Local cdn resources have problems on chrome/safari when used in jupyter-notebook. \n"
     ]
    },
    {
     "data": {
      "text/html": [
       "\n",
       "        <iframe\n",
       "            width=\"100%\"\n",
       "            height=\"600px\"\n",
       "            src=\"vis/pyvis_nx_dao.html\"\n",
       "            frameborder=\"0\"\n",
       "            allowfullscreen\n",
       "            \n",
       "        ></iframe>\n",
       "        "
      ],
      "text/plain": [
       "<IPython.lib.display.IFrame at 0x1e2bd0ff190>"
      ]
     },
     "execution_count": 25,
     "metadata": {},
     "output_type": "execute_result"
    }
   ],
   "source": [
    "net_dao = Network(height=\"1200px\", width=\"100%\", notebook=True)\n",
    "net_dao.repulsion()\n",
    "net_dao.from_nx(G_dao)\n",
    "net_dao.show(f\"{dir_path}/pyvis_nx_dao.html\")"
   ]
  },
  {
   "cell_type": "markdown",
   "id": "b71b0e89-d8c1-4cfe-83d9-a841ec234093",
   "metadata": {},
   "source": [
    "# Voter network"
   ]
  },
  {
   "cell_type": "code",
   "execution_count": 26,
   "id": "82cf4d8e-101c-450c-b412-538da5fd70d7",
   "metadata": {},
   "outputs": [
    {
     "name": "stderr",
     "output_type": "stream",
     "text": [
      "100%|██████████| 20/20 [00:00<00:00, 20887.97it/s]\n"
     ]
    }
   ],
   "source": [
    "network_voters = {}\n",
    "for grp, df_grp in tqdm(df.groupby(\"slug\")):\n",
    "    for p in permutations(sorted(df_grp.member_address.unique()), 2):\n",
    "        if p not in network_voters:\n",
    "            network_voters[p] = 0\n",
    "        network_voters[p] += 1"
   ]
  },
  {
   "cell_type": "code",
   "execution_count": 27,
   "id": "db080f0e-2d92-4926-a34e-fd24eb451e06",
   "metadata": {},
   "outputs": [],
   "source": [
    "df_network_voter = pd.DataFrame(\n",
    "    [\n",
    "        {\"Source\": source, \"Target\": target, \"weight\": weight}\n",
    "        for (source, target), weight in network_voters.items()\n",
    "    ]\n",
    ")\n",
    "df_network_voter.to_csv(f\"{dir_path}/vis_network_voter.csv\", index=False)"
   ]
  },
  {
   "cell_type": "code",
   "execution_count": 28,
   "id": "7ad44e0c-ad93-4079-b9b5-07963ae02b99",
   "metadata": {
    "jupyter": {
     "source_hidden": true
    },
    "tags": []
   },
   "outputs": [],
   "source": [
    "# network_voters = {}\n",
    "# for grp, df_grp in tqdm(df.groupby('slug')):\n",
    "#     for p in permutations(sorted(df_grp.member_address.unique()), 2):\n",
    "#         if p not in network_voters:\n",
    "#             network_voters[p] = [0, '']\n",
    "#         network_voters[p][0] += 1\n",
    "#         network_voters[p][1] = grp\n",
    "\n",
    "# df_network_voter = pd.DataFrame([{'Source': source, 'Target': target, 'weight': weight, 'slug': slug} for (source, target), (weight, slug) in network_voters.items()])\n",
    "\n",
    "# # add colors\n",
    "# colors = ['b', 'g', 'r', 'c', 'm', 'y', 'k']\n",
    "# color_map = dict(zip(df_network_voter.slug.unique(), colors))\n",
    "# df_network_voter['color'] = df_network_voter.slug.map(lambda x: color_map[x])\n",
    "\n",
    "# df_network_voter.to_csv(f'{dir_path}/vis_network_voter.csv', index = False)"
   ]
  },
  {
   "cell_type": "code",
   "execution_count": 29,
   "id": "5561f7a2-1577-4674-a090-761d76504b69",
   "metadata": {},
   "outputs": [
    {
     "name": "stdout",
     "output_type": "stream",
     "text": [
      "<class 'pandas.core.frame.DataFrame'>\n",
      "RangeIndex: 320 entries, 0 to 319\n",
      "Data columns (total 3 columns):\n",
      " #   Column  Non-Null Count  Dtype \n",
      "---  ------  --------------  ----- \n",
      " 0   Source  320 non-null    object\n",
      " 1   Target  320 non-null    object\n",
      " 2   weight  320 non-null    int64 \n",
      "dtypes: int64(1), object(2)\n",
      "memory usage: 7.6+ KB\n"
     ]
    },
    {
     "data": {
      "text/html": [
       "<div>\n",
       "<style scoped>\n",
       "    .dataframe tbody tr th:only-of-type {\n",
       "        vertical-align: middle;\n",
       "    }\n",
       "\n",
       "    .dataframe tbody tr th {\n",
       "        vertical-align: top;\n",
       "    }\n",
       "\n",
       "    .dataframe thead th {\n",
       "        text-align: right;\n",
       "    }\n",
       "</style>\n",
       "<table border=\"1\" class=\"dataframe\">\n",
       "  <thead>\n",
       "    <tr style=\"text-align: right;\">\n",
       "      <th></th>\n",
       "      <th>Source</th>\n",
       "      <th>Target</th>\n",
       "      <th>weight</th>\n",
       "    </tr>\n",
       "  </thead>\n",
       "  <tbody>\n",
       "    <tr>\n",
       "      <th>0</th>\n",
       "      <td>0x0998160bdf3ff6d86a4e9d5c31e0efc3ca7e7d01</td>\n",
       "      <td>0x14bdfda5b5b829f14332a52c15129386284ce36a</td>\n",
       "      <td>1</td>\n",
       "    </tr>\n",
       "    <tr>\n",
       "      <th>1</th>\n",
       "      <td>0x0998160bdf3ff6d86a4e9d5c31e0efc3ca7e7d01</td>\n",
       "      <td>0x194f0fe6d4dfbf198868b1b507cd74122fbfebcc</td>\n",
       "      <td>1</td>\n",
       "    </tr>\n",
       "    <tr>\n",
       "      <th>2</th>\n",
       "      <td>0x0998160bdf3ff6d86a4e9d5c31e0efc3ca7e7d01</td>\n",
       "      <td>0x1ca48a32482ef29708e95f248e8a613f05782ed3</td>\n",
       "      <td>1</td>\n",
       "    </tr>\n",
       "    <tr>\n",
       "      <th>3</th>\n",
       "      <td>0x0998160bdf3ff6d86a4e9d5c31e0efc3ca7e7d01</td>\n",
       "      <td>0x24e6d835f23b9716af984f6604625c6b074015cd</td>\n",
       "      <td>1</td>\n",
       "    </tr>\n",
       "    <tr>\n",
       "      <th>4</th>\n",
       "      <td>0x0998160bdf3ff6d86a4e9d5c31e0efc3ca7e7d01</td>\n",
       "      <td>0x4194ce73ac3fbbece8ffa878c2b5a8c90333e724</td>\n",
       "      <td>1</td>\n",
       "    </tr>\n",
       "  </tbody>\n",
       "</table>\n",
       "</div>"
      ],
      "text/plain": [
       "                                       Source  \\\n",
       "0  0x0998160bdf3ff6d86a4e9d5c31e0efc3ca7e7d01   \n",
       "1  0x0998160bdf3ff6d86a4e9d5c31e0efc3ca7e7d01   \n",
       "2  0x0998160bdf3ff6d86a4e9d5c31e0efc3ca7e7d01   \n",
       "3  0x0998160bdf3ff6d86a4e9d5c31e0efc3ca7e7d01   \n",
       "4  0x0998160bdf3ff6d86a4e9d5c31e0efc3ca7e7d01   \n",
       "\n",
       "                                       Target  weight  \n",
       "0  0x14bdfda5b5b829f14332a52c15129386284ce36a       1  \n",
       "1  0x194f0fe6d4dfbf198868b1b507cd74122fbfebcc       1  \n",
       "2  0x1ca48a32482ef29708e95f248e8a613f05782ed3       1  \n",
       "3  0x24e6d835f23b9716af984f6604625c6b074015cd       1  \n",
       "4  0x4194ce73ac3fbbece8ffa878c2b5a8c90333e724       1  "
      ]
     },
     "metadata": {},
     "output_type": "display_data"
    },
    {
     "data": {
      "text/html": [
       "<div>\n",
       "<style scoped>\n",
       "    .dataframe tbody tr th:only-of-type {\n",
       "        vertical-align: middle;\n",
       "    }\n",
       "\n",
       "    .dataframe tbody tr th {\n",
       "        vertical-align: top;\n",
       "    }\n",
       "\n",
       "    .dataframe thead th {\n",
       "        text-align: right;\n",
       "    }\n",
       "</style>\n",
       "<table border=\"1\" class=\"dataframe\">\n",
       "  <thead>\n",
       "    <tr style=\"text-align: right;\">\n",
       "      <th></th>\n",
       "      <th>counts</th>\n",
       "    </tr>\n",
       "  </thead>\n",
       "  <tbody>\n",
       "    <tr>\n",
       "      <th>1</th>\n",
       "      <td>320</td>\n",
       "    </tr>\n",
       "  </tbody>\n",
       "</table>\n",
       "</div>"
      ],
      "text/plain": [
       "   counts\n",
       "1     320"
      ]
     },
     "metadata": {},
     "output_type": "display_data"
    }
   ],
   "source": [
    "df_network_voter.info()\n",
    "df_network_voter.head().pipe(display)\n",
    "df_network_voter.weight.value_counts().to_frame(\"counts\").pipe(display)"
   ]
  },
  {
   "cell_type": "code",
   "execution_count": 30,
   "id": "85847525",
   "metadata": {},
   "outputs": [],
   "source": [
    "df_network_voter[[\"Source\", \"Target\"]] = df_network_voter[\n",
    "    [\"Source\", \"Target\"]\n",
    "].applymap(lambda x: x[3:9].lower())"
   ]
  },
  {
   "cell_type": "code",
   "execution_count": 35,
   "id": "337d7698-2b1a-4607-8808-c567304a2645",
   "metadata": {},
   "outputs": [],
   "source": [
    "G_voter = nx.from_pandas_edgelist(\n",
    "    df_network_voter, source=\"Source\", target=\"Target\", edge_attr=True\n",
    ")\n",
    "nx.write_gexf(G_voter,f\"{dir_path}/gragh_voter.gexf\")\n",
    "with io.open(f\"{dir_path}/gragh_voter.nx\", mode=\"wb\") as f:\n",
    "    pickle.dump(G_voter, f)"
   ]
  },
  {
   "cell_type": "code",
   "execution_count": 32,
   "id": "07c94af1-d7d3-4a2b-8bfa-39be12b62ba6",
   "metadata": {},
   "outputs": [
    {
     "name": "stdout",
     "output_type": "stream",
     "text": [
      "Local cdn resources have problems on chrome/safari when used in jupyter-notebook. \n"
     ]
    },
    {
     "data": {
      "text/html": [
       "\n",
       "        <iframe\n",
       "            width=\"100%\"\n",
       "            height=\"600px\"\n",
       "            src=\"vis/pyvis_nx_voter.html\"\n",
       "            frameborder=\"0\"\n",
       "            allowfullscreen\n",
       "            \n",
       "        ></iframe>\n",
       "        "
      ],
      "text/plain": [
       "<IPython.lib.display.IFrame at 0x1e2bd12bdf0>"
      ]
     },
     "execution_count": 32,
     "metadata": {},
     "output_type": "execute_result"
    }
   ],
   "source": [
    "net_voter = Network(height=\"1200px\", width=\"100%\", notebook=True)\n",
    "net_voter.repulsion()\n",
    "net_voter.from_nx(G_voter)\n",
    "net_voter.show(f\"{dir_path}/pyvis_nx_voter.html\")"
   ]
  },
  {
   "cell_type": "markdown",
   "id": "16492603-88c1-4b39-85c3-5b9b94812136",
   "metadata": {},
   "source": [
    "# additional data"
   ]
  },
  {
   "cell_type": "code",
   "execution_count": 33,
   "id": "e4313dc4-0d74-4159-ad47-14ea2d5da0ec",
   "metadata": {},
   "outputs": [
    {
     "ename": "FileNotFoundError",
     "evalue": "[Errno 2] No such file or directory: 'data/Data_API.csv'",
     "output_type": "error",
     "traceback": [
      "\u001b[1;31m---------------------------------------------------------------------------\u001b[0m",
      "\u001b[1;31mFileNotFoundError\u001b[0m                         Traceback (most recent call last)",
      "\u001b[1;32mc:\\clone\\IS808_adv_DS_lab\\20221017_Presentation\\ActionPlan\\visualization_networks.ipynb Cell 33\u001b[0m in \u001b[0;36m<cell line: 1>\u001b[1;34m()\u001b[0m\n\u001b[1;32m----> <a href='vscode-notebook-cell:/c%3A/clone/IS808_adv_DS_lab/20221017_Presentation/ActionPlan/visualization_networks.ipynb#X42sZmlsZQ%3D%3D?line=0'>1</a>\u001b[0m df_nft \u001b[39m=\u001b[39m pd\u001b[39m.\u001b[39;49mread_csv(\u001b[39m\"\u001b[39;49m\u001b[39mdata/Data_API.csv\u001b[39;49m\u001b[39m\"\u001b[39;49m)\n\u001b[0;32m      <a href='vscode-notebook-cell:/c%3A/clone/IS808_adv_DS_lab/20221017_Presentation/ActionPlan/visualization_networks.ipynb#X42sZmlsZQ%3D%3D?line=1'>2</a>\u001b[0m df_nft\u001b[39m.\u001b[39minfo()\n",
      "File \u001b[1;32m~\\AppData\\Roaming\\Python\\Python310\\site-packages\\pandas\\util\\_decorators.py:311\u001b[0m, in \u001b[0;36mdeprecate_nonkeyword_arguments.<locals>.decorate.<locals>.wrapper\u001b[1;34m(*args, **kwargs)\u001b[0m\n\u001b[0;32m    305\u001b[0m \u001b[39mif\u001b[39;00m \u001b[39mlen\u001b[39m(args) \u001b[39m>\u001b[39m num_allow_args:\n\u001b[0;32m    306\u001b[0m     warnings\u001b[39m.\u001b[39mwarn(\n\u001b[0;32m    307\u001b[0m         msg\u001b[39m.\u001b[39mformat(arguments\u001b[39m=\u001b[39marguments),\n\u001b[0;32m    308\u001b[0m         \u001b[39mFutureWarning\u001b[39;00m,\n\u001b[0;32m    309\u001b[0m         stacklevel\u001b[39m=\u001b[39mstacklevel,\n\u001b[0;32m    310\u001b[0m     )\n\u001b[1;32m--> 311\u001b[0m \u001b[39mreturn\u001b[39;00m func(\u001b[39m*\u001b[39margs, \u001b[39m*\u001b[39m\u001b[39m*\u001b[39mkwargs)\n",
      "File \u001b[1;32m~\\AppData\\Roaming\\Python\\Python310\\site-packages\\pandas\\io\\parsers\\readers.py:680\u001b[0m, in \u001b[0;36mread_csv\u001b[1;34m(filepath_or_buffer, sep, delimiter, header, names, index_col, usecols, squeeze, prefix, mangle_dupe_cols, dtype, engine, converters, true_values, false_values, skipinitialspace, skiprows, skipfooter, nrows, na_values, keep_default_na, na_filter, verbose, skip_blank_lines, parse_dates, infer_datetime_format, keep_date_col, date_parser, dayfirst, cache_dates, iterator, chunksize, compression, thousands, decimal, lineterminator, quotechar, quoting, doublequote, escapechar, comment, encoding, encoding_errors, dialect, error_bad_lines, warn_bad_lines, on_bad_lines, delim_whitespace, low_memory, memory_map, float_precision, storage_options)\u001b[0m\n\u001b[0;32m    665\u001b[0m kwds_defaults \u001b[39m=\u001b[39m _refine_defaults_read(\n\u001b[0;32m    666\u001b[0m     dialect,\n\u001b[0;32m    667\u001b[0m     delimiter,\n\u001b[1;32m   (...)\u001b[0m\n\u001b[0;32m    676\u001b[0m     defaults\u001b[39m=\u001b[39m{\u001b[39m\"\u001b[39m\u001b[39mdelimiter\u001b[39m\u001b[39m\"\u001b[39m: \u001b[39m\"\u001b[39m\u001b[39m,\u001b[39m\u001b[39m\"\u001b[39m},\n\u001b[0;32m    677\u001b[0m )\n\u001b[0;32m    678\u001b[0m kwds\u001b[39m.\u001b[39mupdate(kwds_defaults)\n\u001b[1;32m--> 680\u001b[0m \u001b[39mreturn\u001b[39;00m _read(filepath_or_buffer, kwds)\n",
      "File \u001b[1;32m~\\AppData\\Roaming\\Python\\Python310\\site-packages\\pandas\\io\\parsers\\readers.py:575\u001b[0m, in \u001b[0;36m_read\u001b[1;34m(filepath_or_buffer, kwds)\u001b[0m\n\u001b[0;32m    572\u001b[0m _validate_names(kwds\u001b[39m.\u001b[39mget(\u001b[39m\"\u001b[39m\u001b[39mnames\u001b[39m\u001b[39m\"\u001b[39m, \u001b[39mNone\u001b[39;00m))\n\u001b[0;32m    574\u001b[0m \u001b[39m# Create the parser.\u001b[39;00m\n\u001b[1;32m--> 575\u001b[0m parser \u001b[39m=\u001b[39m TextFileReader(filepath_or_buffer, \u001b[39m*\u001b[39m\u001b[39m*\u001b[39mkwds)\n\u001b[0;32m    577\u001b[0m \u001b[39mif\u001b[39;00m chunksize \u001b[39mor\u001b[39;00m iterator:\n\u001b[0;32m    578\u001b[0m     \u001b[39mreturn\u001b[39;00m parser\n",
      "File \u001b[1;32m~\\AppData\\Roaming\\Python\\Python310\\site-packages\\pandas\\io\\parsers\\readers.py:934\u001b[0m, in \u001b[0;36mTextFileReader.__init__\u001b[1;34m(self, f, engine, **kwds)\u001b[0m\n\u001b[0;32m    931\u001b[0m     \u001b[39mself\u001b[39m\u001b[39m.\u001b[39moptions[\u001b[39m\"\u001b[39m\u001b[39mhas_index_names\u001b[39m\u001b[39m\"\u001b[39m] \u001b[39m=\u001b[39m kwds[\u001b[39m\"\u001b[39m\u001b[39mhas_index_names\u001b[39m\u001b[39m\"\u001b[39m]\n\u001b[0;32m    933\u001b[0m \u001b[39mself\u001b[39m\u001b[39m.\u001b[39mhandles: IOHandles \u001b[39m|\u001b[39m \u001b[39mNone\u001b[39;00m \u001b[39m=\u001b[39m \u001b[39mNone\u001b[39;00m\n\u001b[1;32m--> 934\u001b[0m \u001b[39mself\u001b[39m\u001b[39m.\u001b[39m_engine \u001b[39m=\u001b[39m \u001b[39mself\u001b[39;49m\u001b[39m.\u001b[39;49m_make_engine(f, \u001b[39mself\u001b[39;49m\u001b[39m.\u001b[39;49mengine)\n",
      "File \u001b[1;32m~\\AppData\\Roaming\\Python\\Python310\\site-packages\\pandas\\io\\parsers\\readers.py:1218\u001b[0m, in \u001b[0;36mTextFileReader._make_engine\u001b[1;34m(self, f, engine)\u001b[0m\n\u001b[0;32m   1214\u001b[0m     mode \u001b[39m=\u001b[39m \u001b[39m\"\u001b[39m\u001b[39mrb\u001b[39m\u001b[39m\"\u001b[39m\n\u001b[0;32m   1215\u001b[0m \u001b[39m# error: No overload variant of \"get_handle\" matches argument types\u001b[39;00m\n\u001b[0;32m   1216\u001b[0m \u001b[39m# \"Union[str, PathLike[str], ReadCsvBuffer[bytes], ReadCsvBuffer[str]]\"\u001b[39;00m\n\u001b[0;32m   1217\u001b[0m \u001b[39m# , \"str\", \"bool\", \"Any\", \"Any\", \"Any\", \"Any\", \"Any\"\u001b[39;00m\n\u001b[1;32m-> 1218\u001b[0m \u001b[39mself\u001b[39m\u001b[39m.\u001b[39mhandles \u001b[39m=\u001b[39m get_handle(  \u001b[39m# type: ignore[call-overload]\u001b[39;49;00m\n\u001b[0;32m   1219\u001b[0m     f,\n\u001b[0;32m   1220\u001b[0m     mode,\n\u001b[0;32m   1221\u001b[0m     encoding\u001b[39m=\u001b[39;49m\u001b[39mself\u001b[39;49m\u001b[39m.\u001b[39;49moptions\u001b[39m.\u001b[39;49mget(\u001b[39m\"\u001b[39;49m\u001b[39mencoding\u001b[39;49m\u001b[39m\"\u001b[39;49m, \u001b[39mNone\u001b[39;49;00m),\n\u001b[0;32m   1222\u001b[0m     compression\u001b[39m=\u001b[39;49m\u001b[39mself\u001b[39;49m\u001b[39m.\u001b[39;49moptions\u001b[39m.\u001b[39;49mget(\u001b[39m\"\u001b[39;49m\u001b[39mcompression\u001b[39;49m\u001b[39m\"\u001b[39;49m, \u001b[39mNone\u001b[39;49;00m),\n\u001b[0;32m   1223\u001b[0m     memory_map\u001b[39m=\u001b[39;49m\u001b[39mself\u001b[39;49m\u001b[39m.\u001b[39;49moptions\u001b[39m.\u001b[39;49mget(\u001b[39m\"\u001b[39;49m\u001b[39mmemory_map\u001b[39;49m\u001b[39m\"\u001b[39;49m, \u001b[39mFalse\u001b[39;49;00m),\n\u001b[0;32m   1224\u001b[0m     is_text\u001b[39m=\u001b[39;49mis_text,\n\u001b[0;32m   1225\u001b[0m     errors\u001b[39m=\u001b[39;49m\u001b[39mself\u001b[39;49m\u001b[39m.\u001b[39;49moptions\u001b[39m.\u001b[39;49mget(\u001b[39m\"\u001b[39;49m\u001b[39mencoding_errors\u001b[39;49m\u001b[39m\"\u001b[39;49m, \u001b[39m\"\u001b[39;49m\u001b[39mstrict\u001b[39;49m\u001b[39m\"\u001b[39;49m),\n\u001b[0;32m   1226\u001b[0m     storage_options\u001b[39m=\u001b[39;49m\u001b[39mself\u001b[39;49m\u001b[39m.\u001b[39;49moptions\u001b[39m.\u001b[39;49mget(\u001b[39m\"\u001b[39;49m\u001b[39mstorage_options\u001b[39;49m\u001b[39m\"\u001b[39;49m, \u001b[39mNone\u001b[39;49;00m),\n\u001b[0;32m   1227\u001b[0m )\n\u001b[0;32m   1228\u001b[0m \u001b[39massert\u001b[39;00m \u001b[39mself\u001b[39m\u001b[39m.\u001b[39mhandles \u001b[39mis\u001b[39;00m \u001b[39mnot\u001b[39;00m \u001b[39mNone\u001b[39;00m\n\u001b[0;32m   1229\u001b[0m f \u001b[39m=\u001b[39m \u001b[39mself\u001b[39m\u001b[39m.\u001b[39mhandles\u001b[39m.\u001b[39mhandle\n",
      "File \u001b[1;32m~\\AppData\\Roaming\\Python\\Python310\\site-packages\\pandas\\io\\common.py:786\u001b[0m, in \u001b[0;36mget_handle\u001b[1;34m(path_or_buf, mode, encoding, compression, memory_map, is_text, errors, storage_options)\u001b[0m\n\u001b[0;32m    781\u001b[0m \u001b[39melif\u001b[39;00m \u001b[39misinstance\u001b[39m(handle, \u001b[39mstr\u001b[39m):\n\u001b[0;32m    782\u001b[0m     \u001b[39m# Check whether the filename is to be opened in binary mode.\u001b[39;00m\n\u001b[0;32m    783\u001b[0m     \u001b[39m# Binary mode does not support 'encoding' and 'newline'.\u001b[39;00m\n\u001b[0;32m    784\u001b[0m     \u001b[39mif\u001b[39;00m ioargs\u001b[39m.\u001b[39mencoding \u001b[39mand\u001b[39;00m \u001b[39m\"\u001b[39m\u001b[39mb\u001b[39m\u001b[39m\"\u001b[39m \u001b[39mnot\u001b[39;00m \u001b[39min\u001b[39;00m ioargs\u001b[39m.\u001b[39mmode:\n\u001b[0;32m    785\u001b[0m         \u001b[39m# Encoding\u001b[39;00m\n\u001b[1;32m--> 786\u001b[0m         handle \u001b[39m=\u001b[39m \u001b[39mopen\u001b[39;49m(\n\u001b[0;32m    787\u001b[0m             handle,\n\u001b[0;32m    788\u001b[0m             ioargs\u001b[39m.\u001b[39;49mmode,\n\u001b[0;32m    789\u001b[0m             encoding\u001b[39m=\u001b[39;49mioargs\u001b[39m.\u001b[39;49mencoding,\n\u001b[0;32m    790\u001b[0m             errors\u001b[39m=\u001b[39;49merrors,\n\u001b[0;32m    791\u001b[0m             newline\u001b[39m=\u001b[39;49m\u001b[39m\"\u001b[39;49m\u001b[39m\"\u001b[39;49m,\n\u001b[0;32m    792\u001b[0m         )\n\u001b[0;32m    793\u001b[0m     \u001b[39melse\u001b[39;00m:\n\u001b[0;32m    794\u001b[0m         \u001b[39m# Binary mode\u001b[39;00m\n\u001b[0;32m    795\u001b[0m         handle \u001b[39m=\u001b[39m \u001b[39mopen\u001b[39m(handle, ioargs\u001b[39m.\u001b[39mmode)\n",
      "\u001b[1;31mFileNotFoundError\u001b[0m: [Errno 2] No such file or directory: 'data/Data_API.csv'"
     ]
    }
   ],
   "source": [
    "df_nft = pd.read_csv(\"data/Data_API.csv\")\n",
    "df_nft.info()"
   ]
  },
  {
   "cell_type": "code",
   "execution_count": null,
   "id": "2b24057a-71ea-4c80-9060-3f793486c120",
   "metadata": {},
   "outputs": [],
   "source": [
    "(df_nft.describe().round(2))"
   ]
  },
  {
   "cell_type": "code",
   "execution_count": null,
   "id": "8f7cfacb-3994-494b-9146-494152b76fab",
   "metadata": {},
   "outputs": [],
   "source": [
    "df_data_nunique = df_nft.loc[\n",
    "    :,\n",
    "    [\n",
    "        \"Smart_contract\",\n",
    "        \"ID_token\",\n",
    "        \"Transaction_hash\",\n",
    "        \"Seller_address\",\n",
    "        \"Seller_username\",\n",
    "        \"Buyer_address\",\n",
    "        \"Buyer_username\",\n",
    "        \"Image_url_1\",\n",
    "        \"Image_url_2\",\n",
    "        \"Image_url_3\",\n",
    "        \"Image_url_4\",\n",
    "        # 'Price_Crypto',\n",
    "        \"Crypto\",\n",
    "        # 'Price_USD',\n",
    "        \"Name\",\n",
    "        \"Description\",\n",
    "        \"Collection\",\n",
    "        \"Market\",\n",
    "        \"Datetime_updated\",\n",
    "        \"Datetime_updated_seconds\",\n",
    "        \"Permanent_link\",\n",
    "        \"Unique_id_collection\",\n",
    "        \"Collection_cleaned\",\n",
    "        \"Category\",\n",
    "    ],\n",
    "].nunique()"
   ]
  },
  {
   "cell_type": "code",
   "execution_count": null,
   "id": "4160bc83-5a74-4be7-b58b-6d62ca2b4e1f",
   "metadata": {},
   "outputs": [],
   "source": [
    "df_data_nunique.to_frame(\"distinct N\")"
   ]
  },
  {
   "cell_type": "code",
   "execution_count": null,
   "id": "71670102-2f96-4efc-b2d4-cf21b7f762e1",
   "metadata": {},
   "outputs": [],
   "source": [
    "for i in sorted(df_nft.Category.unique()):\n",
    "    print(i)"
   ]
  },
  {
   "cell_type": "code",
   "execution_count": null,
   "id": "de1000d7-31ac-4a69-bd92-5fc96064de1e",
   "metadata": {},
   "outputs": [],
   "source": []
  }
 ],
 "metadata": {
  "kernelspec": {
   "display_name": "Python 3.10.5 64-bit",
   "language": "python",
   "name": "python3"
  },
  "language_info": {
   "codemirror_mode": {
    "name": "ipython",
    "version": 3
   },
   "file_extension": ".py",
   "mimetype": "text/x-python",
   "name": "python",
   "nbconvert_exporter": "python",
   "pygments_lexer": "ipython3",
   "version": "3.10.5"
  },
  "vscode": {
   "interpreter": {
    "hash": "436a735bb292dfe3b72c36dda351f3743952b8c81a5c1a6834cb65af56951030"
   }
  }
 },
 "nbformat": 4,
 "nbformat_minor": 5
}
