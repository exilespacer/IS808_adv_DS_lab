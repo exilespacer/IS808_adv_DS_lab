{
 "cells": [
  {
   "cell_type": "code",
   "execution_count": 1,
   "id": "fa3d48ac-c39f-414d-b1b8-ddcf721e8725",
   "metadata": {},
   "outputs": [],
   "source": [
    "%load_ext autoreload\n",
    "%autoreload 2"
   ]
  },
  {
   "cell_type": "code",
   "execution_count": 2,
   "id": "295700ef-59ec-4333-860b-36db2d556142",
   "metadata": {},
   "outputs": [],
   "source": [
    "%matplotlib inline"
   ]
  },
  {
   "cell_type": "code",
   "execution_count": 39,
   "id": "927eb9d3-33b1-450d-b221-692062952b84",
   "metadata": {},
   "outputs": [],
   "source": [
    "import numpy as np\n",
    "import pandas as pd"
   ]
  },
  {
   "cell_type": "code",
   "execution_count": 46,
   "id": "b738bdb0-0eeb-47cc-be2b-4e6fca51387e",
   "metadata": {},
   "outputs": [
    {
     "name": "stdout",
     "output_type": "stream",
     "text": [
      "<class 'pandas.core.frame.DataFrame'>\n",
      "RangeIndex: 188512 entries, 0 to 188511\n",
      "Data columns (total 5 columns):\n",
      " #   Column             Non-Null Count   Dtype  \n",
      "---  ------             --------------   -----  \n",
      " 0   dao_id             188512 non-null  object \n",
      " 1   member_address     188512 non-null  object \n",
      " 2   slug               188512 non-null  object \n",
      " 3   owned_asset_count  188512 non-null  float64\n",
      " 4   dao_name           188512 non-null  object \n",
      "dtypes: float64(1), object(4)\n",
      "memory usage: 7.2+ MB\n"
     ]
    },
    {
     "data": {
      "text/html": [
       "<div>\n",
       "<style scoped>\n",
       "    .dataframe tbody tr th:only-of-type {\n",
       "        vertical-align: middle;\n",
       "    }\n",
       "\n",
       "    .dataframe tbody tr th {\n",
       "        vertical-align: top;\n",
       "    }\n",
       "\n",
       "    .dataframe thead th {\n",
       "        text-align: right;\n",
       "    }\n",
       "</style>\n",
       "<table border=\"1\" class=\"dataframe\">\n",
       "  <thead>\n",
       "    <tr style=\"text-align: right;\">\n",
       "      <th></th>\n",
       "      <th>dao_id</th>\n",
       "      <th>member_address</th>\n",
       "      <th>slug</th>\n",
       "      <th>owned_asset_count</th>\n",
       "      <th>dao_name</th>\n",
       "    </tr>\n",
       "  </thead>\n",
       "  <tbody>\n",
       "    <tr>\n",
       "      <th>0</th>\n",
       "      <td>ec242c8a-4667-46c6-8c51-0df6f0970970</td>\n",
       "      <td>0x9533158bb9b0abb178a9dc7f6f0168e84126688f</td>\n",
       "      <td>movement-daos-ascended-ape-collection</td>\n",
       "      <td>1.0</td>\n",
       "      <td>MansaNetwork</td>\n",
       "    </tr>\n",
       "    <tr>\n",
       "      <th>1</th>\n",
       "      <td>f12e8672-59e5-425e-bfd9-42f4078a3ff1</td>\n",
       "      <td>0x097c39e5e576a8706404cd0d81e05b522f5bcaff</td>\n",
       "      <td>eth-merge-v3</td>\n",
       "      <td>1.0</td>\n",
       "      <td>Cryptex</td>\n",
       "    </tr>\n",
       "    <tr>\n",
       "      <th>2</th>\n",
       "      <td>f12e8672-59e5-425e-bfd9-42f4078a3ff1</td>\n",
       "      <td>0x097c39e5e576a8706404cd0d81e05b522f5bcaff</td>\n",
       "      <td>grand-leisure</td>\n",
       "      <td>1.0</td>\n",
       "      <td>Cryptex</td>\n",
       "    </tr>\n",
       "    <tr>\n",
       "      <th>3</th>\n",
       "      <td>f12e8672-59e5-425e-bfd9-42f4078a3ff1</td>\n",
       "      <td>0x097c39e5e576a8706404cd0d81e05b522f5bcaff</td>\n",
       "      <td>re-based-ghouls-by-xwave</td>\n",
       "      <td>1.0</td>\n",
       "      <td>Cryptex</td>\n",
       "    </tr>\n",
       "    <tr>\n",
       "      <th>4</th>\n",
       "      <td>f12e8672-59e5-425e-bfd9-42f4078a3ff1</td>\n",
       "      <td>0x097c39e5e576a8706404cd0d81e05b522f5bcaff</td>\n",
       "      <td>based-ghouls</td>\n",
       "      <td>6.0</td>\n",
       "      <td>Cryptex</td>\n",
       "    </tr>\n",
       "  </tbody>\n",
       "</table>\n",
       "</div>"
      ],
      "text/plain": [
       "                                 dao_id  \\\n",
       "0  ec242c8a-4667-46c6-8c51-0df6f0970970   \n",
       "1  f12e8672-59e5-425e-bfd9-42f4078a3ff1   \n",
       "2  f12e8672-59e5-425e-bfd9-42f4078a3ff1   \n",
       "3  f12e8672-59e5-425e-bfd9-42f4078a3ff1   \n",
       "4  f12e8672-59e5-425e-bfd9-42f4078a3ff1   \n",
       "\n",
       "                               member_address  \\\n",
       "0  0x9533158bb9b0abb178a9dc7f6f0168e84126688f   \n",
       "1  0x097c39e5e576a8706404cd0d81e05b522f5bcaff   \n",
       "2  0x097c39e5e576a8706404cd0d81e05b522f5bcaff   \n",
       "3  0x097c39e5e576a8706404cd0d81e05b522f5bcaff   \n",
       "4  0x097c39e5e576a8706404cd0d81e05b522f5bcaff   \n",
       "\n",
       "                                    slug  owned_asset_count      dao_name  \n",
       "0  movement-daos-ascended-ape-collection                1.0  MansaNetwork  \n",
       "1                           eth-merge-v3                1.0       Cryptex  \n",
       "2                          grand-leisure                1.0       Cryptex  \n",
       "3               re-based-ghouls-by-xwave                1.0       Cryptex  \n",
       "4                           based-ghouls                6.0       Cryptex  "
      ]
     },
     "execution_count": 46,
     "metadata": {},
     "output_type": "execute_result"
    }
   ],
   "source": [
    "df_raw = (\n",
    "    pd.read_csv('network_df.csv')\n",
    "    .assign(\n",
    "        owned_asset_count = lambda x: x.owned_asset_count.astype(float),\n",
    "    )\n",
    ")\n",
    "df_raw.info()\n",
    "df_raw.head()"
   ]
  },
  {
   "cell_type": "code",
   "execution_count": null,
   "id": "e3e4767f-b129-4c34-ab95-72b6b5257e9b",
   "metadata": {},
   "outputs": [],
   "source": [
    "# add DAO names\n",
    "import io, json\n",
    "with io.open('../../3_api/deepdao/data/deepdao_id_name_mapping.json', mode = 'r') as f:\n",
    "    dao_id_name = json.load(f)\n",
    "\n",
    "df_raw = (\n",
    "    df_raw\n",
    "    .assign(dao_name = lambda x: x.dao_id.replace(dao_id_name))\n",
    ")"
   ]
  },
  {
   "cell_type": "markdown",
   "id": "d16829f4-de46-42ad-9298-82483189613a",
   "metadata": {},
   "source": [
    "# Summary statistics of data"
   ]
  },
  {
   "cell_type": "markdown",
   "id": "3a3f2e3a-fae8-46cd-9a61-6eb8c004788b",
   "metadata": {},
   "source": [
    "## distinct N"
   ]
  },
  {
   "cell_type": "code",
   "execution_count": 47,
   "id": "7784ba23-4969-4578-a4a1-b04ea2175053",
   "metadata": {},
   "outputs": [
    {
     "data": {
      "text/html": [
       "<div>\n",
       "<style scoped>\n",
       "    .dataframe tbody tr th:only-of-type {\n",
       "        vertical-align: middle;\n",
       "    }\n",
       "\n",
       "    .dataframe tbody tr th {\n",
       "        vertical-align: top;\n",
       "    }\n",
       "\n",
       "    .dataframe thead th {\n",
       "        text-align: right;\n",
       "    }\n",
       "</style>\n",
       "<table border=\"1\" class=\"dataframe\">\n",
       "  <thead>\n",
       "    <tr style=\"text-align: right;\">\n",
       "      <th></th>\n",
       "      <th>DAO</th>\n",
       "      <th>top voter</th>\n",
       "      <th>NFT</th>\n",
       "    </tr>\n",
       "  </thead>\n",
       "  <tbody>\n",
       "    <tr>\n",
       "      <th>distinct N</th>\n",
       "      <td>204</td>\n",
       "      <td>4600</td>\n",
       "      <td>28446</td>\n",
       "    </tr>\n",
       "  </tbody>\n",
       "</table>\n",
       "</div>"
      ],
      "text/plain": [
       "            DAO  top voter    NFT\n",
       "distinct N  204       4600  28446"
      ]
     },
     "metadata": {},
     "output_type": "display_data"
    }
   ],
   "source": [
    "df_N = (\n",
    "    df_raw\n",
    "    .loc[:, ['dao_id', 'member_address', 'slug']]\n",
    "    .nunique()\n",
    "    .to_frame('distinct N')\n",
    "    .T\n",
    ")\n",
    "df_N.columns = ['DAO', 'top voter', 'NFT']\n",
    "df_N.pipe(display)"
   ]
  },
  {
   "cell_type": "code",
   "execution_count": 48,
   "id": "6bd81089-4f8b-486b-bd60-9db0132faa65",
   "metadata": {},
   "outputs": [
    {
     "data": {
      "text/html": [
       "<div>\n",
       "<style scoped>\n",
       "    .dataframe tbody tr th:only-of-type {\n",
       "        vertical-align: middle;\n",
       "    }\n",
       "\n",
       "    .dataframe tbody tr th {\n",
       "        vertical-align: top;\n",
       "    }\n",
       "\n",
       "    .dataframe thead th {\n",
       "        text-align: right;\n",
       "    }\n",
       "</style>\n",
       "<table border=\"1\" class=\"dataframe\">\n",
       "  <thead>\n",
       "    <tr style=\"text-align: right;\">\n",
       "      <th></th>\n",
       "      <th>N_nft_kinds</th>\n",
       "      <th>N_nft_quantity</th>\n",
       "    </tr>\n",
       "    <tr>\n",
       "      <th>member_address</th>\n",
       "      <th></th>\n",
       "      <th></th>\n",
       "    </tr>\n",
       "  </thead>\n",
       "  <tbody>\n",
       "    <tr>\n",
       "      <th>0x000000de5f9e90ce604da5fd78acd6fae789ecca</th>\n",
       "      <td>3</td>\n",
       "      <td>7.0</td>\n",
       "    </tr>\n",
       "    <tr>\n",
       "      <th>0x00029d35cb7ae09d38037355a046791d7b5e1645</th>\n",
       "      <td>44</td>\n",
       "      <td>147.0</td>\n",
       "    </tr>\n",
       "    <tr>\n",
       "      <th>0x00290ffc9e9d19bda7b25c6e44d8adf55dfbf2dd</th>\n",
       "      <td>46</td>\n",
       "      <td>2132.0</td>\n",
       "    </tr>\n",
       "    <tr>\n",
       "      <th>0x0031ce5920cbe1e600113d14ca06ac6596fe7466</th>\n",
       "      <td>2</td>\n",
       "      <td>3.0</td>\n",
       "    </tr>\n",
       "    <tr>\n",
       "      <th>0x00320c624958997f6d8ec1d130a436e87a1f0b0e</th>\n",
       "      <td>1</td>\n",
       "      <td>1.0</td>\n",
       "    </tr>\n",
       "  </tbody>\n",
       "</table>\n",
       "</div>"
      ],
      "text/plain": [
       "                                            N_nft_kinds  N_nft_quantity\n",
       "member_address                                                         \n",
       "0x000000de5f9e90ce604da5fd78acd6fae789ecca            3             7.0\n",
       "0x00029d35cb7ae09d38037355a046791d7b5e1645           44           147.0\n",
       "0x00290ffc9e9d19bda7b25c6e44d8adf55dfbf2dd           46          2132.0\n",
       "0x0031ce5920cbe1e600113d14ca06ac6596fe7466            2             3.0\n",
       "0x00320c624958997f6d8ec1d130a436e87a1f0b0e            1             1.0"
      ]
     },
     "execution_count": 48,
     "metadata": {},
     "output_type": "execute_result"
    }
   ],
   "source": [
    "df_voter = (\n",
    "    df_raw\n",
    "    .groupby('member_address')\n",
    "    .agg(\n",
    "        N_nft_kinds = ('slug', 'nunique'),\n",
    "        N_nft_quantity = ('owned_asset_count', np.sum),\n",
    "    )\n",
    ")\n",
    "df_voter.head()"
   ]
  },
  {
   "cell_type": "code",
   "execution_count": 49,
   "id": "12f51b9f-54e3-4631-82bc-e6cdc1016cd9",
   "metadata": {},
   "outputs": [
    {
     "data": {
      "text/html": [
       "<div>\n",
       "<style scoped>\n",
       "    .dataframe tbody tr th:only-of-type {\n",
       "        vertical-align: middle;\n",
       "    }\n",
       "\n",
       "    .dataframe tbody tr th {\n",
       "        vertical-align: top;\n",
       "    }\n",
       "\n",
       "    .dataframe thead th {\n",
       "        text-align: right;\n",
       "    }\n",
       "</style>\n",
       "<table border=\"1\" class=\"dataframe\">\n",
       "  <thead>\n",
       "    <tr style=\"text-align: right;\">\n",
       "      <th></th>\n",
       "      <th>N(distinct NFT)</th>\n",
       "      <th>log(Total NFT collections)</th>\n",
       "      <th>Total NFT collections</th>\n",
       "    </tr>\n",
       "  </thead>\n",
       "  <tbody>\n",
       "    <tr>\n",
       "      <th>mean</th>\n",
       "      <td>32</td>\n",
       "      <td>3.99</td>\n",
       "      <td>3.43e+72</td>\n",
       "    </tr>\n",
       "    <tr>\n",
       "      <th>std</th>\n",
       "      <td>60</td>\n",
       "      <td>6.20</td>\n",
       "      <td>2.33e+74</td>\n",
       "    </tr>\n",
       "    <tr>\n",
       "      <th>min</th>\n",
       "      <td>1</td>\n",
       "      <td>0.00</td>\n",
       "      <td>1.00e+00</td>\n",
       "    </tr>\n",
       "    <tr>\n",
       "      <th>25%</th>\n",
       "      <td>3</td>\n",
       "      <td>1.61</td>\n",
       "      <td>5.00e+00</td>\n",
       "    </tr>\n",
       "    <tr>\n",
       "      <th>50%</th>\n",
       "      <td>11</td>\n",
       "      <td>3.18</td>\n",
       "      <td>2.40e+01</td>\n",
       "    </tr>\n",
       "    <tr>\n",
       "      <th>75%</th>\n",
       "      <td>33</td>\n",
       "      <td>4.74</td>\n",
       "      <td>1.15e+02</td>\n",
       "    </tr>\n",
       "    <tr>\n",
       "      <th>max</th>\n",
       "      <td>758</td>\n",
       "      <td>175.45</td>\n",
       "      <td>1.58e+76</td>\n",
       "    </tr>\n",
       "  </tbody>\n",
       "</table>\n",
       "</div>"
      ],
      "text/plain": [
       "     N(distinct NFT) log(Total NFT collections) Total NFT collections\n",
       "mean              32                       3.99              3.43e+72\n",
       "std               60                       6.20              2.33e+74\n",
       "min                1                       0.00              1.00e+00\n",
       "25%                3                       1.61              5.00e+00\n",
       "50%               11                       3.18              2.40e+01\n",
       "75%               33                       4.74              1.15e+02\n",
       "max              758                     175.45              1.58e+76"
      ]
     },
     "metadata": {},
     "output_type": "display_data"
    }
   ],
   "source": [
    "df_voter_stats = (\n",
    "    df_voter\n",
    "    .assign(\n",
    "        N_nft_quantity_wei = lambda x: x.N_nft_quantity.div(10**18),\n",
    "        log_N_nft_quantity = lambda x: x.N_nft_quantity.map(np.log),\n",
    "    )\n",
    "    .describe()\n",
    "    .assign(\n",
    "        N_nft_quantity = lambda x: x.N_nft_quantity.map(lambda x: f'{x:.2e}'),\n",
    "        N_nft_quantity_wei = lambda x: x.N_nft_quantity_wei.map(lambda x: f'{x:.2e}'),\n",
    "        N_nft_kinds = lambda x: x.N_nft_kinds.map(lambda x: f'{x:.0f}'),\n",
    "        log_N_nft_quantity = lambda x: x.log_N_nft_quantity.map(lambda x: f'{x:.2f}'),\n",
    "    )\n",
    "    .loc[['mean', 'std', 'min', '25%', '50%', '75%', 'max'], ['N_nft_kinds', 'log_N_nft_quantity', 'N_nft_quantity']]\n",
    ")\n",
    "df_voter_stats.columns = ['N(distinct NFT)', 'log(Total NFT collections)', 'Total NFT collections']\n",
    "df_voter_stats.pipe(display)"
   ]
  },
  {
   "cell_type": "markdown",
   "id": "74bf8bfa-ee98-4d4b-96c9-996eea85ca96",
   "metadata": {},
   "source": [
    "# Focus on top N NFT collections"
   ]
  },
  {
   "cell_type": "code",
   "execution_count": 50,
   "id": "52522cb3-59be-4e86-b160-52d561817315",
   "metadata": {},
   "outputs": [
    {
     "data": {
      "text/html": [
       "<div>\n",
       "<style scoped>\n",
       "    .dataframe tbody tr th:only-of-type {\n",
       "        vertical-align: middle;\n",
       "    }\n",
       "\n",
       "    .dataframe tbody tr th {\n",
       "        vertical-align: top;\n",
       "    }\n",
       "\n",
       "    .dataframe thead th {\n",
       "        text-align: right;\n",
       "    }\n",
       "</style>\n",
       "<table border=\"1\" class=\"dataframe\">\n",
       "  <thead>\n",
       "    <tr style=\"text-align: right;\">\n",
       "      <th></th>\n",
       "      <th>owned_asset_count</th>\n",
       "    </tr>\n",
       "    <tr>\n",
       "      <th>slug</th>\n",
       "      <th></th>\n",
       "    </tr>\n",
       "  </thead>\n",
       "  <tbody>\n",
       "    <tr>\n",
       "      <th>unidentified-contract-vzooewvccc</th>\n",
       "      <td>1.579209e+76</td>\n",
       "    </tr>\n",
       "    <tr>\n",
       "      <th>unidentified-contract-cdgfjphfbh</th>\n",
       "      <td>2.278085e+38</td>\n",
       "    </tr>\n",
       "    <tr>\n",
       "      <th>unidentified-contract-kgoq4pkam0</th>\n",
       "      <td>9.709694e+23</td>\n",
       "    </tr>\n",
       "    <tr>\n",
       "      <th>unidentified-contract-ytlksgcesz</th>\n",
       "      <td>7.281004e+23</td>\n",
       "    </tr>\n",
       "    <tr>\n",
       "      <th>unidentified-contract-kj63urtefs</th>\n",
       "      <td>5.053004e+22</td>\n",
       "    </tr>\n",
       "    <tr>\n",
       "      <th>...</th>\n",
       "      <td>...</td>\n",
       "    </tr>\n",
       "    <tr>\n",
       "      <th>friedguyz</th>\n",
       "      <td>1.000000e+00</td>\n",
       "    </tr>\n",
       "    <tr>\n",
       "      <th>sudoangels-limited</th>\n",
       "      <td>1.000000e+00</td>\n",
       "    </tr>\n",
       "    <tr>\n",
       "      <th>friendly-fire-v2</th>\n",
       "      <td>1.000000e+00</td>\n",
       "    </tr>\n",
       "    <tr>\n",
       "      <th>sudo-rm-rf</th>\n",
       "      <td>1.000000e+00</td>\n",
       "    </tr>\n",
       "    <tr>\n",
       "      <th>femversenft</th>\n",
       "      <td>1.000000e+00</td>\n",
       "    </tr>\n",
       "  </tbody>\n",
       "</table>\n",
       "<p>28446 rows × 1 columns</p>\n",
       "</div>"
      ],
      "text/plain": [
       "                                  owned_asset_count\n",
       "slug                                               \n",
       "unidentified-contract-vzooewvccc       1.579209e+76\n",
       "unidentified-contract-cdgfjphfbh       2.278085e+38\n",
       "unidentified-contract-kgoq4pkam0       9.709694e+23\n",
       "unidentified-contract-ytlksgcesz       7.281004e+23\n",
       "unidentified-contract-kj63urtefs       5.053004e+22\n",
       "...                                             ...\n",
       "friedguyz                              1.000000e+00\n",
       "sudoangels-limited                     1.000000e+00\n",
       "friendly-fire-v2                       1.000000e+00\n",
       "sudo-rm-rf                             1.000000e+00\n",
       "femversenft                            1.000000e+00\n",
       "\n",
       "[28446 rows x 1 columns]"
      ]
     },
     "metadata": {},
     "output_type": "display_data"
    },
    {
     "name": "stdout",
     "output_type": "stream",
     "text": [
      "<class 'pandas.core.frame.DataFrame'>\n",
      "Int64Index: 68 entries, 165 to 187152\n",
      "Data columns (total 5 columns):\n",
      " #   Column             Non-Null Count  Dtype  \n",
      "---  ------             --------------  -----  \n",
      " 0   dao_id             68 non-null     object \n",
      " 1   member_address     68 non-null     object \n",
      " 2   slug               68 non-null     object \n",
      " 3   owned_asset_count  68 non-null     float64\n",
      " 4   dao_name           68 non-null     object \n",
      "dtypes: float64(1), object(4)\n",
      "memory usage: 3.2+ KB\n"
     ]
    }
   ],
   "source": [
    "top_N = 20\n",
    "\n",
    "slug = (\n",
    "    df_raw\n",
    "    .groupby('slug')\n",
    "    .owned_asset_count.sum()\n",
    "    .sort_values(ascending = False)\n",
    "    .to_frame()\n",
    ")\n",
    "slug.pipe(display)\n",
    "\n",
    "slug_top = slug.head(top_N).index.tolist()\n",
    "df = df_raw.loc[lambda x: x.slug.isin(slug_top)]\n",
    "df.info()"
   ]
  },
  {
   "cell_type": "markdown",
   "id": "a37341fb-c2e8-4810-8975-c7bae9225c38",
   "metadata": {},
   "source": [
    "# Data for network visualization\n",
    "- Source\n",
    "- Target\n",
    "- weight"
   ]
  },
  {
   "cell_type": "code",
   "execution_count": 51,
   "id": "b72aadd9-c0e6-4917-94fc-3cac91e36d20",
   "metadata": {},
   "outputs": [],
   "source": [
    "from itertools import permutations\n",
    "from tqdm import tqdm\n",
    "import networkx as nx\n",
    "from pyvis.network import Network\n",
    "import io, pickle"
   ]
  },
  {
   "cell_type": "code",
   "execution_count": 52,
   "id": "08a6b751-457e-4464-a7e0-8a84d51d57f6",
   "metadata": {},
   "outputs": [],
   "source": [
    "dir_path = 'vis'"
   ]
  },
  {
   "cell_type": "markdown",
   "id": "e4188b3f-0947-47b7-adf2-1d1834316b49",
   "metadata": {},
   "source": [
    "# DAO network"
   ]
  },
  {
   "cell_type": "code",
   "execution_count": 63,
   "id": "182d8324-687e-4d9e-9669-ac4cd67fd514",
   "metadata": {},
   "outputs": [
    {
     "name": "stderr",
     "output_type": "stream",
     "text": [
      "100%|██████████| 20/20 [00:00<00:00, 1760.72it/s]\n"
     ]
    }
   ],
   "source": [
    "network_dao = {}\n",
    "for grp, df_grp in tqdm(df.groupby('slug')):\n",
    "    for p in permutations(sorted(df_grp.dao_name.unique()), 2):\n",
    "        if p not in network_dao:\n",
    "            network_dao[p] = 0\n",
    "        network_dao[p] += 1"
   ]
  },
  {
   "cell_type": "code",
   "execution_count": 64,
   "id": "f7ec95f9-f556-4881-82fd-49748eeb1960",
   "metadata": {},
   "outputs": [],
   "source": [
    "df_network_dao = pd.DataFrame([{'Source': source, 'Target': target, 'weight': weight} for (source, target), weight in network_dao.items()])\n",
    "df_network_dao.to_csv(f'{dir_path}/vis_network_dao.csv', index = False)"
   ]
  },
  {
   "cell_type": "code",
   "execution_count": 65,
   "id": "16cea0e0-2b67-460d-9abc-11a9de8c9119",
   "metadata": {},
   "outputs": [
    {
     "name": "stdout",
     "output_type": "stream",
     "text": [
      "<class 'pandas.core.frame.DataFrame'>\n",
      "RangeIndex: 710 entries, 0 to 709\n",
      "Data columns (total 3 columns):\n",
      " #   Column  Non-Null Count  Dtype \n",
      "---  ------  --------------  ----- \n",
      " 0   Source  710 non-null    object\n",
      " 1   Target  710 non-null    object\n",
      " 2   weight  710 non-null    int64 \n",
      "dtypes: int64(1), object(2)\n",
      "memory usage: 16.8+ KB\n"
     ]
    },
    {
     "data": {
      "text/html": [
       "<div>\n",
       "<style scoped>\n",
       "    .dataframe tbody tr th:only-of-type {\n",
       "        vertical-align: middle;\n",
       "    }\n",
       "\n",
       "    .dataframe tbody tr th {\n",
       "        vertical-align: top;\n",
       "    }\n",
       "\n",
       "    .dataframe thead th {\n",
       "        text-align: right;\n",
       "    }\n",
       "</style>\n",
       "<table border=\"1\" class=\"dataframe\">\n",
       "  <thead>\n",
       "    <tr style=\"text-align: right;\">\n",
       "      <th></th>\n",
       "      <th>Source</th>\n",
       "      <th>Target</th>\n",
       "      <th>weight</th>\n",
       "    </tr>\n",
       "  </thead>\n",
       "  <tbody>\n",
       "    <tr>\n",
       "      <th>0</th>\n",
       "      <td>Aavegotchi</td>\n",
       "      <td>Ampleforth</td>\n",
       "      <td>1</td>\n",
       "    </tr>\n",
       "    <tr>\n",
       "      <th>1</th>\n",
       "      <td>Aavegotchi</td>\n",
       "      <td>Balancer</td>\n",
       "      <td>1</td>\n",
       "    </tr>\n",
       "    <tr>\n",
       "      <th>2</th>\n",
       "      <td>Aavegotchi</td>\n",
       "      <td>Cryptex</td>\n",
       "      <td>1</td>\n",
       "    </tr>\n",
       "    <tr>\n",
       "      <th>3</th>\n",
       "      <td>Aavegotchi</td>\n",
       "      <td>DAOhaus Second Story CCO</td>\n",
       "      <td>1</td>\n",
       "    </tr>\n",
       "    <tr>\n",
       "      <th>4</th>\n",
       "      <td>Aavegotchi</td>\n",
       "      <td>Dope Wars</td>\n",
       "      <td>1</td>\n",
       "    </tr>\n",
       "  </tbody>\n",
       "</table>\n",
       "</div>"
      ],
      "text/plain": [
       "       Source                    Target  weight\n",
       "0  Aavegotchi                Ampleforth       1\n",
       "1  Aavegotchi                  Balancer       1\n",
       "2  Aavegotchi                   Cryptex       1\n",
       "3  Aavegotchi  DAOhaus Second Story CCO       1\n",
       "4  Aavegotchi                 Dope Wars       1"
      ]
     },
     "metadata": {},
     "output_type": "display_data"
    },
    {
     "data": {
      "text/html": [
       "<div>\n",
       "<style scoped>\n",
       "    .dataframe tbody tr th:only-of-type {\n",
       "        vertical-align: middle;\n",
       "    }\n",
       "\n",
       "    .dataframe tbody tr th {\n",
       "        vertical-align: top;\n",
       "    }\n",
       "\n",
       "    .dataframe thead th {\n",
       "        text-align: right;\n",
       "    }\n",
       "</style>\n",
       "<table border=\"1\" class=\"dataframe\">\n",
       "  <thead>\n",
       "    <tr style=\"text-align: right;\">\n",
       "      <th></th>\n",
       "      <th>counts</th>\n",
       "    </tr>\n",
       "  </thead>\n",
       "  <tbody>\n",
       "    <tr>\n",
       "      <th>1</th>\n",
       "      <td>704</td>\n",
       "    </tr>\n",
       "    <tr>\n",
       "      <th>2</th>\n",
       "      <td>6</td>\n",
       "    </tr>\n",
       "  </tbody>\n",
       "</table>\n",
       "</div>"
      ],
      "text/plain": [
       "   counts\n",
       "1     704\n",
       "2       6"
      ]
     },
     "metadata": {},
     "output_type": "display_data"
    }
   ],
   "source": [
    "df_network_dao.info()\n",
    "df_network_dao.head().pipe(display)\n",
    "df_network_dao.weight.value_counts().to_frame('counts').pipe(display)"
   ]
  },
  {
   "cell_type": "code",
   "execution_count": 66,
   "id": "046565e0-81cc-4185-a7a1-967c8ae67a35",
   "metadata": {},
   "outputs": [],
   "source": [
    "G_dao = nx.from_pandas_edgelist(\n",
    "    df_network_dao, \n",
    "    source='Source', \n",
    "    target='Target',\n",
    "    edge_attr='weight')\n",
    "\n",
    "with io.open(f'{dir_path}/gragh_dao.nx', mode = 'wb') as f:\n",
    "    pickle.dump(G_dao, f)"
   ]
  },
  {
   "cell_type": "code",
   "execution_count": 72,
   "id": "e619ab10-0a09-4ba9-9fe2-a1f047e5995c",
   "metadata": {},
   "outputs": [
    {
     "name": "stdout",
     "output_type": "stream",
     "text": [
      "Local cdn resources have problems on chrome/safari when used in jupyter-notebook. \n"
     ]
    },
    {
     "data": {
      "text/html": [
       "\n",
       "        <iframe\n",
       "            width=\"100%\"\n",
       "            height=\"600px\"\n",
       "            src=\"vis/pyvis_nx_dao.html\"\n",
       "            frameborder=\"0\"\n",
       "            allowfullscreen\n",
       "        ></iframe>\n",
       "        "
      ],
      "text/plain": [
       "<IPython.lib.display.IFrame at 0x7fdb3712f350>"
      ]
     },
     "execution_count": 72,
     "metadata": {},
     "output_type": "execute_result"
    }
   ],
   "source": [
    "net_dao = Network(height='1200px', width='100%', notebook = True)\n",
    "net_dao.repulsion()\n",
    "net_dao.from_nx(G_dao)\n",
    "net_dao.show(f'{dir_path}/pyvis_nx_dao.html')"
   ]
  },
  {
   "cell_type": "markdown",
   "id": "b71b0e89-d8c1-4cfe-83d9-a841ec234093",
   "metadata": {},
   "source": [
    "# Voter network"
   ]
  },
  {
   "cell_type": "code",
   "execution_count": 58,
   "id": "82cf4d8e-101c-450c-b412-538da5fd70d7",
   "metadata": {},
   "outputs": [
    {
     "name": "stderr",
     "output_type": "stream",
     "text": [
      "100%|██████████| 20/20 [00:00<00:00, 1970.04it/s]\n"
     ]
    }
   ],
   "source": [
    "network_voters = {}\n",
    "for grp, df_grp in tqdm(df.groupby('slug')):\n",
    "    for p in permutations(sorted(df_grp.member_address.unique()), 2):\n",
    "        if p not in network_voters:\n",
    "            network_voters[p] = 0\n",
    "        network_voters[p] += 1"
   ]
  },
  {
   "cell_type": "code",
   "execution_count": 59,
   "id": "db080f0e-2d92-4926-a34e-fd24eb451e06",
   "metadata": {},
   "outputs": [],
   "source": [
    "df_network_voter = pd.DataFrame([{'Source': source, 'Target': target, 'weight': weight} for (source, target), weight in network_voters.items()])\n",
    "df_network_voter.to_csv(f'{dir_path}/vis_network_voter.csv', index = False)"
   ]
  },
  {
   "cell_type": "code",
   "execution_count": 60,
   "id": "7ad44e0c-ad93-4079-b9b5-07963ae02b99",
   "metadata": {
    "jupyter": {
     "source_hidden": true
    },
    "tags": []
   },
   "outputs": [],
   "source": [
    "# network_voters = {}\n",
    "# for grp, df_grp in tqdm(df.groupby('slug')):\n",
    "#     for p in permutations(sorted(df_grp.member_address.unique()), 2):\n",
    "#         if p not in network_voters:\n",
    "#             network_voters[p] = [0, '']\n",
    "#         network_voters[p][0] += 1\n",
    "#         network_voters[p][1] = grp\n",
    "\n",
    "# df_network_voter = pd.DataFrame([{'Source': source, 'Target': target, 'weight': weight, 'slug': slug} for (source, target), (weight, slug) in network_voters.items()])\n",
    "\n",
    "# # add colors\n",
    "# colors = ['b', 'g', 'r', 'c', 'm', 'y', 'k']\n",
    "# color_map = dict(zip(df_network_voter.slug.unique(), colors))\n",
    "# df_network_voter['color'] = df_network_voter.slug.map(lambda x: color_map[x])\n",
    "\n",
    "# df_network_voter.to_csv(f'{dir_path}/vis_network_voter.csv', index = False)"
   ]
  },
  {
   "cell_type": "code",
   "execution_count": 61,
   "id": "5561f7a2-1577-4674-a090-761d76504b69",
   "metadata": {},
   "outputs": [
    {
     "name": "stdout",
     "output_type": "stream",
     "text": [
      "<class 'pandas.core.frame.DataFrame'>\n",
      "RangeIndex: 320 entries, 0 to 319\n",
      "Data columns (total 3 columns):\n",
      " #   Column  Non-Null Count  Dtype \n",
      "---  ------  --------------  ----- \n",
      " 0   Source  320 non-null    object\n",
      " 1   Target  320 non-null    object\n",
      " 2   weight  320 non-null    int64 \n",
      "dtypes: int64(1), object(2)\n",
      "memory usage: 7.6+ KB\n"
     ]
    },
    {
     "data": {
      "text/html": [
       "<div>\n",
       "<style scoped>\n",
       "    .dataframe tbody tr th:only-of-type {\n",
       "        vertical-align: middle;\n",
       "    }\n",
       "\n",
       "    .dataframe tbody tr th {\n",
       "        vertical-align: top;\n",
       "    }\n",
       "\n",
       "    .dataframe thead th {\n",
       "        text-align: right;\n",
       "    }\n",
       "</style>\n",
       "<table border=\"1\" class=\"dataframe\">\n",
       "  <thead>\n",
       "    <tr style=\"text-align: right;\">\n",
       "      <th></th>\n",
       "      <th>Source</th>\n",
       "      <th>Target</th>\n",
       "      <th>weight</th>\n",
       "    </tr>\n",
       "  </thead>\n",
       "  <tbody>\n",
       "    <tr>\n",
       "      <th>0</th>\n",
       "      <td>0x0998160bdf3ff6d86a4e9d5c31e0efc3ca7e7d01</td>\n",
       "      <td>0x14bdfda5b5b829f14332a52c15129386284ce36a</td>\n",
       "      <td>1</td>\n",
       "    </tr>\n",
       "    <tr>\n",
       "      <th>1</th>\n",
       "      <td>0x0998160bdf3ff6d86a4e9d5c31e0efc3ca7e7d01</td>\n",
       "      <td>0x194f0fe6d4dfbf198868b1b507cd74122fbfebcc</td>\n",
       "      <td>1</td>\n",
       "    </tr>\n",
       "    <tr>\n",
       "      <th>2</th>\n",
       "      <td>0x0998160bdf3ff6d86a4e9d5c31e0efc3ca7e7d01</td>\n",
       "      <td>0x1ca48a32482ef29708e95f248e8a613f05782ed3</td>\n",
       "      <td>1</td>\n",
       "    </tr>\n",
       "    <tr>\n",
       "      <th>3</th>\n",
       "      <td>0x0998160bdf3ff6d86a4e9d5c31e0efc3ca7e7d01</td>\n",
       "      <td>0x24e6d835f23b9716af984f6604625c6b074015cd</td>\n",
       "      <td>1</td>\n",
       "    </tr>\n",
       "    <tr>\n",
       "      <th>4</th>\n",
       "      <td>0x0998160bdf3ff6d86a4e9d5c31e0efc3ca7e7d01</td>\n",
       "      <td>0x4194ce73ac3fbbece8ffa878c2b5a8c90333e724</td>\n",
       "      <td>1</td>\n",
       "    </tr>\n",
       "  </tbody>\n",
       "</table>\n",
       "</div>"
      ],
      "text/plain": [
       "                                       Source  \\\n",
       "0  0x0998160bdf3ff6d86a4e9d5c31e0efc3ca7e7d01   \n",
       "1  0x0998160bdf3ff6d86a4e9d5c31e0efc3ca7e7d01   \n",
       "2  0x0998160bdf3ff6d86a4e9d5c31e0efc3ca7e7d01   \n",
       "3  0x0998160bdf3ff6d86a4e9d5c31e0efc3ca7e7d01   \n",
       "4  0x0998160bdf3ff6d86a4e9d5c31e0efc3ca7e7d01   \n",
       "\n",
       "                                       Target  weight  \n",
       "0  0x14bdfda5b5b829f14332a52c15129386284ce36a       1  \n",
       "1  0x194f0fe6d4dfbf198868b1b507cd74122fbfebcc       1  \n",
       "2  0x1ca48a32482ef29708e95f248e8a613f05782ed3       1  \n",
       "3  0x24e6d835f23b9716af984f6604625c6b074015cd       1  \n",
       "4  0x4194ce73ac3fbbece8ffa878c2b5a8c90333e724       1  "
      ]
     },
     "metadata": {},
     "output_type": "display_data"
    },
    {
     "data": {
      "text/html": [
       "<div>\n",
       "<style scoped>\n",
       "    .dataframe tbody tr th:only-of-type {\n",
       "        vertical-align: middle;\n",
       "    }\n",
       "\n",
       "    .dataframe tbody tr th {\n",
       "        vertical-align: top;\n",
       "    }\n",
       "\n",
       "    .dataframe thead th {\n",
       "        text-align: right;\n",
       "    }\n",
       "</style>\n",
       "<table border=\"1\" class=\"dataframe\">\n",
       "  <thead>\n",
       "    <tr style=\"text-align: right;\">\n",
       "      <th></th>\n",
       "      <th>counts</th>\n",
       "    </tr>\n",
       "  </thead>\n",
       "  <tbody>\n",
       "    <tr>\n",
       "      <th>1</th>\n",
       "      <td>320</td>\n",
       "    </tr>\n",
       "  </tbody>\n",
       "</table>\n",
       "</div>"
      ],
      "text/plain": [
       "   counts\n",
       "1     320"
      ]
     },
     "metadata": {},
     "output_type": "display_data"
    }
   ],
   "source": [
    "df_network_voter.info()\n",
    "df_network_voter.head().pipe(display)\n",
    "df_network_voter.weight.value_counts().to_frame('counts').pipe(display)"
   ]
  },
  {
   "cell_type": "code",
   "execution_count": 62,
   "id": "337d7698-2b1a-4607-8808-c567304a2645",
   "metadata": {},
   "outputs": [],
   "source": [
    "G_voter = nx.from_pandas_edgelist(\n",
    "    df_network_voter, \n",
    "    source='Source', \n",
    "    target='Target',\n",
    "    edge_attr=True)\n",
    "\n",
    "with io.open(f'{dir_path}/gragh_voter.nx', mode = 'wb') as f:\n",
    "    pickle.dump(G_voter, f)"
   ]
  },
  {
   "cell_type": "code",
   "execution_count": 73,
   "id": "07c94af1-d7d3-4a2b-8bfa-39be12b62ba6",
   "metadata": {},
   "outputs": [
    {
     "name": "stdout",
     "output_type": "stream",
     "text": [
      "Local cdn resources have problems on chrome/safari when used in jupyter-notebook. \n"
     ]
    },
    {
     "data": {
      "text/html": [
       "\n",
       "        <iframe\n",
       "            width=\"100%\"\n",
       "            height=\"600px\"\n",
       "            src=\"vis/pyvis_nx_voter.html\"\n",
       "            frameborder=\"0\"\n",
       "            allowfullscreen\n",
       "        ></iframe>\n",
       "        "
      ],
      "text/plain": [
       "<IPython.lib.display.IFrame at 0x7fdb379ca650>"
      ]
     },
     "execution_count": 73,
     "metadata": {},
     "output_type": "execute_result"
    }
   ],
   "source": [
    "net_voter =  Network(height='1200px', width='100%', notebook = True)\n",
    "net_voter.repulsion()\n",
    "net_voter.from_nx(G_voter)\n",
    "net_voter.show(f'{dir_path}/pyvis_nx_voter.html')"
   ]
  },
  {
   "cell_type": "markdown",
   "id": "16492603-88c1-4b39-85c3-5b9b94812136",
   "metadata": {},
   "source": [
    "# additional data"
   ]
  },
  {
   "cell_type": "code",
   "execution_count": 75,
   "id": "e4313dc4-0d74-4159-ad47-14ea2d5da0ec",
   "metadata": {},
   "outputs": [
    {
     "name": "stderr",
     "output_type": "stream",
     "text": [
      "/opt/anaconda3/lib/python3.7/site-packages/IPython/core/interactiveshell.py:3331: DtypeWarning: Columns (0,1,2,4,6,8,9,10,14,15,20) have mixed types.Specify dtype option on import or set low_memory=False.\n",
      "  exec(code_obj, self.user_global_ns, self.user_ns)\n"
     ]
    },
    {
     "name": "stdout",
     "output_type": "stream",
     "text": [
      "<class 'pandas.core.frame.DataFrame'>\n",
      "RangeIndex: 6071027 entries, 0 to 6071026\n",
      "Data columns (total 24 columns):\n",
      " #   Column                    Dtype  \n",
      "---  ------                    -----  \n",
      " 0   Smart_contract            object \n",
      " 1   ID_token                  object \n",
      " 2   Transaction_hash          object \n",
      " 3   Seller_address            object \n",
      " 4   Seller_username           object \n",
      " 5   Buyer_address             object \n",
      " 6   Buyer_username            object \n",
      " 7   Image_url_1               object \n",
      " 8   Image_url_2               object \n",
      " 9   Image_url_3               object \n",
      " 10  Image_url_4               object \n",
      " 11  Price_Crypto              float64\n",
      " 12  Crypto                    object \n",
      " 13  Price_USD                 float64\n",
      " 14  Name                      object \n",
      " 15  Description               object \n",
      " 16  Collection                object \n",
      " 17  Market                    object \n",
      " 18  Datetime_updated          object \n",
      " 19  Datetime_updated_seconds  object \n",
      " 20  Permanent_link            object \n",
      " 21  Unique_id_collection      object \n",
      " 22  Collection_cleaned        object \n",
      " 23  Category                  object \n",
      "dtypes: float64(2), object(22)\n",
      "memory usage: 1.1+ GB\n"
     ]
    }
   ],
   "source": [
    "df_nft = pd.read_csv('data/Data_API.csv')\n",
    "df_nft.info()"
   ]
  },
  {
   "cell_type": "code",
   "execution_count": null,
   "id": "2b24057a-71ea-4c80-9060-3f793486c120",
   "metadata": {},
   "outputs": [],
   "source": [
    "(\n",
    "    df_nft\n",
    "    .describe()\n",
    "    .round(2)\n",
    ")"
   ]
  },
  {
   "cell_type": "code",
   "execution_count": null,
   "id": "8f7cfacb-3994-494b-9146-494152b76fab",
   "metadata": {},
   "outputs": [],
   "source": [
    "df_data_nunique = (\n",
    "    df_nft\n",
    "    .loc[:, [\n",
    "        'Smart_contract',\n",
    "        'ID_token',\n",
    "        'Transaction_hash',\n",
    "        'Seller_address',\n",
    "        'Seller_username',\n",
    "        'Buyer_address',\n",
    "        'Buyer_username',\n",
    "        'Image_url_1',\n",
    "        'Image_url_2',\n",
    "        'Image_url_3',\n",
    "        'Image_url_4',\n",
    "        # 'Price_Crypto',\n",
    "        'Crypto',\n",
    "        # 'Price_USD',\n",
    "        'Name',\n",
    "        'Description',\n",
    "        'Collection',\n",
    "        'Market',\n",
    "        'Datetime_updated',\n",
    "        'Datetime_updated_seconds',\n",
    "        'Permanent_link',\n",
    "        'Unique_id_collection',\n",
    "        'Collection_cleaned',\n",
    "        'Category']]\n",
    "    .value_counts()\n",
    ")"
   ]
  },
  {
   "cell_type": "code",
   "execution_count": null,
   "id": "4160bc83-5a74-4be7-b58b-6d62ca2b4e1f",
   "metadata": {},
   "outputs": [],
   "source": [
    "df_data_nunique"
   ]
  }
 ],
 "metadata": {
  "kernelspec": {
   "display_name": "Python 3",
   "language": "python",
   "name": "python3"
  },
  "language_info": {
   "codemirror_mode": {
    "name": "ipython",
    "version": 3
   },
   "file_extension": ".py",
   "mimetype": "text/x-python",
   "name": "python",
   "nbconvert_exporter": "python",
   "pygments_lexer": "ipython3",
   "version": "3.7.6"
  }
 },
 "nbformat": 4,
 "nbformat_minor": 5
}
