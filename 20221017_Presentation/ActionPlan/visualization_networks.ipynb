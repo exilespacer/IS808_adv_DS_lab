{
 "cells": [
  {
   "cell_type": "code",
   "execution_count": 1,
   "id": "fa3d48ac-c39f-414d-b1b8-ddcf721e8725",
   "metadata": {},
   "outputs": [],
   "source": [
    "%load_ext autoreload\n",
    "%autoreload 2"
   ]
  },
  {
   "cell_type": "code",
   "execution_count": 2,
   "id": "295700ef-59ec-4333-860b-36db2d556142",
   "metadata": {},
   "outputs": [],
   "source": [
    "%matplotlib inline"
   ]
  },
  {
   "cell_type": "code",
   "execution_count": 3,
   "id": "927eb9d3-33b1-450d-b221-692062952b84",
   "metadata": {},
   "outputs": [],
   "source": [
    "import numpy as np\n",
    "import pandas as pd"
   ]
  },
  {
   "cell_type": "code",
   "execution_count": 32,
   "id": "b738bdb0-0eeb-47cc-be2b-4e6fca51387e",
   "metadata": {},
   "outputs": [
    {
     "name": "stdout",
     "output_type": "stream",
     "text": [
      "<class 'pandas.core.frame.DataFrame'>\n",
      "RangeIndex: 188512 entries, 0 to 188511\n",
      "Data columns (total 4 columns):\n",
      " #   Column             Non-Null Count   Dtype  \n",
      "---  ------             --------------   -----  \n",
      " 0   dao_id             188512 non-null  object \n",
      " 1   member_address     188512 non-null  object \n",
      " 2   slug               188512 non-null  object \n",
      " 3   owned_asset_count  188512 non-null  float64\n",
      "dtypes: float64(1), object(3)\n",
      "memory usage: 5.8+ MB\n"
     ]
    },
    {
     "data": {
      "text/html": [
       "<div>\n",
       "<style scoped>\n",
       "    .dataframe tbody tr th:only-of-type {\n",
       "        vertical-align: middle;\n",
       "    }\n",
       "\n",
       "    .dataframe tbody tr th {\n",
       "        vertical-align: top;\n",
       "    }\n",
       "\n",
       "    .dataframe thead th {\n",
       "        text-align: right;\n",
       "    }\n",
       "</style>\n",
       "<table border=\"1\" class=\"dataframe\">\n",
       "  <thead>\n",
       "    <tr style=\"text-align: right;\">\n",
       "      <th></th>\n",
       "      <th>dao_id</th>\n",
       "      <th>member_address</th>\n",
       "      <th>slug</th>\n",
       "      <th>owned_asset_count</th>\n",
       "    </tr>\n",
       "  </thead>\n",
       "  <tbody>\n",
       "    <tr>\n",
       "      <th>0</th>\n",
       "      <td>ec242c8a-4667-46c6-8c51-0df6f0970970</td>\n",
       "      <td>0x9533158bb9b0abb178a9dc7f6f0168e84126688f</td>\n",
       "      <td>movement-daos-ascended-ape-collection</td>\n",
       "      <td>1.0</td>\n",
       "    </tr>\n",
       "    <tr>\n",
       "      <th>1</th>\n",
       "      <td>f12e8672-59e5-425e-bfd9-42f4078a3ff1</td>\n",
       "      <td>0x097c39e5e576a8706404cd0d81e05b522f5bcaff</td>\n",
       "      <td>eth-merge-v3</td>\n",
       "      <td>1.0</td>\n",
       "    </tr>\n",
       "    <tr>\n",
       "      <th>2</th>\n",
       "      <td>f12e8672-59e5-425e-bfd9-42f4078a3ff1</td>\n",
       "      <td>0x097c39e5e576a8706404cd0d81e05b522f5bcaff</td>\n",
       "      <td>grand-leisure</td>\n",
       "      <td>1.0</td>\n",
       "    </tr>\n",
       "    <tr>\n",
       "      <th>3</th>\n",
       "      <td>f12e8672-59e5-425e-bfd9-42f4078a3ff1</td>\n",
       "      <td>0x097c39e5e576a8706404cd0d81e05b522f5bcaff</td>\n",
       "      <td>re-based-ghouls-by-xwave</td>\n",
       "      <td>1.0</td>\n",
       "    </tr>\n",
       "    <tr>\n",
       "      <th>4</th>\n",
       "      <td>f12e8672-59e5-425e-bfd9-42f4078a3ff1</td>\n",
       "      <td>0x097c39e5e576a8706404cd0d81e05b522f5bcaff</td>\n",
       "      <td>based-ghouls</td>\n",
       "      <td>6.0</td>\n",
       "    </tr>\n",
       "  </tbody>\n",
       "</table>\n",
       "</div>"
      ],
      "text/plain": [
       "                                 dao_id  \\\n",
       "0  ec242c8a-4667-46c6-8c51-0df6f0970970   \n",
       "1  f12e8672-59e5-425e-bfd9-42f4078a3ff1   \n",
       "2  f12e8672-59e5-425e-bfd9-42f4078a3ff1   \n",
       "3  f12e8672-59e5-425e-bfd9-42f4078a3ff1   \n",
       "4  f12e8672-59e5-425e-bfd9-42f4078a3ff1   \n",
       "\n",
       "                               member_address  \\\n",
       "0  0x9533158bb9b0abb178a9dc7f6f0168e84126688f   \n",
       "1  0x097c39e5e576a8706404cd0d81e05b522f5bcaff   \n",
       "2  0x097c39e5e576a8706404cd0d81e05b522f5bcaff   \n",
       "3  0x097c39e5e576a8706404cd0d81e05b522f5bcaff   \n",
       "4  0x097c39e5e576a8706404cd0d81e05b522f5bcaff   \n",
       "\n",
       "                                    slug  owned_asset_count  \n",
       "0  movement-daos-ascended-ape-collection                1.0  \n",
       "1                           eth-merge-v3                1.0  \n",
       "2                          grand-leisure                1.0  \n",
       "3               re-based-ghouls-by-xwave                1.0  \n",
       "4                           based-ghouls                6.0  "
      ]
     },
     "execution_count": 32,
     "metadata": {},
     "output_type": "execute_result"
    }
   ],
   "source": [
    "df_raw = (\n",
    "    pd.read_csv('network_df.csv')\n",
    "    .assign(owned_asset_count = lambda x: x.owned_asset_count.astype(float))\n",
    ")\n",
    "df_raw.info()\n",
    "df_raw.head()"
   ]
  },
  {
   "cell_type": "code",
   "execution_count": 38,
   "id": "5eeb68f8-39e6-4337-9ced-f59293055e96",
   "metadata": {},
   "outputs": [
    {
     "data": {
      "text/html": [
       "<div>\n",
       "<style scoped>\n",
       "    .dataframe tbody tr th:only-of-type {\n",
       "        vertical-align: middle;\n",
       "    }\n",
       "\n",
       "    .dataframe tbody tr th {\n",
       "        vertical-align: top;\n",
       "    }\n",
       "\n",
       "    .dataframe thead th {\n",
       "        text-align: right;\n",
       "    }\n",
       "</style>\n",
       "<table border=\"1\" class=\"dataframe\">\n",
       "  <thead>\n",
       "    <tr style=\"text-align: right;\">\n",
       "      <th></th>\n",
       "      <th>owned_asset_count</th>\n",
       "    </tr>\n",
       "    <tr>\n",
       "      <th>slug</th>\n",
       "      <th></th>\n",
       "    </tr>\n",
       "  </thead>\n",
       "  <tbody>\n",
       "    <tr>\n",
       "      <th>unidentified-contract-vzooewvccc</th>\n",
       "      <td>1.579209e+76</td>\n",
       "    </tr>\n",
       "    <tr>\n",
       "      <th>unidentified-contract-cdgfjphfbh</th>\n",
       "      <td>2.278085e+38</td>\n",
       "    </tr>\n",
       "    <tr>\n",
       "      <th>unidentified-contract-kgoq4pkam0</th>\n",
       "      <td>9.709694e+23</td>\n",
       "    </tr>\n",
       "    <tr>\n",
       "      <th>unidentified-contract-ytlksgcesz</th>\n",
       "      <td>7.281004e+23</td>\n",
       "    </tr>\n",
       "    <tr>\n",
       "      <th>unidentified-contract-kj63urtefs</th>\n",
       "      <td>5.053004e+22</td>\n",
       "    </tr>\n",
       "    <tr>\n",
       "      <th>...</th>\n",
       "      <td>...</td>\n",
       "    </tr>\n",
       "    <tr>\n",
       "      <th>friedguyz</th>\n",
       "      <td>1.000000e+00</td>\n",
       "    </tr>\n",
       "    <tr>\n",
       "      <th>sudoangels-limited</th>\n",
       "      <td>1.000000e+00</td>\n",
       "    </tr>\n",
       "    <tr>\n",
       "      <th>friendly-fire-v2</th>\n",
       "      <td>1.000000e+00</td>\n",
       "    </tr>\n",
       "    <tr>\n",
       "      <th>sudo-rm-rf</th>\n",
       "      <td>1.000000e+00</td>\n",
       "    </tr>\n",
       "    <tr>\n",
       "      <th>femversenft</th>\n",
       "      <td>1.000000e+00</td>\n",
       "    </tr>\n",
       "  </tbody>\n",
       "</table>\n",
       "<p>28446 rows × 1 columns</p>\n",
       "</div>"
      ],
      "text/plain": [
       "                                  owned_asset_count\n",
       "slug                                               \n",
       "unidentified-contract-vzooewvccc       1.579209e+76\n",
       "unidentified-contract-cdgfjphfbh       2.278085e+38\n",
       "unidentified-contract-kgoq4pkam0       9.709694e+23\n",
       "unidentified-contract-ytlksgcesz       7.281004e+23\n",
       "unidentified-contract-kj63urtefs       5.053004e+22\n",
       "...                                             ...\n",
       "friedguyz                              1.000000e+00\n",
       "sudoangels-limited                     1.000000e+00\n",
       "friendly-fire-v2                       1.000000e+00\n",
       "sudo-rm-rf                             1.000000e+00\n",
       "femversenft                            1.000000e+00\n",
       "\n",
       "[28446 rows x 1 columns]"
      ]
     },
     "execution_count": 38,
     "metadata": {},
     "output_type": "execute_result"
    }
   ],
   "source": [
    "slug = (\n",
    "    df_raw\n",
    "    .groupby('slug')\n",
    "    .owned_asset_count.sum()\n",
    "    .sort_values(ascending = False)\n",
    "    .to_frame()\n",
    ")\n",
    "slug"
   ]
  },
  {
   "cell_type": "code",
   "execution_count": 52,
   "id": "52522cb3-59be-4e86-b160-52d561817315",
   "metadata": {},
   "outputs": [
    {
     "name": "stdout",
     "output_type": "stream",
     "text": [
      "<class 'pandas.core.frame.DataFrame'>\n",
      "Int64Index: 68 entries, 165 to 187152\n",
      "Data columns (total 4 columns):\n",
      " #   Column             Non-Null Count  Dtype  \n",
      "---  ------             --------------  -----  \n",
      " 0   dao_id             68 non-null     object \n",
      " 1   member_address     68 non-null     object \n",
      " 2   slug               68 non-null     object \n",
      " 3   owned_asset_count  68 non-null     float64\n",
      "dtypes: float64(1), object(3)\n",
      "memory usage: 2.7+ KB\n"
     ]
    }
   ],
   "source": [
    "top_N = 20\n",
    "slug_top = slug.head(top_N).index.tolist()\n",
    "df = df_raw.loc[lambda x: x.slug.isin(slug_top)]\n",
    "df.info()"
   ]
  },
  {
   "cell_type": "markdown",
   "id": "a37341fb-c2e8-4810-8975-c7bae9225c38",
   "metadata": {},
   "source": [
    "# Data for network visualization\n",
    "- Source\n",
    "- Target\n",
    "- weight"
   ]
  },
  {
   "cell_type": "code",
   "execution_count": 53,
   "id": "b72aadd9-c0e6-4917-94fc-3cac91e36d20",
   "metadata": {},
   "outputs": [],
   "source": [
    "from itertools import permutations\n",
    "from tqdm import tqdm\n",
    "import networkx as nx\n",
    "from pyvis.network import Network\n",
    "import io, pickle"
   ]
  },
  {
   "cell_type": "code",
   "execution_count": 54,
   "id": "08a6b751-457e-4464-a7e0-8a84d51d57f6",
   "metadata": {},
   "outputs": [],
   "source": [
    "dir_path = 'vis'"
   ]
  },
  {
   "cell_type": "markdown",
   "id": "e4188b3f-0947-47b7-adf2-1d1834316b49",
   "metadata": {},
   "source": [
    "# DAO network"
   ]
  },
  {
   "cell_type": "code",
   "execution_count": 67,
   "id": "182d8324-687e-4d9e-9669-ac4cd67fd514",
   "metadata": {},
   "outputs": [
    {
     "name": "stderr",
     "output_type": "stream",
     "text": [
      "100%|██████████| 20/20 [00:00<00:00, 2155.18it/s]\n"
     ]
    }
   ],
   "source": [
    "network_dao = {}\n",
    "for grp, df_grp in tqdm(df.groupby('slug')):\n",
    "    for p in permutations(sorted(df_grp.dao_id.unique()), 2):\n",
    "        if p not in network_dao:\n",
    "            network_dao[p] = 0\n",
    "        network_dao[p] += 1"
   ]
  },
  {
   "cell_type": "code",
   "execution_count": 68,
   "id": "f7ec95f9-f556-4881-82fd-49748eeb1960",
   "metadata": {},
   "outputs": [],
   "source": [
    "df_network_dao = pd.DataFrame([{'Source': source, 'Target': target, 'weight': weight} for (source, target), weight in network_dao.items()])\n",
    "df_network_dao.to_csv(f'{dir_path}/vis_network_dao.csv', index = False)"
   ]
  },
  {
   "cell_type": "code",
   "execution_count": 69,
   "id": "16cea0e0-2b67-460d-9abc-11a9de8c9119",
   "metadata": {},
   "outputs": [
    {
     "name": "stdout",
     "output_type": "stream",
     "text": [
      "<class 'pandas.core.frame.DataFrame'>\n",
      "RangeIndex: 710 entries, 0 to 709\n",
      "Data columns (total 3 columns):\n",
      " #   Column  Non-Null Count  Dtype \n",
      "---  ------  --------------  ----- \n",
      " 0   Source  710 non-null    object\n",
      " 1   Target  710 non-null    object\n",
      " 2   weight  710 non-null    int64 \n",
      "dtypes: int64(1), object(2)\n",
      "memory usage: 16.8+ KB\n"
     ]
    },
    {
     "data": {
      "text/html": [
       "<div>\n",
       "<style scoped>\n",
       "    .dataframe tbody tr th:only-of-type {\n",
       "        vertical-align: middle;\n",
       "    }\n",
       "\n",
       "    .dataframe tbody tr th {\n",
       "        vertical-align: top;\n",
       "    }\n",
       "\n",
       "    .dataframe thead th {\n",
       "        text-align: right;\n",
       "    }\n",
       "</style>\n",
       "<table border=\"1\" class=\"dataframe\">\n",
       "  <thead>\n",
       "    <tr style=\"text-align: right;\">\n",
       "      <th></th>\n",
       "      <th>Source</th>\n",
       "      <th>Target</th>\n",
       "      <th>weight</th>\n",
       "    </tr>\n",
       "  </thead>\n",
       "  <tbody>\n",
       "    <tr>\n",
       "      <th>0</th>\n",
       "      <td>0519572c-483c-4d6e-ac6d-28eda3ea1aff</td>\n",
       "      <td>11eb10d7-6493-4cfc-8255-cb0f2338fa67</td>\n",
       "      <td>1</td>\n",
       "    </tr>\n",
       "    <tr>\n",
       "      <th>1</th>\n",
       "      <td>0519572c-483c-4d6e-ac6d-28eda3ea1aff</td>\n",
       "      <td>219ab5ef-9345-448b-bbf2-786a33e4edd8</td>\n",
       "      <td>1</td>\n",
       "    </tr>\n",
       "    <tr>\n",
       "      <th>2</th>\n",
       "      <td>0519572c-483c-4d6e-ac6d-28eda3ea1aff</td>\n",
       "      <td>50633191-27ac-40e3-9f52-da100c196c90</td>\n",
       "      <td>1</td>\n",
       "    </tr>\n",
       "    <tr>\n",
       "      <th>3</th>\n",
       "      <td>0519572c-483c-4d6e-ac6d-28eda3ea1aff</td>\n",
       "      <td>5c76f492-c718-4c2e-b633-c9dbac1cc331</td>\n",
       "      <td>1</td>\n",
       "    </tr>\n",
       "    <tr>\n",
       "      <th>4</th>\n",
       "      <td>0519572c-483c-4d6e-ac6d-28eda3ea1aff</td>\n",
       "      <td>67149dec-7a5d-41f4-8e68-f75446ce47a0</td>\n",
       "      <td>1</td>\n",
       "    </tr>\n",
       "  </tbody>\n",
       "</table>\n",
       "</div>"
      ],
      "text/plain": [
       "                                 Source                                Target  \\\n",
       "0  0519572c-483c-4d6e-ac6d-28eda3ea1aff  11eb10d7-6493-4cfc-8255-cb0f2338fa67   \n",
       "1  0519572c-483c-4d6e-ac6d-28eda3ea1aff  219ab5ef-9345-448b-bbf2-786a33e4edd8   \n",
       "2  0519572c-483c-4d6e-ac6d-28eda3ea1aff  50633191-27ac-40e3-9f52-da100c196c90   \n",
       "3  0519572c-483c-4d6e-ac6d-28eda3ea1aff  5c76f492-c718-4c2e-b633-c9dbac1cc331   \n",
       "4  0519572c-483c-4d6e-ac6d-28eda3ea1aff  67149dec-7a5d-41f4-8e68-f75446ce47a0   \n",
       "\n",
       "   weight  \n",
       "0       1  \n",
       "1       1  \n",
       "2       1  \n",
       "3       1  \n",
       "4       1  "
      ]
     },
     "execution_count": 69,
     "metadata": {},
     "output_type": "execute_result"
    }
   ],
   "source": [
    "df_network_dao.info()\n",
    "df_network_dao.head()"
   ]
  },
  {
   "cell_type": "code",
   "execution_count": 70,
   "id": "046565e0-81cc-4185-a7a1-967c8ae67a35",
   "metadata": {},
   "outputs": [],
   "source": [
    "G_dao = nx.from_pandas_edgelist(\n",
    "    df_network_dao, \n",
    "    source='Source', \n",
    "    target='Target',\n",
    "    edge_attr='weight')\n",
    "\n",
    "with io.open(f'{dir_path}/gragh_dao.nx', mode = 'wb') as f:\n",
    "    pickle.dump(G_dao, f)"
   ]
  },
  {
   "cell_type": "code",
   "execution_count": 71,
   "id": "e619ab10-0a09-4ba9-9fe2-a1f047e5995c",
   "metadata": {},
   "outputs": [
    {
     "name": "stdout",
     "output_type": "stream",
     "text": [
      "Local cdn resources have problems on chrome/safari when used in jupyter-notebook. \n"
     ]
    },
    {
     "data": {
      "text/html": [
       "\n",
       "        <iframe\n",
       "            width=\"100%\"\n",
       "            height=\"600px\"\n",
       "            src=\"vis/pyvis_nx_dao.html\"\n",
       "            frameborder=\"0\"\n",
       "            allowfullscreen\n",
       "        ></iframe>\n",
       "        "
      ],
      "text/plain": [
       "<IPython.lib.display.IFrame at 0x7f8ef5989910>"
      ]
     },
     "execution_count": 71,
     "metadata": {},
     "output_type": "execute_result"
    }
   ],
   "source": [
    "net_dao = Network(notebook = True)\n",
    "net_dao.from_nx(G_dao)\n",
    "net_dao.show(f'{dir_path}/pyvis_nx_dao.html')"
   ]
  },
  {
   "cell_type": "markdown",
   "id": "b71b0e89-d8c1-4cfe-83d9-a841ec234093",
   "metadata": {},
   "source": [
    "# Voter network"
   ]
  },
  {
   "cell_type": "code",
   "execution_count": 62,
   "id": "82cf4d8e-101c-450c-b412-538da5fd70d7",
   "metadata": {},
   "outputs": [
    {
     "name": "stderr",
     "output_type": "stream",
     "text": [
      "100%|██████████| 20/20 [00:00<00:00, 1253.38it/s]\n"
     ]
    }
   ],
   "source": [
    "network_voters = {}\n",
    "for grp, df_grp in tqdm(df.groupby('slug')):\n",
    "    for p in permutations(sorted(df_grp.member_address.unique()), 2):\n",
    "        if p not in network_voters:\n",
    "            network_voters[p] = 0\n",
    "        network_voters[p] += 1"
   ]
  },
  {
   "cell_type": "code",
   "execution_count": 63,
   "id": "db080f0e-2d92-4926-a34e-fd24eb451e06",
   "metadata": {},
   "outputs": [],
   "source": [
    "df_network_voter = pd.DataFrame([{'Source': source, 'Target': target, 'weight': weight} for (source, target), weight in network_voters.items()])\n",
    "df_network_voter.to_csv(f'{dir_path}/vis_network_voter.csv', index = False)"
   ]
  },
  {
   "cell_type": "code",
   "execution_count": 64,
   "id": "5561f7a2-1577-4674-a090-761d76504b69",
   "metadata": {},
   "outputs": [
    {
     "name": "stdout",
     "output_type": "stream",
     "text": [
      "<class 'pandas.core.frame.DataFrame'>\n",
      "RangeIndex: 320 entries, 0 to 319\n",
      "Data columns (total 3 columns):\n",
      " #   Column  Non-Null Count  Dtype \n",
      "---  ------  --------------  ----- \n",
      " 0   Source  320 non-null    object\n",
      " 1   Target  320 non-null    object\n",
      " 2   weight  320 non-null    int64 \n",
      "dtypes: int64(1), object(2)\n",
      "memory usage: 7.6+ KB\n"
     ]
    },
    {
     "data": {
      "text/html": [
       "<div>\n",
       "<style scoped>\n",
       "    .dataframe tbody tr th:only-of-type {\n",
       "        vertical-align: middle;\n",
       "    }\n",
       "\n",
       "    .dataframe tbody tr th {\n",
       "        vertical-align: top;\n",
       "    }\n",
       "\n",
       "    .dataframe thead th {\n",
       "        text-align: right;\n",
       "    }\n",
       "</style>\n",
       "<table border=\"1\" class=\"dataframe\">\n",
       "  <thead>\n",
       "    <tr style=\"text-align: right;\">\n",
       "      <th></th>\n",
       "      <th>Source</th>\n",
       "      <th>Target</th>\n",
       "      <th>weight</th>\n",
       "    </tr>\n",
       "  </thead>\n",
       "  <tbody>\n",
       "    <tr>\n",
       "      <th>0</th>\n",
       "      <td>0x0998160bdf3ff6d86a4e9d5c31e0efc3ca7e7d01</td>\n",
       "      <td>0x14bdfda5b5b829f14332a52c15129386284ce36a</td>\n",
       "      <td>1</td>\n",
       "    </tr>\n",
       "    <tr>\n",
       "      <th>1</th>\n",
       "      <td>0x0998160bdf3ff6d86a4e9d5c31e0efc3ca7e7d01</td>\n",
       "      <td>0x194f0fe6d4dfbf198868b1b507cd74122fbfebcc</td>\n",
       "      <td>1</td>\n",
       "    </tr>\n",
       "    <tr>\n",
       "      <th>2</th>\n",
       "      <td>0x0998160bdf3ff6d86a4e9d5c31e0efc3ca7e7d01</td>\n",
       "      <td>0x1ca48a32482ef29708e95f248e8a613f05782ed3</td>\n",
       "      <td>1</td>\n",
       "    </tr>\n",
       "    <tr>\n",
       "      <th>3</th>\n",
       "      <td>0x0998160bdf3ff6d86a4e9d5c31e0efc3ca7e7d01</td>\n",
       "      <td>0x24e6d835f23b9716af984f6604625c6b074015cd</td>\n",
       "      <td>1</td>\n",
       "    </tr>\n",
       "    <tr>\n",
       "      <th>4</th>\n",
       "      <td>0x0998160bdf3ff6d86a4e9d5c31e0efc3ca7e7d01</td>\n",
       "      <td>0x4194ce73ac3fbbece8ffa878c2b5a8c90333e724</td>\n",
       "      <td>1</td>\n",
       "    </tr>\n",
       "  </tbody>\n",
       "</table>\n",
       "</div>"
      ],
      "text/plain": [
       "                                       Source  \\\n",
       "0  0x0998160bdf3ff6d86a4e9d5c31e0efc3ca7e7d01   \n",
       "1  0x0998160bdf3ff6d86a4e9d5c31e0efc3ca7e7d01   \n",
       "2  0x0998160bdf3ff6d86a4e9d5c31e0efc3ca7e7d01   \n",
       "3  0x0998160bdf3ff6d86a4e9d5c31e0efc3ca7e7d01   \n",
       "4  0x0998160bdf3ff6d86a4e9d5c31e0efc3ca7e7d01   \n",
       "\n",
       "                                       Target  weight  \n",
       "0  0x14bdfda5b5b829f14332a52c15129386284ce36a       1  \n",
       "1  0x194f0fe6d4dfbf198868b1b507cd74122fbfebcc       1  \n",
       "2  0x1ca48a32482ef29708e95f248e8a613f05782ed3       1  \n",
       "3  0x24e6d835f23b9716af984f6604625c6b074015cd       1  \n",
       "4  0x4194ce73ac3fbbece8ffa878c2b5a8c90333e724       1  "
      ]
     },
     "execution_count": 64,
     "metadata": {},
     "output_type": "execute_result"
    }
   ],
   "source": [
    "df_network_voter.info()\n",
    "df_network_voter.head()"
   ]
  },
  {
   "cell_type": "code",
   "execution_count": 65,
   "id": "337d7698-2b1a-4607-8808-c567304a2645",
   "metadata": {},
   "outputs": [],
   "source": [
    "G_voter = nx.from_pandas_edgelist(\n",
    "    df_network_voter, \n",
    "    source='Source', \n",
    "    target='Target',\n",
    "    edge_attr='weight')\n",
    "\n",
    "with io.open(f'{dir_path}/gragh_voter.nx', mode = 'wb') as f:\n",
    "    pickle.dump(G_voter, f)"
   ]
  },
  {
   "cell_type": "code",
   "execution_count": 66,
   "id": "07c94af1-d7d3-4a2b-8bfa-39be12b62ba6",
   "metadata": {},
   "outputs": [
    {
     "name": "stdout",
     "output_type": "stream",
     "text": [
      "Local cdn resources have problems on chrome/safari when used in jupyter-notebook. \n"
     ]
    },
    {
     "data": {
      "text/html": [
       "\n",
       "        <iframe\n",
       "            width=\"100%\"\n",
       "            height=\"600px\"\n",
       "            src=\"vis/pyvis_nx_voter.html\"\n",
       "            frameborder=\"0\"\n",
       "            allowfullscreen\n",
       "        ></iframe>\n",
       "        "
      ],
      "text/plain": [
       "<IPython.lib.display.IFrame at 0x7f8eaf10ddd0>"
      ]
     },
     "execution_count": 66,
     "metadata": {},
     "output_type": "execute_result"
    }
   ],
   "source": [
    "net_voter = Network(notebook = True)\n",
    "net_voter.from_nx(G_voter)\n",
    "net_voter.show(f'{dir_path}/pyvis_nx_voter.html')"
   ]
  },
  {
   "cell_type": "code",
   "execution_count": null,
   "id": "4eb4179f-28e7-4ba9-8ceb-fe9a6f749c4a",
   "metadata": {},
   "outputs": [],
   "source": []
  }
 ],
 "metadata": {
  "kernelspec": {
   "display_name": "Python 3",
   "language": "python",
   "name": "python3"
  },
  "language_info": {
   "codemirror_mode": {
    "name": "ipython",
    "version": 3
   },
   "file_extension": ".py",
   "mimetype": "text/x-python",
   "name": "python",
   "nbconvert_exporter": "python",
   "pygments_lexer": "ipython3",
   "version": "3.7.6"
  }
 },
 "nbformat": 4,
 "nbformat_minor": 5
}
