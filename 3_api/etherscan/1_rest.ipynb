{
 "cells": [
  {
   "cell_type": "markdown",
   "metadata": {},
   "source": [
    "## Etherscan "
   ]
  },
  {
   "cell_type": "code",
   "execution_count": null,
   "metadata": {},
   "outputs": [],
   "source": [
    "import requests\n",
    "import pandas as pd\n",
    "import numpy as np\n",
    "\n",
    "\n",
    "# https://martin-thoma.com/configuration-files-in-python/\n",
    "\n",
    "import json\n",
    "\n",
    "with open(\"../../.private/keys.json\") as keys_file:\n",
    "    KEYS = json.load(keys_file)\n",
    "\n",
    "APIKEY = KEYS['ETHERSCAN']\n",
    "# Note: don't print the key, or if you do, delete the cell's output\n",
    "# (cell outputs are saved and can be sent to Github).\n"
   ]
  },
  {
   "cell_type": "markdown",
   "metadata": {},
   "source": [
    "Etherscan endpoint."
   ]
  },
  {
   "cell_type": "code",
   "execution_count": null,
   "metadata": {},
   "outputs": [],
   "source": [
    "ENDPOINT = 'https://api.etherscan.io/api'"
   ]
  },
  {
   "cell_type": "markdown",
   "metadata": {},
   "source": [
    "Here we combine the GET string directly in the URL. It's equivalent to passing the params parameter to requests."
   ]
  },
  {
   "cell_type": "code",
   "execution_count": null,
   "metadata": {},
   "outputs": [],
   "source": [
    "\n",
    "# https://datagy.io/python-requests-authentication/\n",
    "\n",
    "\n",
    "def process_args(params):\n",
    "    queryString = \"?\"\n",
    "    for p in params:\n",
    "        queryString += p.lower() + \"=\" + params[p] + \"&\"\n",
    "\n",
    "    queryString += \"apikey=\" + APIKEY\n",
    "    return queryString\n",
    "\n",
    "def api(params={}):\n",
    "\n",
    "    url = ENDPOINT + process_args(params)\n",
    "    print(url)\n",
    "    return\n",
    "\n",
    "    response = requests.get(url,\n",
    "                            headers={\n",
    "                                'accept': 'application/json',\n",
    "                                \"User-Agent\": \"\"\n",
    "                            })\n",
    "\n",
    "    print(response)\n",
    "    return response\n",
    "\n",
    "\n",
    "def etherscan(params={}):\n",
    "\n",
    "    params['apikey'] = APIKEY\n",
    "\n",
    "    response = requests.get(ENDPOINT,\n",
    "                            headers={\n",
    "                                'accept': 'application/json',\n",
    "                                \"User-Agent\": \"\"\n",
    "                            },\n",
    "                            params=params)\n",
    "\n",
    "    print(response)\n",
    "    return response.json()\n"
   ]
  },
  {
   "cell_type": "markdown",
   "metadata": {},
   "source": [
    "Some interesting addresses to look after."
   ]
  },
  {
   "cell_type": "code",
   "execution_count": null,
   "metadata": {},
   "outputs": [],
   "source": [
    "# The largest ETH holder according to: https://ethereum-whales.com/\n",
    "ADDRESS_ETH_WHALE = \"0xf584f8728b874a6a5c7a8d4d387c9aae9172d621\"\n",
    "\n",
    "## The largest ETH wallet according to: https://www.whalestats.com/\n",
    "ADDRESS_WHALEST = \"0xca8fa8f0b631ecdb18cda619c4fc9d197c8affca\""
   ]
  },
  {
   "cell_type": "code",
   "execution_count": null,
   "metadata": {},
   "outputs": [],
   "source": [
    "params = {\n",
    "    'module': 'account',\n",
    "    'action': 'balance',\n",
    "    'address': ADDRESS_ETH_WHALE\n",
    "}\n",
    "\n",
    "res = etherscan(params)"
   ]
  },
  {
   "cell_type": "code",
   "execution_count": null,
   "metadata": {},
   "outputs": [],
   "source": [
    "res # Return the raw bytes of the data payload\n"
   ]
  },
  {
   "cell_type": "markdown",
   "metadata": {},
   "source": [
    "The result is in Weis. Let's convert it.\n",
    "\n",
    "https://etherscan.io/unitconverter"
   ]
  },
  {
   "cell_type": "code",
   "execution_count": null,
   "metadata": {},
   "outputs": [],
   "source": [
    "int(res['result']) * 1e-18"
   ]
  },
  {
   "cell_type": "markdown",
   "metadata": {},
   "source": [
    "Now let's get all transactions from the address."
   ]
  },
  {
   "cell_type": "code",
   "execution_count": null,
   "metadata": {},
   "outputs": [],
   "source": [
    "params = {\n",
    "    'module': 'account',\n",
    "    'action': 'txlist',\n",
    "    'address': ADDRESS_ETH_WHALE,\n",
    "    # 'blockno': '8000000'\n",
    "}\n",
    "\n",
    "res = etherscan(params)"
   ]
  },
  {
   "cell_type": "code",
   "execution_count": null,
   "metadata": {
    "collapsed": true,
    "jupyter": {
     "outputs_hidden": true
    },
    "tags": []
   },
   "outputs": [],
   "source": [
    "res"
   ]
  },
  {
   "cell_type": "markdown",
   "metadata": {},
   "source": [
    "There exists also a package to easily interact with the Etherscan API."
   ]
  },
  {
   "cell_type": "code",
   "execution_count": null,
   "metadata": {},
   "outputs": [],
   "source": [
    "!pip install etherscan-python\n",
    "from etherscan import Etherscan\n",
    "eth = Etherscan(APIKEY)"
   ]
  },
  {
   "cell_type": "code",
   "execution_count": null,
   "metadata": {},
   "outputs": [],
   "source": [
    "\n",
    "eth.get_eth_balance(address=ADDRESS_ETH_WHALE)\n"
   ]
  },
  {
   "cell_type": "code",
   "execution_count": null,
   "metadata": {},
   "outputs": [],
   "source": [
    "eth.get_erc20_token_transfer_events_by_address(address=ADDRESS_ETH_WHALE)"
   ]
  },
  {
   "cell_type": "code",
   "execution_count": null,
   "metadata": {},
   "outputs": [],
   "source": []
  }
 ],
 "metadata": {
  "kernelspec": {
   "display_name": "Python 3.10.6 ('base')",
   "language": "python",
   "name": "python3"
  },
  "language_info": {
   "codemirror_mode": {
    "name": "ipython",
    "version": 3
   },
   "file_extension": ".py",
   "mimetype": "text/x-python",
   "name": "python",
   "nbconvert_exporter": "python",
   "pygments_lexer": "ipython3",
   "version": "3.10.6"
  },
  "vscode": {
   "interpreter": {
    "hash": "d4d1e4263499bec80672ea0156c357c1ee493ec2b1c70f0acce89fc37c4a6abe"
   }
  }
 },
 "nbformat": 4,
 "nbformat_minor": 4
}
