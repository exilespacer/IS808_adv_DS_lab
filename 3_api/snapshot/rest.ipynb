{
 "cells": [
  {
   "cell_type": "markdown",
   "metadata": {},
   "source": [
    "## Snapshot and GraphQL"
   ]
  },
  {
   "cell_type": "code",
   "execution_count": 1,
   "metadata": {},
   "outputs": [],
   "source": [
    "import requests\n",
    "import pandas as pd\n",
    "import numpy as np"
   ]
  },
  {
   "cell_type": "markdown",
   "metadata": {},
   "source": [
    "Snapshot Endpoints\n",
    "\n",
    "https://docs.snapshot.org/"
   ]
  },
  {
   "cell_type": "code",
   "execution_count": 2,
   "metadata": {},
   "outputs": [],
   "source": [
    "ENDPOINT_DEMO = 'https://testnet.snapshot.org/graphql'\n",
    "\n",
    "ENDPOINT_PRO = 'https://hub.snapshot.org/graphql'\n",
    "\n",
    "\n",
    "ENDPOINT = ENDPOINT_PRO\n"
   ]
  },
  {
   "cell_type": "markdown",
   "metadata": {},
   "source": [
    "We can make GraphQL queries with standard POST requests."
   ]
  },
  {
   "cell_type": "code",
   "execution_count": 3,
   "metadata": {},
   "outputs": [],
   "source": [
    "# https://datagy.io/python-requests-authentication/\n",
    "\n",
    "def api(query, params=None):\n",
    "\n",
    "    response = requests.post(ENDPOINT,\n",
    "                            headers={                      \n",
    "                                'accept': 'application/json'\n",
    "                            },\n",
    "                            params={\n",
    "                                'query': query\n",
    "                            })\n",
    "\n",
    "    print(response)\n",
    "    return response.json()['data']\n"
   ]
  },
  {
   "cell_type": "code",
   "execution_count": 4,
   "metadata": {},
   "outputs": [
    {
     "name": "stdout",
     "output_type": "stream",
     "text": [
      "<Response [200]>\n"
     ]
    }
   ],
   "source": [
    "query = \"\"\"\n",
    "query {\n",
    "  space(id: \"yam.eth\") {\n",
    "    id\n",
    "    name\n",
    "    about\n",
    "    network\n",
    "    symbol\n",
    "    members\n",
    "  }\n",
    "}\n",
    "\"\"\"\n",
    "\n",
    "res = api(query)"
   ]
  },
  {
   "cell_type": "code",
   "execution_count": 5,
   "metadata": {},
   "outputs": [
    {
     "data": {
      "text/plain": [
       "{'space': {'id': 'yam.eth',\n",
       "  'name': 'Yam',\n",
       "  'about': 'Only delegated YAM may be used to vote on proposals. You can delegate to yourself or another address here: yam.finance/#/delegate',\n",
       "  'network': '1',\n",
       "  'symbol': 'YAM',\n",
       "  'members': ['0x683A78bA1f6b25E29fbBC9Cd1BFA29A51520De84',\n",
       "   '0x9Ebc8AD4011C7f559743Eb25705CCF5A9B58D0bc',\n",
       "   '0xC3edCBe0F93a6258c3933e86fFaA3bcF12F8D695',\n",
       "   '0xbdac5657eDd13F47C3DD924eAa36Cf1Ec49672cc',\n",
       "   '0xEC3281124d4c2FCA8A88e3076C1E7749CfEcb7F2']}}"
      ]
     },
     "execution_count": 5,
     "metadata": {},
     "output_type": "execute_result"
    }
   ],
   "source": [
    "res\n"
   ]
  },
  {
   "cell_type": "code",
   "execution_count": 6,
   "metadata": {},
   "outputs": [
    {
     "name": "stdout",
     "output_type": "stream",
     "text": [
      "<Response [200]>\n"
     ]
    }
   ],
   "source": [
    "query = \"\"\"\n",
    "query {\n",
    "  spaces(\n",
    "    first: 20,\n",
    "    skip: 0,\n",
    "    orderBy: \"created\",\n",
    "    orderDirection: asc\n",
    "  ) {\n",
    "    id\n",
    "    name\n",
    "    about\n",
    "    network\n",
    "    symbol\n",
    "    strategies {\n",
    "      name\n",
    "      params\n",
    "    }\n",
    "    admins\n",
    "    members\n",
    "    filters {\n",
    "      minScore\n",
    "      onlyMembers\n",
    "    }\n",
    "    plugins\n",
    "  }\n",
    "}\n",
    "\"\"\"\n",
    "\n",
    "res = api(query)"
   ]
  },
  {
   "cell_type": "code",
   "execution_count": 7,
   "metadata": {
    "collapsed": true,
    "jupyter": {
     "outputs_hidden": true
    },
    "tags": []
   },
   "outputs": [
    {
     "data": {
      "text/plain": [
       "{'spaces': [{'id': 'bonustrack.eth',\n",
       "   'name': 'Hi',\n",
       "   'about': '',\n",
       "   'network': '1',\n",
       "   'symbol': 'TICKET',\n",
       "   'strategies': [{'name': 'ticket', 'params': {'symbol': 'TICKET'}}],\n",
       "   'admins': [],\n",
       "   'members': ['0x24A12Fa313F57aF541d447c594072A992c605DCf',\n",
       "    '0x8BBE4Ac64246d600BC2889ef5d83809D138F03DF',\n",
       "    '0xeF8305E140ac520225DAf050e2f71d5fBcC543e7',\n",
       "    '0x107174D70b33523E83711EA4C3F4229cdB8A7Cb1',\n",
       "    '0x0b21Dbc34A953a35dFA629ad31e1cEE3dE0433Fb',\n",
       "    '0x40FDAa1bff3BB87bC70955Be6657edBFdBeb122e',\n",
       "    '0xcc6A949DB9b26a7173648d50Cf7C55e800E6585B',\n",
       "    '0xC1C8ac723Fd9Db3db6E947dF42aaEdd28058A31D'],\n",
       "   'filters': {'minScore': 0, 'onlyMembers': False},\n",
       "   'plugins': {'safeSnap': {'address': '0xeF8305E140ac520225DAf050e2f71d5fBcC543e7'}}},\n",
       "  {'id': 'fabien.eth',\n",
       "   'name': 'Fabien',\n",
       "   'about': 'This is nothing more than a test space.',\n",
       "   'network': '1',\n",
       "   'symbol': 'POINT',\n",
       "   'strategies': [{'name': 'ticket',\n",
       "     'params': {'value': 100, 'symbol': 'POINT'}}],\n",
       "   'admins': ['0xeF8305E140ac520225DAf050e2f71d5fBcC543e7',\n",
       "    '0x4C7909d6F029b3a5798143C843F4f8e5341a3473'],\n",
       "   'members': ['0xeF8305E140ac520225DAf050e2f71d5fBcC543e7'],\n",
       "   'filters': {'minScore': 1, 'onlyMembers': False},\n",
       "   'plugins': {'safeSnap': {'safes': [{'network': '4',\n",
       "       'realityAddress': '0xF8Ca72b0d427F0b3e8984133C8A6860153b4f2D8'}]}}},\n",
       "  {'id': 'ichi.eth',\n",
       "   'name': 'ichi.farm',\n",
       "   'about': '',\n",
       "   'network': '1',\n",
       "   'symbol': 'ICHIPOWAH',\n",
       "   'strategies': [{'name': 'erc20-balance-of',\n",
       "     'params': {'symbol': 'ICHIPOWAH',\n",
       "      'address': '0x873902a3c0731EcC1F2075435FE035ACCeEd5459',\n",
       "      'decimals': 9}}],\n",
       "   'admins': [],\n",
       "   'members': ['0x873902a3c0731EcC1F2075435FE035ACCeEd5459'],\n",
       "   'filters': {'minScore': 0, 'onlyMembers': False},\n",
       "   'plugins': {}},\n",
       "  {'id': 'loyalfinance.eth',\n",
       "   'name': 'loyal.finance',\n",
       "   'about': '',\n",
       "   'network': '1',\n",
       "   'symbol': 'rLYL',\n",
       "   'strategies': [{'name': 'erc20-balance-of',\n",
       "     'params': {'symbol': 'RLYL',\n",
       "      'address': '0x0C9BbF4364F90db22B1B21b45177069a078842Aa',\n",
       "      'decimals': 18}}],\n",
       "   'admins': [],\n",
       "   'members': [],\n",
       "   'filters': {'minScore': 0, 'onlyMembers': False},\n",
       "   'plugins': {}},\n",
       "  {'id': 'damflux.eth',\n",
       "   'name': 'FLUX',\n",
       "   'about': '',\n",
       "   'network': '1',\n",
       "   'symbol': 'FLUX',\n",
       "   'strategies': [{'name': 'erc20-balance-of',\n",
       "     'params': {'symbol': 'FLUX',\n",
       "      'address': '0x469eDA64aEd3A3Ad6f868c44564291aA415cB1d9',\n",
       "      'decimals': 18}}],\n",
       "   'admins': [],\n",
       "   'members': [],\n",
       "   'filters': {'minScore': 0, 'onlyMembers': False},\n",
       "   'plugins': {}},\n",
       "  {'id': 'ufode.eth',\n",
       "   'name': 'UFO Finance',\n",
       "   'about': '',\n",
       "   'network': '1',\n",
       "   'symbol': 'UFO',\n",
       "   'strategies': [{'name': 'erc20-balance-of',\n",
       "     'params': {'symbol': 'DAI',\n",
       "      'address': '0x6B175474E89094C44Da98b954EedeAC495271d0F',\n",
       "      'decimals': 18}}],\n",
       "   'admins': [],\n",
       "   'members': [],\n",
       "   'filters': {'minScore': 0, 'onlyMembers': False},\n",
       "   'plugins': {}},\n",
       "  {'id': 'boringvote.eth',\n",
       "   'name': 'BoringDAO',\n",
       "   'about': '',\n",
       "   'network': '1',\n",
       "   'symbol': 'BoringDAO VS',\n",
       "   'strategies': [{'name': 'contract-call',\n",
       "     'params': {'symbol': 'BoringDAO VS',\n",
       "      'address': '0xdd018AD3D79bF8aA7C2E9726b566f7aeeF693618',\n",
       "      'decimals': 18,\n",
       "      'methodABI': {'name': 'balanceOf',\n",
       "       'type': 'function',\n",
       "       'inputs': [{'name': '_voter',\n",
       "         'type': 'address',\n",
       "         'internalType': 'address'}],\n",
       "       'outputs': [{'name': '', 'type': 'uint256', 'internalType': 'uint256'}],\n",
       "       'stateMutability': 'view'}}}],\n",
       "   'admins': [],\n",
       "   'members': [],\n",
       "   'filters': {'minScore': 0, 'onlyMembers': False},\n",
       "   'plugins': {}},\n",
       "  {'id': 'relayernetwork.eth',\n",
       "   'name': 'Relayer Network',\n",
       "   'about': '',\n",
       "   'network': '1',\n",
       "   'symbol': 'RLR',\n",
       "   'strategies': [{'name': 'erc20-balance-of',\n",
       "     'params': {'symbol': 'RLR',\n",
       "      'address': '0x0e3ef895c59e7db27214ab5bbf56347ce115a3f4',\n",
       "      'decimals': 18}},\n",
       "    {'name': 'erc20-balance-of-delegation',\n",
       "     'params': {'symbol': 'RLR',\n",
       "      'address': '0x0e3ef895c59e7db27214ab5bbf56347ce115a3f4',\n",
       "      'decimals': 18}}],\n",
       "   'admins': [],\n",
       "   'members': [],\n",
       "   'filters': {'minScore': 0, 'onlyMembers': False},\n",
       "   'plugins': {}},\n",
       "  {'id': 'prophetfinance.eth',\n",
       "   'name': 'prophet.finance',\n",
       "   'about': '',\n",
       "   'network': '1',\n",
       "   'symbol': 'PROPHET',\n",
       "   'strategies': [{'name': 'erc20-balance-of',\n",
       "     'params': {'symbol': 'PROPHET',\n",
       "      'address': '0x8d5db0c1f0681071cb38a382ae6704588d9da587',\n",
       "      'decimals': 9}}],\n",
       "   'admins': [],\n",
       "   'members': ['0xcA670BC7D254C2a4b050Dbb05aD8f3db57Fd43Cd',\n",
       "    '0xe2f071Fa6a421c6Bd7DF3635cC001c569182B950'],\n",
       "   'filters': {'minScore': 0, 'onlyMembers': False},\n",
       "   'plugins': {}},\n",
       "  {'id': 'liddao.eth',\n",
       "   'name': 'Lid Dao',\n",
       "   'about': '',\n",
       "   'network': '1',\n",
       "   'symbol': 'Lid Dao',\n",
       "   'strategies': [{'name': 'erc20-balance-of',\n",
       "     'params': {'symbol': 'LID-vr',\n",
       "      'address': '0xb271e47E8AbD99df2f6275793eF838B0Ee0866c9',\n",
       "      'decimals': 18}}],\n",
       "   'admins': [],\n",
       "   'members': ['0x4735581201F4cAD63CCa0716AB4ac7D6d9CFB0ed'],\n",
       "   'filters': {'minScore': 0, 'onlyMembers': False},\n",
       "   'plugins': {}},\n",
       "  {'id': 'idlefinance.eth',\n",
       "   'name': 'Idle DAO',\n",
       "   'about': 'Idle DAO off-chain polls for IDLE holders',\n",
       "   'network': '1',\n",
       "   'symbol': 'IDLE',\n",
       "   'strategies': [{'name': 'erc20-balance-of',\n",
       "     'params': {'symbol': 'IDLE',\n",
       "      'address': '0x875773784Af8135eA0ef43b5a374AaD105c5D39e',\n",
       "      'decimals': 18}},\n",
       "    {'name': 'erc20-balance-of',\n",
       "     'params': {'start': 11737307,\n",
       "      'symbol': 'LockedIDLE',\n",
       "      'address': '0xF241a0151841AE2E6ea750D50C5794b5EDC31D99',\n",
       "      'decimals': 18}},\n",
       "    {'name': 'uniswap',\n",
       "     'params': {'symbol': 'IDLE',\n",
       "      'address': '0x875773784Af8135eA0ef43b5a374AaD105c5D39e',\n",
       "      'decimals': 18}},\n",
       "    {'name': 'sushiswap',\n",
       "     'params': {'symbol': 'IDLE',\n",
       "      'address': '0x875773784Af8135eA0ef43b5a374AaD105c5D39e',\n",
       "      'decimals': 18}},\n",
       "    {'name': 'erc20-balance-of-delegation',\n",
       "     'params': {'symbol': 'IDLE',\n",
       "      'address': '0x875773784Af8135eA0ef43b5a374AaD105c5D39e',\n",
       "      'decimals': 18,\n",
       "      'delegationSpace': 'idlefinance.eth'}}],\n",
       "   'admins': ['0xe4E69ef860D3018B61A25134D60678be8628f780',\n",
       "    '0xb373F5f09d9875b94661776201165D01a7AE7bF7'],\n",
       "   'members': ['0xf27d7e8E96e891D77F42E1d88dA872A1cFaFe91a',\n",
       "    '0x4AF7cfbDbeF5ba845476652b79c0157D923E8207',\n",
       "    '0x2fa92128ecE3901395448bf62Dd5Ff6a35871540',\n",
       "    '0xe09E513301ba3717cBF50d9e67F85fAC249bb74d',\n",
       "    '0xeA173648F959790baea225cE3E75dF8A53a6BDE5',\n",
       "    '0xb373F5f09d9875b94661776201165D01a7AE7bF7',\n",
       "    '0x30723bb508E84706297EeF689C20096907023897',\n",
       "    '0xbD2D55b7F1693C4Fb337a89aCB12f657D5acFc82',\n",
       "    '0xDeBa9cd00120Ea0BE15955Cc3FA4b2d3E66Aa65d',\n",
       "    '0xfdA462548Ce04282f4B6D6619823a7C64Fdc0185'],\n",
       "   'filters': {'minScore': 100, 'onlyMembers': False},\n",
       "   'plugins': {}},\n",
       "  {'id': 'scradclub.eth',\n",
       "   'name': 'SCRAD Club',\n",
       "   'about': '',\n",
       "   'network': '1',\n",
       "   'symbol': 'SMT',\n",
       "   'strategies': [{'name': 'erc20-balance-of',\n",
       "     'params': {'symbol': 'SMT',\n",
       "      'address': '0xa6c5651f3f7f81bea6097a1a694bf819adbd1cfd',\n",
       "      'decimals': 0}}],\n",
       "   'admins': [],\n",
       "   'members': ['0x58E603d9824976F7a3940C6B408F0Ffa523a216C'],\n",
       "   'filters': {'minScore': 0, 'onlyMembers': False},\n",
       "   'plugins': {}},\n",
       "  {'id': 'pub-finance.eth',\n",
       "   'name': 'pub-finance',\n",
       "   'about': '',\n",
       "   'network': '1',\n",
       "   'symbol': 'PINT',\n",
       "   'strategies': [{'name': 'erc20-balance-of',\n",
       "     'params': {'symbol': 'PINT',\n",
       "      'address': '0xFECBa472B2540C5a2d3700b2C9E06F0aa7dC6462',\n",
       "      'decimals': 18}}],\n",
       "   'admins': [],\n",
       "   'members': [],\n",
       "   'filters': {'minScore': 50000, 'onlyMembers': False},\n",
       "   'plugins': {}},\n",
       "  {'id': 'saffronfinance.eth',\n",
       "   'name': 'saffron.finance',\n",
       "   'about': 'Welcome to Saffron, a peer-to-peer collateralization and risk exchange protocol. SFI holders decide which proposals are implemented on-chain',\n",
       "   'network': '1',\n",
       "   'symbol': 'SFI',\n",
       "   'strategies': [{'name': 'saffron-finance',\n",
       "     'params': {'symbol': 'SFIV1',\n",
       "      'contracts': [{'label': 'SFI',\n",
       "        'tokenAddress': '0xb753428af26e81097e7fd17f40c88aaa3e04902c',\n",
       "        'votingScheme': 'oneToOne'},\n",
       "       {'label': 'TEAM_HODL_TOKEN',\n",
       "        'tokenAddress': '0x4e5ee20900898054e998fd1862742c28c651bf5d',\n",
       "        'votingScheme': 'oneToOne'}],\n",
       "      'dexLpTypes': [{'name': 'uniswap',\n",
       "        'lpToken': '0xC76225124F3CaAb07f609b1D147a31de43926cd6'},\n",
       "       {'name': 'sushiswap',\n",
       "        'lpToken': '0x23a9292830Fc80dB7f563eDb28D2fe6fB47f8624'}],\n",
       "      'votingSchemes': [{'name': 'oneToOne',\n",
       "        'type': 'DirectBoostScheme',\n",
       "        'multiplier': 1},\n",
       "       {'name': 'staking', 'type': 'DirectBoostScheme', 'multiplier': 1.1},\n",
       "       {'name': 'uniswap', 'type': 'LPReservePairScheme', 'multiplier': 1.1},\n",
       "       {'name': 'sushiswap',\n",
       "        'type': 'LPReservePairScheme',\n",
       "        'multiplier': 1.1}]}},\n",
       "    {'name': 'saffron-finance-v2',\n",
       "     'params': {'symbol': 'SAFF_STAK_V2',\n",
       "      'decimals': 18,\n",
       "      'multiplier': 1.1,\n",
       "      'stakingPool': '0x4eB4C5911e931667fE1647428F38401aB1661763',\n",
       "      'singleAssets': ['0xb753428af26E81097e7fD17f40c88aaA3E04902c']}}],\n",
       "   'admins': ['0x9CfEC36a7b09c469DDf0D1558Eb92F7A88ED796b'],\n",
       "   'members': ['0x9CfEC36a7b09c469DDf0D1558Eb92F7A88ED796b',\n",
       "    '0xD90B866039E8820c2Cd082840fceeD81Cef691F8',\n",
       "    '0x44b6eaEA64a0f0a8828B32a9B9E103CD5eBfBBEb'],\n",
       "   'filters': {'minScore': 0.1, 'onlyMembers': False},\n",
       "   'plugins': {}},\n",
       "  {'id': 'sovi.eth',\n",
       "   'name': 'sovi.finance',\n",
       "   'about': '',\n",
       "   'network': '1',\n",
       "   'symbol': 'SOVI',\n",
       "   'strategies': [{'name': 'erc20-balance-of',\n",
       "     'params': {'symbol': 'DAI',\n",
       "      'address': '0x6B175474E89094C44Da98b954EedeAC495271d0F',\n",
       "      'decimals': 18}}],\n",
       "   'admins': [],\n",
       "   'members': ['0x560C2B75c7B4e077C71D66aE4E18b688D099963f',\n",
       "    '0x02e8e50913F7Fc1a22F48C1e7012cdc80B03d25a'],\n",
       "   'filters': {'minScore': 1, 'onlyMembers': True},\n",
       "   'plugins': {}},\n",
       "  {'id': 'monportefeuille.eth',\n",
       "   'name': 'Monportefeuille',\n",
       "   'about': '',\n",
       "   'network': '1',\n",
       "   'symbol': 'CIRCL',\n",
       "   'strategies': [{'name': 'erc20-balance-of',\n",
       "     'params': {'symbol': 'CIRCL',\n",
       "      'address': '0x63a2ccd492e316eefab5b3326db3c7b0a94c3726',\n",
       "      'decimals': 18}}],\n",
       "   'admins': [],\n",
       "   'members': ['0xa921789802E13243C6827D37526Ce632eF4A138b'],\n",
       "   'filters': {'minScore': 250, 'onlyMembers': True},\n",
       "   'plugins': {}},\n",
       "  {'id': 'flowcommunity.eth',\n",
       "   'name': 'Flow Protocol',\n",
       "   'about': '',\n",
       "   'network': '1',\n",
       "   'symbol': 'FLOW',\n",
       "   'strategies': [{'name': 'erc20-balance-of',\n",
       "     'params': {'symbol': 'FLOW',\n",
       "      'address': '0xC6e64729931f60D2c8Bc70A27D66D9E0c28D1BF9',\n",
       "      'decimals': 18}}],\n",
       "   'admins': [],\n",
       "   'members': [],\n",
       "   'filters': {'minScore': 51, 'onlyMembers': False},\n",
       "   'plugins': {}},\n",
       "  {'id': 'tradersquare.eth',\n",
       "   'name': 'Trader Square',\n",
       "   'about': '',\n",
       "   'network': '1',\n",
       "   'symbol': 'TRS',\n",
       "   'strategies': [{'name': 'erc20-balance-of',\n",
       "     'params': {'symbol': 'TRS',\n",
       "      'address': '0x1Ef4d930097D30689B16945Aa8286C62Ce7f75dF',\n",
       "      'decimals': 4}}],\n",
       "   'admins': [],\n",
       "   'members': ['0xf4945a878d7B464cAA4d383B3988a652661897d2',\n",
       "    '0xe2d088Ee9872dFd340A6B3fb5d0fD6B245CBe34a',\n",
       "    '0x890F598d391f4bA5A2d903301eC78B7E12C935FC'],\n",
       "   'filters': {'minScore': 0, 'onlyMembers': True},\n",
       "   'plugins': {}},\n",
       "  {'id': 'xionetwork.eth',\n",
       "   'name': '(old) Blockzero Labs',\n",
       "   'about': '',\n",
       "   'network': '1',\n",
       "   'symbol': 'XIO',\n",
       "   'strategies': [{'name': 'erc20-balance-of',\n",
       "     'params': {'symbol': 'XIO',\n",
       "      'address': '0x0f7F961648aE6Db43C75663aC7E5414Eb79b5704',\n",
       "      'decimals': 18}},\n",
       "    {'name': 'uniswap',\n",
       "     'params': {'symbol': 'XIO',\n",
       "      'address': '0x0f7F961648aE6Db43C75663aC7E5414Eb79b5704',\n",
       "      'decimals': 18}}],\n",
       "   'admins': [],\n",
       "   'members': ['0x11231f7Dc863F36A6516Eb4EF052f195000e0000',\n",
       "    '0xA0018Abd370A8B5CA89452f0711B653786F6264E',\n",
       "    '0xb0faa146515792276465F084f7c23E52F3B40839',\n",
       "    '0xA8A68CDe3aF5a932BE6a29a7E4975D1975f3E3AC',\n",
       "    '0x4BF4e3a59add035c479CDE89d98103Cb65DCa941',\n",
       "    '0xE73C98667C82bb76E58c0d9B065B6A0C9ea2d088'],\n",
       "   'filters': {'minScore': 0, 'onlyMembers': True},\n",
       "   'plugins': {}},\n",
       "  {'id': 'minkfinance.eth',\n",
       "   'name': 'Mink Finance',\n",
       "   'about': '',\n",
       "   'network': '1',\n",
       "   'symbol': 'MINK',\n",
       "   'strategies': [{'name': 'erc20-balance-of',\n",
       "     'params': {'symbol': 'MINK',\n",
       "      'address': '0x1D47F2A94d5a6d59D2A37eF47CA7f71b661654c8',\n",
       "      'decimals': 18}}],\n",
       "   'admins': [],\n",
       "   'members': ['0x9650F4feDd1e6ce63621479A4bf5F4d743E6F958'],\n",
       "   'filters': {'minScore': 0, 'onlyMembers': False},\n",
       "   'plugins': {}}]}"
      ]
     },
     "execution_count": 7,
     "metadata": {},
     "output_type": "execute_result"
    }
   ],
   "source": [
    "\n",
    "res"
   ]
  },
  {
   "cell_type": "markdown",
   "metadata": {},
   "source": [
    "What if want to fetch all spaces? It's a bit cumbersome with standard POST requests, but we can use the [gql](https://pypi.org/project/gql/) client. "
   ]
  },
  {
   "cell_type": "markdown",
   "metadata": {},
   "source": [
    "#### GQL Client"
   ]
  },
  {
   "cell_type": "code",
   "execution_count": 9,
   "metadata": {
    "collapsed": true,
    "jupyter": {
     "outputs_hidden": true
    },
    "tags": []
   },
   "outputs": [
    {
     "name": "stdout",
     "output_type": "stream",
     "text": [
      "Collecting gql\n",
      "  Downloading gql-3.4.0-py2.py3-none-any.whl (65 kB)\n",
      "\u001b[2K     \u001b[90m━━━━━━━━━━━━━━━━━━━━━━━━━━━━━━━━━━━━━━━━\u001b[0m \u001b[32m65.2/65.2 KB\u001b[0m \u001b[31m1.5 MB/s\u001b[0m eta \u001b[36m0:00:00\u001b[0mta \u001b[36m0:00:01\u001b[0m\n",
      "\u001b[?25hCollecting graphql-core<3.3,>=3.2\n",
      "  Downloading graphql_core-3.2.3-py3-none-any.whl (202 kB)\n",
      "\u001b[2K     \u001b[90m━━━━━━━━━━━━━━━━━━━━━━━━━━━━━━━━━━━━━━━\u001b[0m \u001b[32m202.9/202.9 KB\u001b[0m \u001b[31m3.9 MB/s\u001b[0m eta \u001b[36m0:00:00\u001b[0ma \u001b[36m0:00:01\u001b[0m\n",
      "\u001b[?25hCollecting yarl<2.0,>=1.6\n",
      "  Downloading yarl-1.8.1-cp39-cp39-manylinux_2_17_x86_64.manylinux2014_x86_64.whl (264 kB)\n",
      "\u001b[2K     \u001b[90m━━━━━━━━━━━━━━━━━━━━━━━━━━━━━━━━━━━━━━━\u001b[0m \u001b[32m264.6/264.6 KB\u001b[0m \u001b[31m3.7 MB/s\u001b[0m eta \u001b[36m0:00:00\u001b[0ma \u001b[36m0:00:01\u001b[0m\n",
      "\u001b[?25hCollecting backoff<3.0,>=1.11.1\n",
      "  Downloading backoff-2.1.2-py3-none-any.whl (14 kB)\n",
      "Requirement already satisfied: idna>=2.0 in /opt/conda/lib/python3.9/site-packages (from yarl<2.0,>=1.6->gql) (3.3)\n",
      "Collecting multidict>=4.0\n",
      "  Downloading multidict-6.0.2-cp39-cp39-manylinux_2_17_x86_64.manylinux2014_x86_64.whl (114 kB)\n",
      "\u001b[2K     \u001b[90m━━━━━━━━━━━━━━━━━━━━━━━━━━━━━━━━━━━━━━━\u001b[0m \u001b[32m114.2/114.2 KB\u001b[0m \u001b[31m1.9 MB/s\u001b[0m eta \u001b[36m0:00:00\u001b[0m00:01\u001b[0m\n",
      "\u001b[?25hInstalling collected packages: multidict, graphql-core, backoff, yarl, gql\n",
      "Successfully installed backoff-2.1.2 gql-3.4.0 graphql-core-3.2.3 multidict-6.0.2 yarl-1.8.1\n",
      "Collecting aiohttp\n",
      "  Downloading aiohttp-3.8.3-cp39-cp39-manylinux_2_17_x86_64.manylinux2014_x86_64.whl (1.0 MB)\n",
      "\u001b[2K     \u001b[90m━━━━━━━━━━━━━━━━━━━━━━━━━━━━━━━━━━━━━━━━\u001b[0m \u001b[32m1.0/1.0 MB\u001b[0m \u001b[31m7.1 MB/s\u001b[0m eta \u001b[36m0:00:00\u001b[0m:00:01\u001b[0m00:01\u001b[0m\n",
      "\u001b[?25hRequirement already satisfied: charset-normalizer<3.0,>=2.0 in /opt/conda/lib/python3.9/site-packages (from aiohttp) (2.0.12)\n",
      "Requirement already satisfied: yarl<2.0,>=1.0 in /opt/conda/lib/python3.9/site-packages (from aiohttp) (1.8.1)\n",
      "Collecting frozenlist>=1.1.1\n",
      "  Downloading frozenlist-1.3.1-cp39-cp39-manylinux_2_5_x86_64.manylinux1_x86_64.manylinux_2_17_x86_64.manylinux2014_x86_64.whl (158 kB)\n",
      "\u001b[2K     \u001b[90m━━━━━━━━━━━━━━━━━━━━━━━━━━━━━━━━━━━━━━━\u001b[0m \u001b[32m158.8/158.8 KB\u001b[0m \u001b[31m3.7 MB/s\u001b[0m eta \u001b[36m0:00:00\u001b[0ma \u001b[36m0:00:01\u001b[0m\n",
      "\u001b[?25hRequirement already satisfied: attrs>=17.3.0 in /opt/conda/lib/python3.9/site-packages (from aiohttp) (21.4.0)\n",
      "Collecting aiosignal>=1.1.2\n",
      "  Downloading aiosignal-1.2.0-py3-none-any.whl (8.2 kB)\n",
      "Collecting async-timeout<5.0,>=4.0.0a3\n",
      "  Downloading async_timeout-4.0.2-py3-none-any.whl (5.8 kB)\n",
      "Requirement already satisfied: multidict<7.0,>=4.5 in /opt/conda/lib/python3.9/site-packages (from aiohttp) (6.0.2)\n",
      "Requirement already satisfied: idna>=2.0 in /opt/conda/lib/python3.9/site-packages (from yarl<2.0,>=1.0->aiohttp) (3.3)\n",
      "Installing collected packages: frozenlist, async-timeout, aiosignal, aiohttp\n",
      "Successfully installed aiohttp-3.8.3 aiosignal-1.2.0 async-timeout-4.0.2 frozenlist-1.3.1\n"
     ]
    }
   ],
   "source": [
    "!pip install gql\n",
    "!pip install aiohttp \n",
    "from gql import gql, Client\n",
    "from gql.transport.aiohttp import AIOHTTPTransport\n"
   ]
  },
  {
   "cell_type": "code",
   "execution_count": 10,
   "metadata": {},
   "outputs": [],
   "source": [
    "transport = AIOHTTPTransport(url=ENDPOINT)\n",
    "client = Client(\n",
    "    transport=transport\n",
    "    #fetch_schema_from_transport=True\n",
    ")\n"
   ]
  },
  {
   "cell_type": "markdown",
   "metadata": {},
   "source": [
    "Let's test a simple query.\n",
    "First, we need build it, when we execute it.\n",
    "\n",
    "_Note:_ gql will throw an error if the query is malformed."
   ]
  },
  {
   "cell_type": "code",
   "execution_count": 11,
   "metadata": {},
   "outputs": [],
   "source": [
    "space_query = gql(\n",
    "\"\"\"\n",
    "query {\n",
    "space(id: \"yam.eth\") {\n",
    "    id\n",
    "    name\n",
    "    about\n",
    "    network\n",
    "    symbol\n",
    "    members\n",
    "    }\n",
    "}\n",
    "\"\"\")"
   ]
  },
  {
   "cell_type": "code",
   "execution_count": 12,
   "metadata": {
    "collapsed": true,
    "jupyter": {
     "outputs_hidden": true
    },
    "tags": []
   },
   "outputs": [
    {
     "ename": "AssertionError",
     "evalue": "Cannot run client.execute(query) if an asyncio loop is running. Use 'await client.execute_async(query)' instead.",
     "output_type": "error",
     "traceback": [
      "\u001b[0;31m---------------------------------------------------------------------------\u001b[0m",
      "\u001b[0;31mAssertionError\u001b[0m                            Traceback (most recent call last)",
      "Input \u001b[0;32mIn [12]\u001b[0m, in \u001b[0;36m<cell line: 2>\u001b[0;34m()\u001b[0m\n\u001b[1;32m      1\u001b[0m \u001b[38;5;66;03m## Error in Jupyter-like environments.\u001b[39;00m\n\u001b[0;32m----> 2\u001b[0m result \u001b[38;5;241m=\u001b[39m \u001b[43mclient\u001b[49m\u001b[38;5;241;43m.\u001b[39;49m\u001b[43mexecute\u001b[49m\u001b[43m(\u001b[49m\u001b[43mspace_query\u001b[49m\u001b[43m)\u001b[49m\n\u001b[1;32m      3\u001b[0m \u001b[38;5;28mprint\u001b[39m(result)\n",
      "File \u001b[0;32m/opt/conda/lib/python3.9/site-packages/gql/client.py:383\u001b[0m, in \u001b[0;36mClient.execute\u001b[0;34m(self, document, variable_values, operation_name, serialize_variables, parse_result, get_execution_result, **kwargs)\u001b[0m\n\u001b[1;32m    380\u001b[0m     loop \u001b[38;5;241m=\u001b[39m asyncio\u001b[38;5;241m.\u001b[39mnew_event_loop()\n\u001b[1;32m    381\u001b[0m     asyncio\u001b[38;5;241m.\u001b[39mset_event_loop(loop)\n\u001b[0;32m--> 383\u001b[0m \u001b[38;5;28;01massert\u001b[39;00m \u001b[38;5;129;01mnot\u001b[39;00m loop\u001b[38;5;241m.\u001b[39mis_running(), (\n\u001b[1;32m    384\u001b[0m     \u001b[38;5;124m\"\u001b[39m\u001b[38;5;124mCannot run client.execute(query) if an asyncio loop is running.\u001b[39m\u001b[38;5;124m\"\u001b[39m\n\u001b[1;32m    385\u001b[0m     \u001b[38;5;124m\"\u001b[39m\u001b[38;5;124m Use \u001b[39m\u001b[38;5;124m'\u001b[39m\u001b[38;5;124mawait client.execute_async(query)\u001b[39m\u001b[38;5;124m'\u001b[39m\u001b[38;5;124m instead.\u001b[39m\u001b[38;5;124m\"\u001b[39m\n\u001b[1;32m    386\u001b[0m )\n\u001b[1;32m    388\u001b[0m data \u001b[38;5;241m=\u001b[39m loop\u001b[38;5;241m.\u001b[39mrun_until_complete(\n\u001b[1;32m    389\u001b[0m     \u001b[38;5;28mself\u001b[39m\u001b[38;5;241m.\u001b[39mexecute_async(\n\u001b[1;32m    390\u001b[0m         document,\n\u001b[0;32m   (...)\u001b[0m\n\u001b[1;32m    397\u001b[0m     )\n\u001b[1;32m    398\u001b[0m )\n\u001b[1;32m    400\u001b[0m \u001b[38;5;28;01mreturn\u001b[39;00m data\n",
      "\u001b[0;31mAssertionError\u001b[0m: Cannot run client.execute(query) if an asyncio loop is running. Use 'await client.execute_async(query)' instead."
     ]
    }
   ],
   "source": [
    "## Error in Jupyter-like environments.\n",
    "result = client.execute(space_query)\n",
    "print(result)"
   ]
  },
  {
   "cell_type": "code",
   "execution_count": 13,
   "metadata": {},
   "outputs": [
    {
     "name": "stdout",
     "output_type": "stream",
     "text": [
      "{'space': {'id': 'yam.eth', 'name': 'Yam', 'about': 'Only delegated YAM may be used to vote on proposals. You can delegate to yourself or another address here: yam.finance/#/delegate', 'network': '1', 'symbol': 'YAM', 'members': ['0x683A78bA1f6b25E29fbBC9Cd1BFA29A51520De84', '0x9Ebc8AD4011C7f559743Eb25705CCF5A9B58D0bc', '0xC3edCBe0F93a6258c3933e86fFaA3bcF12F8D695', '0xbdac5657eDd13F47C3DD924eAa36Cf1Ec49672cc', '0xEC3281124d4c2FCA8A88e3076C1E7749CfEcb7F2']}}\n"
     ]
    }
   ],
   "source": [
    "result = await client.execute_async(space_query)\n",
    "print(result)"
   ]
  },
  {
   "cell_type": "markdown",
   "metadata": {},
   "source": [
    "#### GraphQL Variables\n",
    "\n",
    "Now we want to fetch _all_ spaces.\n",
    "\n",
    "We need to use a special feature of GraphQL, that is the ability to pass **variables** into queries.\n",
    "\n",
    "Variables are identified by the dollar sign `$` and must indicate their type (e.g., `Int`). \n",
    "\n",
    "If a variable is mandatory, it is followed by an exclamation mark."
   ]
  },
  {
   "cell_type": "code",
   "execution_count": 14,
   "metadata": {},
   "outputs": [],
   "source": [
    "\n",
    "spaces_query = gql(\"\"\"\n",
    "  query ($first: Int!, $skip: Int!) {\n",
    "    spaces(\n",
    "      first: $first,\n",
    "      skip: $skip,\n",
    "      orderBy: \"created\",\n",
    "      orderDirection: asc\n",
    "    ) \n",
    "    {\n",
    "      id\n",
    "      name\n",
    "      about\n",
    "      network\n",
    "      symbol\n",
    "      strategies {\n",
    "        name\n",
    "        params\n",
    "      }\n",
    "      admins\n",
    "      members\n",
    "      filters {\n",
    "        minScore\n",
    "        onlyMembers\n",
    "      }\n",
    "      plugins\n",
    "    }\n",
    "  }\n",
    "\"\"\")\n"
   ]
  },
  {
   "cell_type": "code",
   "execution_count": 15,
   "metadata": {},
   "outputs": [],
   "source": [
    "## spaces_tmp is a temp variable we can use to store partial computations\n",
    "## in case an error (e.g., a timeout) occurs\n",
    "spaces_tmp = []"
   ]
  },
  {
   "cell_type": "code",
   "execution_count": 16,
   "metadata": {},
   "outputs": [
    {
     "name": "stdout",
     "output_type": "stream",
     "text": [
      "1000\n",
      "2000\n",
      "3000\n",
      "4000\n",
      "5000\n",
      "6000\n",
      "7000\n",
      "8000\n",
      "9000\n",
      "10000\n",
      "10956\n",
      "**I am done fetching!**\n"
     ]
    }
   ],
   "source": [
    "\n",
    "## Fetch'em all!\n",
    "spaces = spaces_tmp\n",
    "first = 1000\n",
    "skip = len(spaces)\n",
    "fetch = True\n",
    "while fetch:\n",
    "    vars = {\"first\": first, \"skip\": skip}\n",
    "    res = await client.execute_async(spaces_query, variable_values=vars)\n",
    "    # print(type(res))\n",
    "    # print(res)\n",
    "    \n",
    "    if not res['spaces']:\n",
    "        print('**I am done fetching!**')\n",
    "        fetch = False\n",
    "    else:\n",
    "        spaces.extend(res['spaces'])\n",
    "        print(len(spaces))\n",
    "        skip += first# fetch = False\n"
   ]
  },
  {
   "cell_type": "code",
   "execution_count": 17,
   "metadata": {},
   "outputs": [
    {
     "data": {
      "text/plain": [
       "10956"
      ]
     },
     "execution_count": 17,
     "metadata": {},
     "output_type": "execute_result"
    }
   ],
   "source": [
    "len(spaces)\n"
   ]
  },
  {
   "cell_type": "markdown",
   "metadata": {},
   "source": [
    "Let's put everything in a Pandas data frame."
   ]
  },
  {
   "cell_type": "code",
   "execution_count": 20,
   "metadata": {},
   "outputs": [],
   "source": [
    "df = pd.DataFrame(spaces)\n",
    "\n",
    "df['id'] = df['id'].astype('string')\n",
    "df['name'] = df['name'].astype('string')\n",
    "df['about'] = df['about'].astype('string')\n",
    "# df['logo'] = df['logo'].astype('string')"
   ]
  },
  {
   "cell_type": "code",
   "execution_count": 23,
   "metadata": {},
   "outputs": [
    {
     "name": "stdout",
     "output_type": "stream",
     "text": [
      "<class 'pandas.core.frame.DataFrame'>\n",
      "RangeIndex: 10956 entries, 0 to 10955\n",
      "Data columns (total 10 columns):\n",
      " #   Column      Non-Null Count  Dtype \n",
      "---  ------      --------------  ----- \n",
      " 0   id          10956 non-null  string\n",
      " 1   name        10956 non-null  string\n",
      " 2   about       10956 non-null  string\n",
      " 3   network     10956 non-null  object\n",
      " 4   symbol      10956 non-null  object\n",
      " 5   strategies  10956 non-null  object\n",
      " 6   admins      10956 non-null  object\n",
      " 7   members     10956 non-null  object\n",
      " 8   filters     10956 non-null  object\n",
      " 9   plugins     10956 non-null  object\n",
      "dtypes: object(7), string(3)\n",
      "memory usage: 856.1+ KB\n"
     ]
    }
   ],
   "source": [
    "df.info()"
   ]
  },
  {
   "cell_type": "code",
   "execution_count": 24,
   "metadata": {},
   "outputs": [],
   "source": [
    "df.to_json(\"data/daos_snapshot.json\", orient=\"records\")\n",
    "\n",
    "## Visually explore the saved file.\n",
    "# Is it a mess? Prettify it with VS Code auto-formatter. \n",
    "# Don't you remember the shorcut? Check our python_warmup lecture.\n",
    " "
   ]
  },
  {
   "cell_type": "code",
   "execution_count": 25,
   "metadata": {
    "collapsed": true,
    "jupyter": {
     "outputs_hidden": true
    },
    "tags": []
   },
   "outputs": [
    {
     "data": {
      "text/html": [
       "<div>\n",
       "<style scoped>\n",
       "    .dataframe tbody tr th:only-of-type {\n",
       "        vertical-align: middle;\n",
       "    }\n",
       "\n",
       "    .dataframe tbody tr th {\n",
       "        vertical-align: top;\n",
       "    }\n",
       "\n",
       "    .dataframe thead th {\n",
       "        text-align: right;\n",
       "    }\n",
       "</style>\n",
       "<table border=\"1\" class=\"dataframe\">\n",
       "  <thead>\n",
       "    <tr style=\"text-align: right;\">\n",
       "      <th></th>\n",
       "      <th>id</th>\n",
       "      <th>name</th>\n",
       "      <th>about</th>\n",
       "      <th>network</th>\n",
       "      <th>symbol</th>\n",
       "      <th>strategies</th>\n",
       "      <th>admins</th>\n",
       "      <th>members</th>\n",
       "      <th>filters</th>\n",
       "      <th>plugins</th>\n",
       "    </tr>\n",
       "  </thead>\n",
       "  <tbody>\n",
       "    <tr>\n",
       "      <th>0</th>\n",
       "      <td>bonustrack.eth</td>\n",
       "      <td>Hi</td>\n",
       "      <td></td>\n",
       "      <td>1</td>\n",
       "      <td>TICKET</td>\n",
       "      <td>[{'name': 'ticket', 'params': {'symbol': 'TICK...</td>\n",
       "      <td>[]</td>\n",
       "      <td>[0x24A12Fa313F57aF541d447c594072A992c605DCf, 0...</td>\n",
       "      <td>{'minScore': 0, 'onlyMembers': False}</td>\n",
       "      <td>{'safeSnap': {'address': '0xeF8305E140ac520225...</td>\n",
       "    </tr>\n",
       "    <tr>\n",
       "      <th>1</th>\n",
       "      <td>fabien.eth</td>\n",
       "      <td>Fabien</td>\n",
       "      <td>This is nothing more than a test space.</td>\n",
       "      <td>1</td>\n",
       "      <td>POINT</td>\n",
       "      <td>[{'name': 'ticket', 'params': {'value': 100, '...</td>\n",
       "      <td>[0xeF8305E140ac520225DAf050e2f71d5fBcC543e7, 0...</td>\n",
       "      <td>[0xeF8305E140ac520225DAf050e2f71d5fBcC543e7]</td>\n",
       "      <td>{'minScore': 1, 'onlyMembers': False}</td>\n",
       "      <td>{'safeSnap': {'safes': [{'network': '4', 'real...</td>\n",
       "    </tr>\n",
       "    <tr>\n",
       "      <th>2</th>\n",
       "      <td>ichi.eth</td>\n",
       "      <td>ichi.farm</td>\n",
       "      <td></td>\n",
       "      <td>1</td>\n",
       "      <td>ICHIPOWAH</td>\n",
       "      <td>[{'name': 'erc20-balance-of', 'params': {'symb...</td>\n",
       "      <td>[]</td>\n",
       "      <td>[0x873902a3c0731EcC1F2075435FE035ACCeEd5459]</td>\n",
       "      <td>{'minScore': 0, 'onlyMembers': False}</td>\n",
       "      <td>{}</td>\n",
       "    </tr>\n",
       "    <tr>\n",
       "      <th>3</th>\n",
       "      <td>loyalfinance.eth</td>\n",
       "      <td>loyal.finance</td>\n",
       "      <td></td>\n",
       "      <td>1</td>\n",
       "      <td>rLYL</td>\n",
       "      <td>[{'name': 'erc20-balance-of', 'params': {'symb...</td>\n",
       "      <td>[]</td>\n",
       "      <td>[]</td>\n",
       "      <td>{'minScore': 0, 'onlyMembers': False}</td>\n",
       "      <td>{}</td>\n",
       "    </tr>\n",
       "    <tr>\n",
       "      <th>4</th>\n",
       "      <td>damflux.eth</td>\n",
       "      <td>FLUX</td>\n",
       "      <td></td>\n",
       "      <td>1</td>\n",
       "      <td>FLUX</td>\n",
       "      <td>[{'name': 'erc20-balance-of', 'params': {'symb...</td>\n",
       "      <td>[]</td>\n",
       "      <td>[]</td>\n",
       "      <td>{'minScore': 0, 'onlyMembers': False}</td>\n",
       "      <td>{}</td>\n",
       "    </tr>\n",
       "  </tbody>\n",
       "</table>\n",
       "</div>"
      ],
      "text/plain": [
       "                 id           name                                    about  \\\n",
       "0    bonustrack.eth             Hi                                            \n",
       "1        fabien.eth         Fabien  This is nothing more than a test space.   \n",
       "2          ichi.eth      ichi.farm                                            \n",
       "3  loyalfinance.eth  loyal.finance                                            \n",
       "4       damflux.eth           FLUX                                            \n",
       "\n",
       "  network     symbol                                         strategies  \\\n",
       "0       1     TICKET  [{'name': 'ticket', 'params': {'symbol': 'TICK...   \n",
       "1       1      POINT  [{'name': 'ticket', 'params': {'value': 100, '...   \n",
       "2       1  ICHIPOWAH  [{'name': 'erc20-balance-of', 'params': {'symb...   \n",
       "3       1       rLYL  [{'name': 'erc20-balance-of', 'params': {'symb...   \n",
       "4       1       FLUX  [{'name': 'erc20-balance-of', 'params': {'symb...   \n",
       "\n",
       "                                              admins  \\\n",
       "0                                                 []   \n",
       "1  [0xeF8305E140ac520225DAf050e2f71d5fBcC543e7, 0...   \n",
       "2                                                 []   \n",
       "3                                                 []   \n",
       "4                                                 []   \n",
       "\n",
       "                                             members  \\\n",
       "0  [0x24A12Fa313F57aF541d447c594072A992c605DCf, 0...   \n",
       "1       [0xeF8305E140ac520225DAf050e2f71d5fBcC543e7]   \n",
       "2       [0x873902a3c0731EcC1F2075435FE035ACCeEd5459]   \n",
       "3                                                 []   \n",
       "4                                                 []   \n",
       "\n",
       "                                 filters  \\\n",
       "0  {'minScore': 0, 'onlyMembers': False}   \n",
       "1  {'minScore': 1, 'onlyMembers': False}   \n",
       "2  {'minScore': 0, 'onlyMembers': False}   \n",
       "3  {'minScore': 0, 'onlyMembers': False}   \n",
       "4  {'minScore': 0, 'onlyMembers': False}   \n",
       "\n",
       "                                             plugins  \n",
       "0  {'safeSnap': {'address': '0xeF8305E140ac520225...  \n",
       "1  {'safeSnap': {'safes': [{'network': '4', 'real...  \n",
       "2                                                 {}  \n",
       "3                                                 {}  \n",
       "4                                                 {}  "
      ]
     },
     "execution_count": 25,
     "metadata": {},
     "output_type": "execute_result"
    }
   ],
   "source": [
    "df.head()\n"
   ]
  },
  {
   "cell_type": "markdown",
   "metadata": {},
   "source": [
    "Now let's create a function to make our life easier.\n",
    "\n",
    "The function `gql_all` will fetch all paginated responses from an endpoint until it returns an empty response.\n",
    "\n",
    "_Notice:_ the _async_ keyword and the _try/except_ statement"
   ]
  },
  {
   "cell_type": "code",
   "execution_count": null,
   "metadata": {},
   "outputs": [],
   "source": [
    "async def gql_all(query, field, first=1000, skip=0, initial_list=None, \n",
    "                  counter = True):\n",
    "\n",
    "    out = []\n",
    "    \n",
    "    if initial_list:\n",
    "        out = initial_list\n",
    "        skip = len(out)\n",
    "\n",
    "    fetch = True\n",
    "    try:\n",
    "        while fetch:\n",
    "            vars = {\"first\": first, \"skip\": skip}\n",
    "            res = await client.execute_async(query, variable_values=vars)\n",
    "            # print(type(res))\n",
    "            # print(res)\n",
    "            \n",
    "            if not res[field]:\n",
    "                print('**I am done fetching!**')\n",
    "                fetch = False\n",
    "            else:\n",
    "                out.extend(res[field])\n",
    "                skip += first# fetch = False\n",
    "                if counter: print(len(out))\n",
    "    except:\n",
    "        print(\"**An error occurred, exiting early.**\")\n",
    "    \n",
    "    return out"
   ]
  },
  {
   "cell_type": "code",
   "execution_count": null,
   "metadata": {},
   "outputs": [],
   "source": [
    "res = await gql_all(spaces_query, \"spaces\")"
   ]
  },
  {
   "cell_type": "code",
   "execution_count": null,
   "metadata": {},
   "outputs": [],
   "source": [
    "res"
   ]
  }
 ],
 "metadata": {
  "kernelspec": {
   "display_name": "Python 3 (ipykernel)",
   "language": "python",
   "name": "python3"
  },
  "language_info": {
   "codemirror_mode": {
    "name": "ipython",
    "version": 3
   },
   "file_extension": ".py",
   "mimetype": "text/x-python",
   "name": "python",
   "nbconvert_exporter": "python",
   "pygments_lexer": "ipython3",
   "version": "3.9.10"
  },
  "vscode": {
   "interpreter": {
    "hash": "c32e70da788b7e7a251586b987d2c569d373765eb2af3ced0674c402bf99c5a2"
   }
  }
 },
 "nbformat": 4,
 "nbformat_minor": 4
}
